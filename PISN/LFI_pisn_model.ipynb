{
 "cells": [
  {
   "cell_type": "code",
   "execution_count": 1,
   "metadata": {
    "collapsed": true,
    "slideshow": {
     "slide_type": "-"
    }
   },
   "outputs": [],
   "source": [
    "import numpy as np\n",
    "import scipy.integrate as integrate\n",
    "import pydelfi.ndes as ndes\n",
    "import pydelfi.delfi as delfi\n",
    "import pydelfi.score as score\n",
    "import pydelfi.priors as priors\n",
    "import tensorflow as tf\n",
    "import h5py\n",
    "import tqdm\n",
    "from astropy.cosmology import Planck15, z_at_value, FlatwCDM\n",
    "import astropy.units as u\n",
    "from scipy.integrate import cumtrapz\n",
    "from scipy.interpolate import RectBivariateSpline, interp1d\n",
    "from true_params import true_params, uncert, ifo\n",
    "tf.logging.set_verbosity(tf.logging.ERROR)\n",
    "import matplotlib\n",
    "matplotlib.use('TkAgg')\n",
    "import matplotlib.pyplot as plt\n",
    "%matplotlib inline"
   ]
  },
  {
   "cell_type": "markdown",
   "metadata": {
    "slideshow": {
     "slide_type": "slide"
    }
   },
   "source": [
    "## Set up the simulator\n",
    "This must have the signature `simulator(parameters, seed, args, batch)` -> `np.array([batch, ndata])`"
   ]
  },
  {
   "cell_type": "code",
   "execution_count": 2,
   "metadata": {
    "collapsed": true
   },
   "outputs": [],
   "source": [
    "with h5py.File('/Users/hyraland/Projects/GW/Cosmology/PISNLineCosmography/thetas.h5', 'r') as f:\n",
    "    thetas = np.array(f['Theta'])\n",
    "thetas = np.sort(np.concatenate((thetas, [0,1])))\n",
    "ticum = interp1d(np.linspace(0, 1, len(thetas)), thetas)\n",
    "\n",
    "with h5py.File('/Users/hyraland/Projects/GW/Cosmology/PISNLineCosmography/optimal_snr.h5', 'r') as f:\n",
    "    ms = np.array(f['ms'])\n",
    "    rhos = np.array(f['SNR'])\n",
    "oint = RectBivariateSpline(ms, ms, rhos)"
   ]
  },
  {
   "cell_type": "code",
   "execution_count": 3,
   "metadata": {
    "collapsed": true
   },
   "outputs": [],
   "source": [
    "def optimal_snr(m1obs, m2obs, dl):\n",
    "    return oint.ev(m1obs, m2obs)/dl\n",
    "\n",
    "zMax = 2 # determined based on making sure the observed redshift distribution tails off completely\n",
    "z = np.expm1(np.linspace(np.log(1), np.log(zMax+1), 1000))\n",
    "\n",
    "def event(h0, omegam, om, z):\n",
    "# # Use this for parameter dependent distribution\n",
    "    cosm = FlatwCDM(h0, omegam, om)\n",
    "    dNdz = 4.0*np.pi*true_params['R0']*(1+z)**(true_params['gamma']-1)*cosm.differential_comoving_volume(z).to(u.Gpc**3/u.sr).value\n",
    "\n",
    "    Nperyear = np.trapz(dNdz, z)\n",
    "    Nz = cumtrapz(dNdz, z, initial=0)\n",
    "\n",
    "    z_icdf = interp1d(Nz/Nperyear, z)\n",
    "\n",
    "    return Nperyear, Nz, z_icdf\n",
    "\n",
    "mmin = true_params['MMin']\n",
    "mmax = true_params['MMax']\n",
    "\n",
    "def draw_pl(x0, x1, alpha, N):\n",
    "    r = np.random.rand(N)\n",
    "    opa = 1+alpha\n",
    "    return (x0**opa*(1-r) + x1**opa*r)**(1/opa)\n",
    "\n",
    "def draw_truth(z_icdf, N, alpha, beta, mmin, mmax):\n",
    "    m2 = np.linspace(1.0,1.0,N)\n",
    "    m1 = np.linspace(0.0,0.0,N)\n",
    "    #print('draw truth for start')\n",
    "    while np.any(m2 > m1):\n",
    "        sel = m2 > m1\n",
    "        m1[sel] = draw_pl(mmin,mmax,-alpha,len(m1[sel]))\n",
    "        m2[sel] = draw_pl(mmin,mmax,beta,len(m2[sel]))\n",
    "\n",
    "    #print('draw truth for end')\n",
    "    z = z_icdf(np.random.rand(N))\n",
    "    t = ticum(np.random.rand(N))\n",
    "    \n",
    "    return (m1, m2, z, t)\n",
    "\n",
    "def observe(h0, omegam, om, m1, m2, z, t, N0):\n",
    "    #print('observe using N0')\n",
    "    cosm = FlatwCDM(h0, omegam, om)\n",
    "    m1obs = m1*(1+z)\n",
    "    m2obs = m2*(1+z)\n",
    "    z0 = np.expm1(np.linspace(np.log(1), np.log(3), 1000))\n",
    "    d = cosm.luminosity_distance(z0).to(u.Gpc).value\n",
    "    d_of_z = interp1d(z0, d)\n",
    "    dl = d_of_z(z) # cosm.luminosity_distance(z).to(u.Gpc).value\n",
    "    rho = optimal_snr(m1obs, m2obs, dl)*t\n",
    "    \n",
    "    rho_obs = rho + np.random.randn(N0)\n",
    "    sel = rho_obs > 8\n",
    "    #print('observe using N0 over')\n",
    "    m1obs = m1obs[sel]\n",
    "    m2obs = m2obs[sel]\n",
    "    dl = dl[sel]\n",
    "    rho_obs = rho_obs[sel]\n",
    "    ttrue = t[sel]\n",
    "    \n",
    "    mt = m1obs+m2obs\n",
    "    eta = m1obs*m2obs/(mt*mt)\n",
    "    mc = mt*eta**(3.0/5.0)\n",
    "    N = len(dl)\n",
    "\n",
    "    smc = abs(uncert['threshold_snr']/rho_obs*uncert['mc'])    \n",
    "    mcobs = np.random.lognormal(mean=np.log(mc), sigma=smc)\n",
    "    \n",
    "    seta = uncert['threshold_snr']/rho_obs*uncert['eta']\n",
    "    etaobs = np.linspace(1,1,N)\n",
    "    for i in range(N):\n",
    "        while (etaobs[i] < 0) or (etaobs[i] > 0.25):\n",
    "            etaobs[i] = eta[i] + seta[i]*np.random.randn()\n",
    "        \n",
    "    st = uncert['threshold_snr']/rho_obs*uncert['Theta']\n",
    "    tobs = np.linspace(2,2,N)\n",
    "    for i in range(N):\n",
    "        while (tobs[i] < 0) or (tobs[i] > 1):\n",
    "            tobs[i] = ttrue[i] + st[i]*np.random.randn()\n",
    "\n",
    "    return ((mcobs, etaobs, rho_obs, tobs), (smc, seta, 1.0, st))\n",
    "\n",
    "def mc_eta_from_m1m2(m1, m2):\n",
    "    mt = m1+m2\n",
    "    eta = m1*m2/(mt*mt)\n",
    "    mc = mt*eta**(0.6)\n",
    "    return mc, eta\n",
    "def m1m2_from_mc_eta(mc, eta):\n",
    "    mt = mc/eta**(0.6)\n",
    "    \n",
    "    disc = 1-4*eta\n",
    "    sd = np.sqrt(disc)\n",
    "    m1 = 0.5*mt*(1+sd)\n",
    "    m2 = 0.5*mt*(1-sd)\n",
    "    return m1, m2\n",
    "\n",
    "def dl_from_rho(tobs, rhoobs, m1obs, m2obs):\n",
    "    return tobs*oint.ev(m1obs, m2obs)/rhoobs\n"
   ]
  },
  {
   "cell_type": "code",
   "execution_count": 4,
   "metadata": {
    "collapsed": true
   },
   "outputs": [],
   "source": [
    "def cd(n, d):\n",
    "    d = array(d)\n",
    "    out.create_dataset(n, data=d, compression='gzip', shuffle=True)\n",
    "\n",
    "def get_obsdata(h0, omegam, om, alpha, beta, mmin, mmax, Nperyear, z_icdf, seed):\n",
    "    \n",
    "    old_state = np.random.get_state()\n",
    "    np.random.seed(seed)\n",
    "\n",
    "    Nsmall_tot = np.random.poisson(Nperyear/12.0) # One month\n",
    "    N1yr_tot = Nsmall_tot + np.random.poisson(Nperyear*(1-1/12.0)) # One year\n",
    "    N5yr_tot = N1yr_tot + np.random.poisson(Nperyear*4) # Five years\n",
    "    m1s, m2s, zs, thetas = draw_truth(z_icdf, N1yr_tot, alpha, beta, mmin, mmax)\n",
    "    (mcobs, etaobs, rhoobs, tobs), (smc, seta, srh, st) = observe(h0, omegam, om, m1s, m2s, zs, thetas, N1yr_tot)\n",
    "\n",
    "    return (mcobs, etaobs, rhoobs, tobs)"
   ]
  },
  {
   "cell_type": "code",
   "execution_count": 5,
   "metadata": {
    "collapsed": true
   },
   "outputs": [],
   "source": [
    "# different way of binning data from LFI_pisn_model\n",
    "\n",
    "def bin_data(nbin, dl, m1, dlrange):\n",
    "\n",
    "    m90 = np.linspace(0, 0, nbin)\n",
    "    m50 = np.linspace(0, 0, nbin)\n",
    "    m90_dl = np.linspace(0, 0, nbin)\n",
    "    m50_dl = np.linspace(0, 0, nbin)\n",
    "\n",
    "    for j in range(nbin):\n",
    "        #m90_dl[j] = 0.5*(dlrange[j]+dlrange[j+1])\n",
    "        m_temp = []\n",
    "        m90_back = []\n",
    "        dl_temp = []\n",
    "\n",
    "        for i in range(len(dl[:])):\n",
    "            dl_t = dl[i]  \n",
    "            if dl_t > dlrange[j] and dl_t < dlrange[j+1]:\n",
    "                m_temp.append(m1[i])\n",
    "                m90_back.append(m1[i])\n",
    "                dl_temp.append(dl_t)\n",
    "        ind90 = int(len(m_temp)*0.9)\n",
    "        # print(j, ind90, len(m90_temp))\n",
    "        if len(m_temp)*0.9 < 1:\n",
    "            ind90 = 0\n",
    "\n",
    "        m90t = (np.sort(np.asarray(m_temp))[ind90])\n",
    "        dlind = np.where(m90_back == m90t)\n",
    "        dl90t = np.asarray(dl_temp)[dlind]\n",
    "        m50_dl[j] = np.mean(dl_temp)\n",
    "        m90_dl[j] = dl90t\n",
    "\n",
    "        m90[j] = m90t\n",
    "        m50[j] = np.mean(m_temp)\n",
    "    \n",
    "    return m90, m50, m90_dl, m50_dl\n",
    "    #return m1, dl\n",
    "    \n",
    "def bin_data_equinum(nbin, dl, m1):\n",
    "    nsample = len(m1)+0.0\n",
    "    nperbin = int(nsample/(nbin))\n",
    "    count = 0\n",
    "    \n",
    "    dlrange = np.linspace(0, 0, nbin+1)\n",
    "\n",
    "    m90 = np.linspace(0, 0, nbin)\n",
    "    m50 = np.linspace(0, 0, nbin)\n",
    "    m90_dl = np.linspace(0, 0, nbin)\n",
    "    m50_dl = np.linspace(0, 0, nbin)\n",
    "\n",
    "    pairdlm = sorted(zip(dl, m1))\n",
    "    m1sort = [x1 for _,x1 in pairdlm]\n",
    "    dlsort = [x2 for x2,_ in pairdlm]\n",
    "    dlrange[-1] = dlsort[-1]\n",
    "    for j in range(nbin):\n",
    "        m_temp = []\n",
    "        m90_back = []\n",
    "        dl_temp = []\n",
    "        for i in range(nperbin): \n",
    "            m_temp.append(m1sort[i+count*nperbin])\n",
    "            m90_back.append(m1sort[i+count*nperbin])\n",
    "            dl_temp.append(dlsort[i+count*nperbin])\n",
    "        ind90 = int(len(m_temp)*0.9)\n",
    "        #print(j, ind90, len(m90_temp))\n",
    "        if len(m_temp)*0.9 < 1:\n",
    "            ind90 = 0\n",
    "        m90t = (np.sort(np.asarray(m_temp))[ind90])\n",
    "        dlind = np.where(m90_back == m90t)\n",
    "        dl90t = np.asarray(dl_temp)[dlind]\n",
    "        m50_dl[j] =  np.mean(dl_temp)\n",
    "        m90_dl[j] =  dl90t\n",
    "\n",
    "        m90[j] = m90t\n",
    "        m50[j] = np.mean(m_temp)\n",
    "        dlrange[j] = dlsort[count*nperbin]\n",
    "        count += 1\n",
    "\n",
    "    return m90, m50, m90_dl, m50_dl, dlrange\n",
    "    "
   ]
  },
  {
   "cell_type": "code",
   "execution_count": 6,
   "metadata": {
    "collapsed": true
   },
   "outputs": [],
   "source": [
    "class PISN_Model():\n",
    "\n",
    "    def __init__(self, pisn_data_path = '/Users/hyraland/Projects/GW/Cosmology/PISNLineCosmography/'):\n",
    "\n",
    "        # Import data\n",
    "        self.theta_fiducial = np.array([Planck15.H0.value, Planck15.Om0, -1.0, true_params['alpha'], true_params['beta'], true_params['MMin'], true_params['MMax']])\n",
    "        Nperyear, Nz, z_icdf = event(self.theta_fiducial[0], self.theta_fiducial[1], self.theta_fiducial[2], z)\n",
    "\n",
    "        mcobs, etaobs, rhoobs, tobs = get_obsdata(self.theta_fiducial[0], self.theta_fiducial[1], self.theta_fiducial[2], self.theta_fiducial[3], self.theta_fiducial[4], self.theta_fiducial[5], self.theta_fiducial[6], Nperyear, z_icdf, 0)\n",
    "        mcobs = np.asarray(mcobs)\n",
    "        etaobs = np.asarray(etaobs)\n",
    "        rhoobs = np.asarray(rhoobs)\n",
    "        tobs = np.asarray(tobs)\n",
    "        m1s, m2s = m1m2_from_mc_eta(mcobs, etaobs)\n",
    "        dls = dl_from_rho(tobs, rhoobs, m1s, m2s)\n",
    "\n",
    "        self.nbin = 10\n",
    "        #dlran = np.linspace(0.001, 10, self.nbin+1)\n",
    "        #m90obs, m50obs, m90_dl, m50_dl = bin_data(self.nbin, dls, m1s, dlran)\n",
    "\n",
    "        m90obs, m50obs, m90_dl, m50_dl, dlran = bin_data_equinum(self.nbin, dls, m1s)  \n",
    "    \n",
    "        self.dlrange = dlran\n",
    "        #self.data = np.concatenate([m90obs, m50obs, m90_dl, m50_dl])\n",
    "        self.data = np.concatenate([m90obs, m90_dl])\n",
    "\n",
    "        self.aldata = m90_dl #np.concatenate([m90_dl, m50_dl])\n",
    "        # parameter sequences: h0, omegam, w, m90\n",
    "        self.npar = 3\n",
    "        # N data points\n",
    "        self.ndata = len(m90obs)\n",
    "\n",
    "    # Generate realisation of \\mu\n",
    "    def simulation(self, theta, seed):\n",
    "        cond = True\n",
    "        while cond == True:\n",
    "            try:\n",
    "        \n",
    "                Nperyear, Nz, z_icdf = event(theta[0], theta[1], theta[2], z)\n",
    "\n",
    "                mcobs, etaobs, rhoobs, tobs = get_obsdata(theta[0], theta[1], theta[2], theta[3], theta[4], theta[5], theta[6], Nperyear, z_icdf, seed)\n",
    "\n",
    "                mcobs = np.asarray(mcobs)\n",
    "                etaobs = np.asarray(etaobs)\n",
    "                rhoobs = np.asarray(rhoobs)\n",
    "                tobs = np.asarray(tobs)\n",
    "\n",
    "                m1s, m2s = m1m2_from_mc_eta(mcobs, etaobs)\n",
    "                dls = dl_from_rho(tobs, rhoobs, m1s, m2s)\n",
    "\n",
    "                m90obs, m50obs, m90_dl, m50_dl = bin_data(self.nbin, dls, m1s, self.dlrange)\n",
    "                cond = False\n",
    "            except IndexError:\n",
    "                cond = True\n",
    "                seed += 1\n",
    "\n",
    "        #return np.concatenate([m90obs, m50obs, m90_dl, m50_dl])\n",
    "        return np.concatenate([m90obs, m90_dl])    "
   ]
  },
  {
   "cell_type": "code",
   "execution_count": 7,
   "metadata": {
    "slideshow": {
     "slide_type": "-"
    }
   },
   "outputs": [
    {
     "data": {
      "text/plain": [
       "[<matplotlib.lines.Line2D at 0x10f3b15c0>]"
      ]
     },
     "execution_count": 7,
     "metadata": {},
     "output_type": "execute_result"
    },
    {
     "data": {
      "image/png": "[encoded data removed]",
      "text/plain": [
       "<Figure size 432x288 with 1 Axes>"
      ]
     },
     "metadata": {},
     "output_type": "display_data"
    }
   ],
   "source": [
    "PISNSimulator = PISN_Model()\n",
    "\n",
    "\n",
    "\n",
    "def simulator(theta, seed, simulator_args, batch):\n",
    "    \n",
    "    return PISNSimulator.simulation(theta, seed)\n",
    "\n",
    "\n",
    "simulator_args = None\n",
    "\n",
    "theta_fiducial = np.array([Planck15.H0.value, Planck15.Om0, -1.0, true_params['alpha'], true_params['beta'], true_params['MMin'], true_params['MMax']])\n",
    "plt.plot(PISNSimulator.aldata, PISNSimulator.data[0:PISNSimulator.ndata], 'k-')\n",
    "\n",
    "s = np.random.randint(1<<32)\n",
    "sim1 = simulator(theta_fiducial, s, None, 1)\n",
    "plt.plot(sim1[PISNSimulator.ndata:PISNSimulator.ndata*2], sim1[0:PISNSimulator.ndata], alpha = 0.3)\n",
    "\n",
    "s = np.random.randint(1<<32)\n",
    "sim2 = simulator(theta_fiducial, s, None, 1)\n",
    "plt.plot(sim2[PISNSimulator.ndata:PISNSimulator.ndata*2], sim2[0:PISNSimulator.ndata], alpha = 0.3)\n",
    "\n",
    "s = np.random.randint(1<<32)\n",
    "sim3 = simulator(theta_fiducial+np.array([0,0,0.5,0,0,0,0]), s, None, 1)\n",
    "plt.plot(sim3[PISNSimulator.ndata:PISNSimulator.ndata*2], sim3[0:PISNSimulator.ndata], '--')\n",
    "\n",
    "s = np.random.randint(1<<32)\n",
    "sim4 = simulator(theta_fiducial+np.array([0,0,-0.5,0,0,0,0]), s, None, 1)\n",
    "plt.plot(sim4[PISNSimulator.ndata:PISNSimulator.ndata*2], sim4[0:PISNSimulator.ndata], '-.')\n",
    "\n",
    "\n",
    "#plt.scatter(PISNSimulator.aldata, simulator(theta_fiducial+np.array([0,0,0.5,0,0,0,0]), s, None, 1)[0:PISNSimulator.ndata], alpha = 0.2)\n",
    "#plt.scatter(PISNSimulator.aldata, simulator(theta_fiducial+np.array([0,0,-0.5,0,0,0,0]), s, None, 1)[0:PISNSimulator.ndata], alpha = 0.2)"
   ]
  },
  {
   "cell_type": "markdown",
   "metadata": {
    "slideshow": {
     "slide_type": "slide"
    }
   },
   "source": [
    "## Set up the prior"
   ]
  },
  {
   "cell_type": "code",
   "execution_count": 8,
   "metadata": {
    "collapsed": true
   },
   "outputs": [],
   "source": [
    "prior_low = np.array([35.0, 0.0, -2.0, 0.3, -0.4, 0, 30])\n",
    "prior_high = np.array([140.0, 1.0, 0.0, 1.2, 0.4, 10, 60])\n",
    "\n",
    "# Use these priors if you just want to measure w:\n",
    "#prior_C = np.diag([(0.01*theta_fiducial[0])**2, (0.01*theta_fiducial[1])**2, 0.5**2, 10.0**2])\n",
    "\n",
    "# Use these priors if you don't want to measure w, but want to just constrain cosmology:\n",
    "prior_C = np.diag([15**2, 0.15**2, 0.5**2, 0.3**2, 0.2**2, 3**2, 20**2])\n",
    "\n",
    "# Om = Planck15.Om0\n",
    "# H0 = Planck15.H0.value\n",
    "# h0 = Planck15.H0.value/100\n",
    "\n",
    "# # Use this to include H0 Om covariance\n",
    "# Covhomh2 = np.diag([(0.01*H0)**2, (0.01*Om*h0**2)**2])\n",
    "# J = np.array([[1.0, 0.0], [2.0*Om*h0/100.0, h0**2]])# d(H0, Omh2)/d(H0, Om)\n",
    "# Jinv = np.linalg.inv(J)\n",
    "# Covhom = np.dot(Jinv.T, np.dot(Covhomh2, Jinv))\n",
    "\n",
    "# # Parameter order is H0, Om, w, m90\n",
    "# prior_C = np.diag([0.7**2, 0.**2, 0.5**2, 10.0**2])\n",
    "# prior_C[0:2, 0:2] = Covhom\n",
    "\n",
    "prior = priors.TruncatedGaussian(theta_fiducial, prior_C, prior_low, prior_high)\n"
   ]
  },
  {
   "cell_type": "markdown",
   "metadata": {
    "slideshow": {
     "slide_type": "slide"
    }
   },
   "source": [
    "## Set up the compressor\n",
    "Must have the signature `compressor(data, args)` -> `np.array([n_summaries])`<br>\n",
    "In this case we are going to do Gaussian score compression $$\\mathbf{t} = \\boldsymbol\\theta_* + \\mathbf{F}^{-1}\\nabla_\\theta^T\\boldsymbol\\mu_*\\mathbf{C}^{-1}(\\mathbf{d}-\\boldsymbol\\mu_*)$$ using the class `score.Gaussian`. For this we'll need some fiducial parameters, the mean its derivative at the fiducial parameters, the inverse covariance, and the inverse Fisher matrix"
   ]
  },
  {
   "cell_type": "code",
   "execution_count": 9,
   "metadata": {},
   "outputs": [
    {
     "data": {
      "application/vnd.jupyter.widget-view+json": {
       "model_id": "3a639668bd264127958970e5fad84e71"
      }
     },
     "metadata": {},
     "output_type": "display_data"
    },
    {
     "data": {
      "application/vnd.jupyter.widget-view+json": {
       "model_id": "f14733c817ad44408b5a9192c7a2082a"
      }
     },
     "metadata": {},
     "output_type": "display_data"
    },
    {
     "name": "stdout",
     "output_type": "stream",
     "text": [
      "\n"
     ]
    },
    {
     "data": {
      "image/png": "[encoded data removed]",
      "text/plain": [
       "<Figure size 432x288 with 1 Axes>"
      ]
     },
     "metadata": {},
     "output_type": "display_data"
    }
   ],
   "source": [
    "h = np.array(abs(theta_fiducial))*0.01\n",
    "h[4] = 0.01*0.4\n",
    "\n",
    "Compressor = score.Gaussian(len(PISNSimulator.data), theta_fiducial, prior_mean=theta_fiducial, prior_covariance=prior_C)\n",
    "Compressor.compute_mean_covariance(simulator = simulator, nsims = 100)\n",
    "Compressor.compute_derivatives(simulator = simulator, nsims = 100, h=h)\n",
    "Compressor.compute_fisher()\n",
    "Finv = Compressor.Finv\n",
    "\n",
    "def compressor(d, compressor_args):\n",
    "    return Compressor.scoreMLE(d)\n",
    "compressor_args=None\n",
    "\n",
    "plt.imshow(Compressor.C)\n",
    "plt.show()\n",
    "\n",
    "#print(Compressor.dmudt)"
   ]
  },
  {
   "cell_type": "code",
   "execution_count": 10,
   "metadata": {},
   "outputs": [
    {
     "data": {
      "text/plain": [
       "array([1.46658881, 0.00498273, 0.02877987, 0.01234189, 0.00716979,\n",
       "       0.092901  , 0.3295333 ])"
      ]
     },
     "execution_count": 10,
     "metadata": {},
     "output_type": "execute_result"
    }
   ],
   "source": [
    "\n",
    "np.sqrt(np.diag(Finv))"
   ]
  },
  {
   "cell_type": "code",
   "execution_count": 11,
   "metadata": {
    "collapsed": true
   },
   "outputs": [],
   "source": [
    "evals, evecs = np.linalg.eigh(Compressor.Finv)"
   ]
  },
  {
   "cell_type": "code",
   "execution_count": 12,
   "metadata": {},
   "outputs": [
    {
     "data": {
      "text/plain": [
       "(array([0.00449017, 0.00549755, 0.01181173, 0.02070328, 0.0915766 ,\n",
       "        0.18557581, 1.49188444]),\n",
       " array([[-8.41739914e-04,  7.43849569e-04, -3.62762597e-03,\n",
       "         -6.16200137e-03, -2.80101799e-02, -1.82496068e-01,\n",
       "          9.82780862e-01],\n",
       "        [-9.23184441e-01, -3.73103030e-01,  6.71818010e-02,\n",
       "          6.29919572e-02,  5.37552416e-03, -3.76446988e-03,\n",
       "         -4.11193643e-04],\n",
       "        [-1.43204296e-01,  1.61693672e-01, -1.70743720e-01,\n",
       "         -9.39458636e-01, -1.99756249e-01,  4.10585699e-02,\n",
       "         -4.83458460e-03],\n",
       "        [-1.52902233e-01,  2.51553655e-01, -9.25560799e-01,\n",
       "          2.37658766e-01, -1.17586926e-02,  7.58541497e-03,\n",
       "         -1.17423067e-03],\n",
       "        [-3.21488858e-01,  8.77835071e-01,  3.26908479e-01,\n",
       "          1.37890584e-01,  1.22412251e-02, -4.14518358e-03,\n",
       "          7.10632097e-04],\n",
       "        [-2.20593041e-02,  2.77595543e-02, -5.22765106e-02,\n",
       "         -1.94564049e-01,  9.67532805e-01, -1.48435130e-01,\n",
       "         -1.44062662e-03],\n",
       "        [ 1.23202910e-03,  2.11792379e-03, -7.43293424e-03,\n",
       "         -7.80013716e-03, -1.51248576e-01, -9.71023944e-01,\n",
       "         -1.84700501e-01]]))"
      ]
     },
     "execution_count": 12,
     "metadata": {},
     "output_type": "execute_result"
    }
   ],
   "source": [
    "np.sqrt(evals), evecs"
   ]
  },
  {
   "cell_type": "markdown",
   "metadata": {
    "slideshow": {
     "slide_type": "slide"
    }
   },
   "source": [
    "## Load in the compressed data"
   ]
  },
  {
   "cell_type": "code",
   "execution_count": 13,
   "metadata": {
    "collapsed": true
   },
   "outputs": [],
   "source": [
    "compressed_data = compressor(PISNSimulator.data, compressor_args)"
   ]
  },
  {
   "cell_type": "markdown",
   "metadata": {
    "slideshow": {
     "slide_type": "slide"
    }
   },
   "source": [
    "## Define ensemble of NDEs"
   ]
  },
  {
   "cell_type": "code",
   "execution_count": 14,
   "metadata": {},
   "outputs": [
    {
     "name": "stdout",
     "output_type": "stream",
     "text": [
      "\n",
      "WARNING: The TensorFlow contrib module will not be included in TensorFlow 2.0.\n",
      "For more information, please see:\n",
      "  * https://github.com/tensorflow/community/blob/master/rfcs/20180907-contrib-sunset.md\n",
      "  * https://github.com/tensorflow/addons\n",
      "If you depend on functionality not listed there, please file an issue.\n",
      "\n"
     ]
    }
   ],
   "source": [
    "NDEs = [ndes.MixtureDensityNetwork(n_parameters=7, n_data=7, n_components=1, n_hidden=[30,30], activations=[tf.tanh, tf.tanh], index=0),\n",
    "       ndes.MixtureDensityNetwork(n_parameters=7, n_data=7, n_components=2, n_hidden=[30,30], activations=[tf.tanh, tf.tanh], index=1),\n",
    "       ndes.MixtureDensityNetwork(n_parameters=7, n_data=7, n_components=3, n_hidden=[30,30], activations=[tf.tanh, tf.tanh], index=2),\n",
    "       ndes.MixtureDensityNetwork(n_parameters=7, n_data=7, n_components=4, n_hidden=[30,30], activations=[tf.tanh, tf.tanh], index=3),\n",
    "       ndes.MixtureDensityNetwork(n_parameters=7, n_data=7, n_components=5, n_hidden=[30,30], activations=[tf.tanh, tf.tanh], index=4),\n",
    "       ndes.ConditionalMaskedAutoregressiveFlow(n_parameters=7, n_data=7, n_hiddens=[50,50], n_mades=5, act_fun=tf.tanh, index=5)]"
   ]
  },
  {
   "cell_type": "markdown",
   "metadata": {
    "slideshow": {
     "slide_type": "slide"
    }
   },
   "source": [
    "## Create DELFI object"
   ]
  },
  {
   "cell_type": "code",
   "execution_count": 15,
   "metadata": {
    "collapsed": true
   },
   "outputs": [],
   "source": [
    "DelfiEnsemble = delfi.Delfi(compressed_data, prior, NDEs, \n",
    "                            Finv = Finv, \n",
    "                            theta_fiducial = theta_fiducial, \n",
    "                            param_limits = [prior_low, prior_high],\n",
    "                            param_names = ['h_0', 'Omega_0', 'w', 'alpha', 'beta', 'Mmin', 'Mmax'], \n",
    "                            results_dir = \"results/\",\n",
    "                            input_normalization=\"fisher\")"
   ]
  },
  {
   "cell_type": "markdown",
   "metadata": {
    "slideshow": {
     "slide_type": "slide"
    }
   },
   "source": [
    "## Fisher pre-training to initialize the NDEs"
   ]
  },
  {
   "cell_type": "code",
   "execution_count": 16,
   "metadata": {},
   "outputs": [
    {
     "name": "stderr",
     "output_type": "stream",
     "text": [
      "Training: 100%|██████████| 300/300 [02:32<00:00,  3.43it/s, train loss=63.9, val loss=64.3, refresh=1]       \n",
      "Training:   0%|          | 0/300 [00:00<?, ?it/s]\u001b[A\n",
      "Training:   0%|          | 1/300 [00:00<03:49,  1.31it/s, train loss=0, val loss=0, refresh=1]\u001b[A\n",
      "Training:   1%|          | 2/300 [00:01<04:14,  1.17it/s, train loss=3.34e+03, val loss=3.37e+03, refresh=1]\u001b[A\n",
      "Training:   1%|          | 3/300 [00:02<04:09,  1.19it/s, train loss=2.74e+03, val loss=2.79e+03, refresh=1]\u001b[A\n",
      "Training:   1%|▏         | 4/300 [00:03<04:06,  1.20it/s, train loss=2.54e+03, val loss=2.61e+03, refresh=1]\u001b[A\n",
      "Training:   2%|▏         | 5/300 [00:04<04:02,  1.22it/s, train loss=2.45e+03, val loss=2.53e+03, refresh=1]\u001b[A\n",
      "Training:   2%|▏         | 6/300 [00:05<03:58,  1.23it/s, train loss=2.4e+03, val loss=2.48e+03, refresh=1] \u001b[A\n",
      "Training:   2%|▏         | 7/300 [00:05<03:55,  1.24it/s, train loss=2.37e+03, val loss=2.45e+03, refresh=1]\u001b[A\n",
      "Training:   3%|▎         | 8/300 [00:06<03:57,  1.23it/s, train loss=2.36e+03, val loss=2.43e+03, refresh=1]\u001b[A\n",
      "Training: 100%|██████████| 300/300 [03:05<00:00,  2.24it/s, train loss=67.4, val loss=71.5, refresh=1]       \n",
      "Training:   0%|          | 0/300 [00:00<?, ?it/s]\u001b[A\n",
      "Training: 100%|██████████| 300/300 [03:44<00:00,  1.86it/s, train loss=71.7, val loss=74.1, refresh=1]       \n",
      "Training:   0%|          | 0/300 [00:00<?, ?it/s]\u001b[A\n",
      "Training:   0%|          | 1/300 [00:00<04:25,  1.13it/s, train loss=0, val loss=0, refresh=1]\u001b[A\n",
      "Training:   1%|          | 2/300 [00:02<04:52,  1.02it/s, train loss=3.22e+03, val loss=3.14e+03, refresh=1]\u001b[A\n",
      "Training:   1%|          | 3/300 [00:03<04:49,  1.02it/s, train loss=2.72e+03, val loss=2.71e+03, refresh=1]\u001b[A\n",
      "Training:   1%|▏         | 4/300 [00:04<04:46,  1.03it/s, train loss=2.55e+03, val loss=2.56e+03, refresh=1]\u001b[A\n",
      "Training:   2%|▏         | 5/300 [00:04<04:44,  1.04it/s, train loss=2.47e+03, val loss=2.49e+03, refresh=1]\u001b[A\n",
      "Training: 100%|██████████| 300/300 [03:47<00:00,  1.38it/s, train loss=74.2, val loss=78.5, refresh=1]       \n",
      "Training:   0%|          | 0/300 [00:00<?, ?it/s]\u001b[A\n",
      "Training:   0%|          | 1/300 [00:01<05:41,  1.14s/it, train loss=0, val loss=0, refresh=1]\u001b[A\n",
      "Training:   1%|          | 2/300 [00:02<05:57,  1.20s/it, train loss=3.12e+03, val loss=3.27e+03, refresh=1]\u001b[A\n",
      "Training:   1%|          | 3/300 [00:03<05:47,  1.17s/it, train loss=2.67e+03, val loss=2.86e+03, refresh=1]\u001b[A\n",
      "Training:   1%|▏         | 4/300 [00:04<05:42,  1.16s/it, train loss=2.51e+03, val loss=2.7e+03, refresh=1] \u001b[A\n",
      "Training:   2%|▏         | 5/300 [00:05<05:37,  1.14s/it, train loss=2.44e+03, val loss=2.63e+03, refresh=1]\u001b[A\n",
      "Training:   2%|▏         | 6/300 [00:07<05:43,  1.17s/it, train loss=2.41e+03, val loss=2.59e+03, refresh=1]\u001b[A\n",
      "Training: 100%|██████████| 300/300 [04:09<00:00,  2.06it/s, train loss=77.6, val loss=86.3, refresh=1]       \n",
      "Training:   0%|          | 0/300 [00:00<?, ?it/s]\u001b[A\n",
      "Training:   0%|          | 1/300 [00:01<06:43,  1.35s/it, train loss=0, val loss=0, refresh=1]\u001b[A\n",
      "Training:   1%|          | 2/300 [00:02<06:51,  1.38s/it, train loss=1.85e+05, val loss=2.1e+05, refresh=1]\u001b[A\n",
      "Training:   1%|          | 3/300 [00:03<06:26,  1.30s/it, train loss=6.93e+04, val loss=7.95e+04, refresh=1]\u001b[A\n",
      "Training:   1%|▏         | 4/300 [00:05<06:15,  1.27s/it, train loss=3.5e+04, val loss=4.07e+04, refresh=1] \u001b[A\n",
      "Training:   2%|▏         | 5/300 [00:06<06:08,  1.25s/it, train loss=2.08e+04, val loss=2.43e+04, refresh=1]\u001b[A\n",
      "Training:   2%|▏         | 6/300 [00:07<06:00,  1.23s/it, train loss=1.38e+04, val loss=1.61e+04, refresh=1]\u001b[A\n",
      "Training: 100%|██████████| 300/300 [04:13<00:00,  2.62it/s, train loss=41.5, val loss=57.2, refresh=1]       "
     ]
    },
    {
     "name": "stdout",
     "output_type": "stream",
     "text": [
      "Sampling approximate posterior...\n",
      "emcee: Exception while calling your likelihood function:\n",
      "  params: [ 7.07536241e+01  3.16198997e-01 -9.91992022e-01  7.39487178e-01\n",
      " -9.10531318e-03  5.03861201e+00  4.44232234e+01]\n",
      "  args: []\n",
      "  kwargs: {}\n",
      "  exception:\n"
     ]
    },
    {
     "name": "stderr",
     "output_type": "stream",
     "text": [
      "Traceback (most recent call last):\n",
      "  File \"/Users/hyraland/anaconda/lib/python3.6/site-packages/emcee-3.0rc2-py3.6.egg/emcee/ensemble.py\", line 495, in __call__\n",
      "    return self.f(x, *self.args, **self.kwargs)\n",
      "TypeError: log_posterior_stacked() missing 1 required positional argument: 'data'\n"
     ]
    },
    {
     "ename": "TypeError",
     "evalue": "log_posterior_stacked() missing 1 required positional argument: 'data'",
     "output_type": "error",
     "traceback": [
      "\u001b[0;31m---------------------------------------------------------------------------\u001b[0m",
      "\u001b[0;31mTypeError\u001b[0m                                 Traceback (most recent call last)",
      "\u001b[0;32m<ipython-input-16-2767d56e396a>\u001b[0m in \u001b[0;36m<module>\u001b[0;34m()\u001b[0m\n\u001b[0;32m----> 1\u001b[0;31m \u001b[0mDelfiEnsemble\u001b[0m\u001b[0;34m.\u001b[0m\u001b[0mfisher_pretraining\u001b[0m\u001b[0;34m(\u001b[0m\u001b[0;34m)\u001b[0m\u001b[0;34m\u001b[0m\u001b[0m\n\u001b[0m",
      "\u001b[0;32m/Users/hyraland/anaconda/lib/python3.6/site-packages/pydelfi-0.1-py3.6.egg/pydelfi/delfi.py\u001b[0m in \u001b[0;36mfisher_pretraining\u001b[0;34m(self, n_batch, plot, batch_size, validation_split, epochs, patience)\u001b[0m\n\u001b[1;32m    609\u001b[0m                 self.posterior_samples = self.emcee_sample(log_likelihood=self.log_posterior_stacked, \\\n\u001b[1;32m    610\u001b[0m                                       \u001b[0mx0\u001b[0m\u001b[0;34m=\u001b[0m\u001b[0;34m[\u001b[0m\u001b[0mself\u001b[0m\u001b[0;34m.\u001b[0m\u001b[0mposterior_samples\u001b[0m\u001b[0;34m[\u001b[0m\u001b[0mj\u001b[0m\u001b[0;34m]\u001b[0m \u001b[0;32mfor\u001b[0m \u001b[0mj\u001b[0m \u001b[0;32min\u001b[0m \u001b[0mrange\u001b[0m\u001b[0;34m(\u001b[0m\u001b[0mself\u001b[0m\u001b[0;34m.\u001b[0m\u001b[0mnwalkers\u001b[0m\u001b[0;34m)\u001b[0m\u001b[0;34m]\u001b[0m\u001b[0;34m,\u001b[0m\u001b[0;31m \u001b[0m\u001b[0;31m\\\u001b[0m\u001b[0;34m\u001b[0m\u001b[0m\n\u001b[0;32m--> 611\u001b[0;31m                                       main_chain=self.posterior_chain_length)\n\u001b[0m\u001b[1;32m    612\u001b[0m                 \u001b[0mprint\u001b[0m\u001b[0;34m(\u001b[0m\u001b[0;34m'Done.'\u001b[0m\u001b[0;34m)\u001b[0m\u001b[0;34m\u001b[0m\u001b[0m\n\u001b[1;32m    613\u001b[0m \u001b[0;34m\u001b[0m\u001b[0m\n",
      "\u001b[0;32m/Users/hyraland/anaconda/lib/python3.6/site-packages/pydelfi-0.1-py3.6.egg/pydelfi/delfi.py\u001b[0m in \u001b[0;36memcee_sample\u001b[0;34m(self, log_likelihood, x0, burn_in_chain, main_chain)\u001b[0m\n\u001b[1;32m    348\u001b[0m \u001b[0;34m\u001b[0m\u001b[0m\n\u001b[1;32m    349\u001b[0m         \u001b[0;31m# Burn-in chain\u001b[0m\u001b[0;34m\u001b[0m\u001b[0;34m\u001b[0m\u001b[0m\n\u001b[0;32m--> 350\u001b[0;31m         \u001b[0mpos\u001b[0m\u001b[0;34m,\u001b[0m \u001b[0mprob\u001b[0m\u001b[0;34m,\u001b[0m \u001b[0mstate\u001b[0m \u001b[0;34m=\u001b[0m \u001b[0msampler\u001b[0m\u001b[0;34m.\u001b[0m\u001b[0mrun_mcmc\u001b[0m\u001b[0;34m(\u001b[0m\u001b[0mx0\u001b[0m\u001b[0;34m,\u001b[0m \u001b[0mburn_in_chain\u001b[0m\u001b[0;34m)\u001b[0m\u001b[0;34m\u001b[0m\u001b[0m\n\u001b[0m\u001b[1;32m    351\u001b[0m         \u001b[0msampler\u001b[0m\u001b[0;34m.\u001b[0m\u001b[0mreset\u001b[0m\u001b[0;34m(\u001b[0m\u001b[0;34m)\u001b[0m\u001b[0;34m\u001b[0m\u001b[0m\n\u001b[1;32m    352\u001b[0m \u001b[0;34m\u001b[0m\u001b[0m\n",
      "\u001b[0;32m/Users/hyraland/anaconda/lib/python3.6/site-packages/emcee-3.0rc2-py3.6.egg/emcee/ensemble.py\u001b[0m in \u001b[0;36mrun_mcmc\u001b[0;34m(self, initial_state, nsteps, **kwargs)\u001b[0m\n\u001b[1;32m    340\u001b[0m \u001b[0;34m\u001b[0m\u001b[0m\n\u001b[1;32m    341\u001b[0m         \u001b[0mresults\u001b[0m \u001b[0;34m=\u001b[0m \u001b[0;32mNone\u001b[0m\u001b[0;34m\u001b[0m\u001b[0m\n\u001b[0;32m--> 342\u001b[0;31m         \u001b[0;32mfor\u001b[0m \u001b[0mresults\u001b[0m \u001b[0;32min\u001b[0m \u001b[0mself\u001b[0m\u001b[0;34m.\u001b[0m\u001b[0msample\u001b[0m\u001b[0;34m(\u001b[0m\u001b[0minitial_state\u001b[0m\u001b[0;34m,\u001b[0m \u001b[0miterations\u001b[0m\u001b[0;34m=\u001b[0m\u001b[0mnsteps\u001b[0m\u001b[0;34m,\u001b[0m \u001b[0;34m**\u001b[0m\u001b[0mkwargs\u001b[0m\u001b[0;34m)\u001b[0m\u001b[0;34m:\u001b[0m\u001b[0;34m\u001b[0m\u001b[0m\n\u001b[0m\u001b[1;32m    343\u001b[0m             \u001b[0;32mpass\u001b[0m\u001b[0;34m\u001b[0m\u001b[0m\n\u001b[1;32m    344\u001b[0m \u001b[0;34m\u001b[0m\u001b[0m\n",
      "\u001b[0;32m/Users/hyraland/anaconda/lib/python3.6/site-packages/emcee-3.0rc2-py3.6.egg/emcee/ensemble.py\u001b[0m in \u001b[0;36msample\u001b[0;34m(self, initial_state, log_prob0, rstate0, blobs0, iterations, tune, thin_by, thin, store, progress)\u001b[0m\n\u001b[1;32m    242\u001b[0m             \u001b[0mstate\u001b[0m\u001b[0;34m.\u001b[0m\u001b[0mblobs\u001b[0m \u001b[0;34m=\u001b[0m \u001b[0mblobs0\u001b[0m\u001b[0;34m\u001b[0m\u001b[0m\n\u001b[1;32m    243\u001b[0m         \u001b[0;32mif\u001b[0m \u001b[0mstate\u001b[0m\u001b[0;34m.\u001b[0m\u001b[0mlog_prob\u001b[0m \u001b[0;32mis\u001b[0m \u001b[0;32mNone\u001b[0m\u001b[0;34m:\u001b[0m\u001b[0;34m\u001b[0m\u001b[0m\n\u001b[0;32m--> 244\u001b[0;31m             \u001b[0mstate\u001b[0m\u001b[0;34m.\u001b[0m\u001b[0mlog_prob\u001b[0m\u001b[0;34m,\u001b[0m \u001b[0mstate\u001b[0m\u001b[0;34m.\u001b[0m\u001b[0mblobs\u001b[0m \u001b[0;34m=\u001b[0m \u001b[0mself\u001b[0m\u001b[0;34m.\u001b[0m\u001b[0mcompute_log_prob\u001b[0m\u001b[0;34m(\u001b[0m\u001b[0mstate\u001b[0m\u001b[0;34m.\u001b[0m\u001b[0mcoords\u001b[0m\u001b[0;34m)\u001b[0m\u001b[0;34m\u001b[0m\u001b[0m\n\u001b[0m\u001b[1;32m    245\u001b[0m         \u001b[0;32mif\u001b[0m \u001b[0mnp\u001b[0m\u001b[0;34m.\u001b[0m\u001b[0mshape\u001b[0m\u001b[0;34m(\u001b[0m\u001b[0mstate\u001b[0m\u001b[0;34m.\u001b[0m\u001b[0mlog_prob\u001b[0m\u001b[0;34m)\u001b[0m \u001b[0;34m!=\u001b[0m \u001b[0;34m(\u001b[0m\u001b[0mself\u001b[0m\u001b[0;34m.\u001b[0m\u001b[0mnwalkers\u001b[0m\u001b[0;34m,\u001b[0m \u001b[0;34m)\u001b[0m\u001b[0;34m:\u001b[0m\u001b[0;34m\u001b[0m\u001b[0m\n\u001b[1;32m    246\u001b[0m             \u001b[0;32mraise\u001b[0m \u001b[0mValueError\u001b[0m\u001b[0;34m(\u001b[0m\u001b[0;34m\"incompatible input dimensions\"\u001b[0m\u001b[0;34m)\u001b[0m\u001b[0;34m\u001b[0m\u001b[0m\n",
      "\u001b[0;32m/Users/hyraland/anaconda/lib/python3.6/site-packages/emcee-3.0rc2-py3.6.egg/emcee/ensemble.py\u001b[0m in \u001b[0;36mcompute_log_prob\u001b[0;34m(self, coords)\u001b[0m\n\u001b[1;32m    383\u001b[0m                 \u001b[0mmap_func\u001b[0m \u001b[0;34m=\u001b[0m \u001b[0mmap\u001b[0m\u001b[0;34m\u001b[0m\u001b[0m\n\u001b[1;32m    384\u001b[0m             results = list(map_func(self.log_prob_fn,\n\u001b[0;32m--> 385\u001b[0;31m                                     (p[i] for i in range(len(p)))))\n\u001b[0m\u001b[1;32m    386\u001b[0m \u001b[0;34m\u001b[0m\u001b[0m\n\u001b[1;32m    387\u001b[0m         \u001b[0;32mtry\u001b[0m\u001b[0;34m:\u001b[0m\u001b[0;34m\u001b[0m\u001b[0m\n",
      "\u001b[0;32m/Users/hyraland/anaconda/lib/python3.6/site-packages/emcee-3.0rc2-py3.6.egg/emcee/ensemble.py\u001b[0m in \u001b[0;36m__call__\u001b[0;34m(self, x)\u001b[0m\n\u001b[1;32m    493\u001b[0m     \u001b[0;32mdef\u001b[0m \u001b[0m__call__\u001b[0m\u001b[0;34m(\u001b[0m\u001b[0mself\u001b[0m\u001b[0;34m,\u001b[0m \u001b[0mx\u001b[0m\u001b[0;34m)\u001b[0m\u001b[0;34m:\u001b[0m\u001b[0;34m\u001b[0m\u001b[0m\n\u001b[1;32m    494\u001b[0m         \u001b[0;32mtry\u001b[0m\u001b[0;34m:\u001b[0m\u001b[0;34m\u001b[0m\u001b[0m\n\u001b[0;32m--> 495\u001b[0;31m             \u001b[0;32mreturn\u001b[0m \u001b[0mself\u001b[0m\u001b[0;34m.\u001b[0m\u001b[0mf\u001b[0m\u001b[0;34m(\u001b[0m\u001b[0mx\u001b[0m\u001b[0;34m,\u001b[0m \u001b[0;34m*\u001b[0m\u001b[0mself\u001b[0m\u001b[0;34m.\u001b[0m\u001b[0margs\u001b[0m\u001b[0;34m,\u001b[0m \u001b[0;34m**\u001b[0m\u001b[0mself\u001b[0m\u001b[0;34m.\u001b[0m\u001b[0mkwargs\u001b[0m\u001b[0;34m)\u001b[0m\u001b[0;34m\u001b[0m\u001b[0m\n\u001b[0m\u001b[1;32m    496\u001b[0m         \u001b[0;32mexcept\u001b[0m\u001b[0;34m:\u001b[0m  \u001b[0;31m# pragma: no cover\u001b[0m\u001b[0;34m\u001b[0m\u001b[0m\n\u001b[1;32m    497\u001b[0m             \u001b[0;32mimport\u001b[0m \u001b[0mtraceback\u001b[0m\u001b[0;34m\u001b[0m\u001b[0m\n",
      "\u001b[0;31mTypeError\u001b[0m: log_posterior_stacked() missing 1 required positional argument: 'data'"
     ]
    }
   ],
   "source": [
    "DelfiEnsemble.fisher_pretraining()"
   ]
  },
  {
   "cell_type": "markdown",
   "metadata": {
    "slideshow": {
     "slide_type": "slide"
    }
   },
   "source": [
    "## Sequential Neural Likelihood"
   ]
  },
  {
   "cell_type": "code",
   "execution_count": null,
   "metadata": {
    "collapsed": true
   },
   "outputs": [],
   "source": [
    "n_initial = 200\n",
    "n_batch = 200\n",
    "n_populations = 10\n",
    "\n",
    "DelfiEnsemble.sequential_training(simulator, compressor, n_initial, n_batch, n_populations, patience=20,\n",
    "                       save_intermediate_posteriors=False)"
   ]
  },
  {
   "cell_type": "markdown",
   "metadata": {},
   "source": [
    "## Sample the learned posterior"
   ]
  },
  {
   "cell_type": "code",
   "execution_count": null,
   "metadata": {
    "collapsed": true
   },
   "outputs": [],
   "source": [
    "posterior_samples = DelfiEnsemble.emcee_sample()"
   ]
  },
  {
   "cell_type": "code",
   "execution_count": null,
   "metadata": {
    "collapsed": true,
    "scrolled": false
   },
   "outputs": [],
   "source": [
    "DelfiEnsemble.triangle_plot(samples=[posterior_samples])"
   ]
  },
  {
   "cell_type": "code",
   "execution_count": null,
   "metadata": {
    "collapsed": true
   },
   "outputs": [],
   "source": [
    "print(np.std(posterior_samples, axis=0))\n",
    "print(np.mean(posterior_samples, axis=0))\n",
    "print(PISNSimulator.theta_fiducial)"
   ]
  },
  {
   "cell_type": "code",
   "execution_count": null,
   "metadata": {
    "collapsed": true
   },
   "outputs": [],
   "source": [
    "z = np.linspace(0.01,1.5,50)\n",
    "Hzs = np.linspace(0,0,50)\n",
    "Hzs2 = np.linspace(0,0,50)\n",
    "Hzstd = np.linspace(0,0,50)\n",
    "\n",
    "for i in posterior_samples:\n",
    "    cosm = FlatwCDM(i[0],i[1],i[2])\n",
    "    Hz = cosm.efunc(z)*i[0]\n",
    "    Hzs += Hz\n",
    "    Hzs2 += Hz**2\n",
    "    \n",
    "    #plt.plot(z,Hz)\n",
    "Hzs = Hzs/(posterior_samples.shape[0])\n",
    "Hzs2 = Hzs2/(posterior_samples.shape[0])\n",
    "Hzstd = np.sqrt(Hzs2-Hzs**2)\n",
    "#plt.errorbar(z,Hzs, yerr = Hzstd)\n",
    "plt.plot(z, Planck15.efunc(z)*Planck15.H0.value, 'k--')\n",
    "plt.plot(z, Hzs, 'k-')\n",
    "plt.fill_between(z, Hzs-Hzstd, Hzs+Hzstd,alpha = 0.4)\n",
    "plt.show()"
   ]
  },
  {
   "cell_type": "code",
   "execution_count": null,
   "metadata": {
    "collapsed": true
   },
   "outputs": [],
   "source": [
    "minind = np.where(Hzstd == min(Hzstd))[0][0]\n",
    "print(Hzstd[minind],z[minind])\n",
    "print(Hzstd[minind]/Hzs[minind])"
   ]
  },
  {
   "cell_type": "code",
   "execution_count": null,
   "metadata": {
    "collapsed": true
   },
   "outputs": [],
   "source": [
    "Planck15.luminosity_distance(0.4).to(u.Gpc).value"
   ]
  },
  {
   "cell_type": "code",
   "execution_count": null,
   "metadata": {
    "collapsed": true
   },
   "outputs": [],
   "source": []
  }
 ],
 "metadata": {
  "kernelspec": {
   "display_name": "Python 3",
   "language": "python",
   "name": "python3"
  },
  "language_info": {
   "codemirror_mode": {
    "name": "ipython",
    "version": 3
   },
   "file_extension": ".py",
   "mimetype": "text/x-python",
   "name": "python",
   "nbconvert_exporter": "python",
   "pygments_lexer": "ipython3",
   "version": "3.6.1"
  }
 },
 "nbformat": 4,
 "nbformat_minor": 1
}
