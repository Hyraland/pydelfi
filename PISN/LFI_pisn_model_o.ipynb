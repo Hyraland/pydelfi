{
 "cells": [
  {
   "cell_type": "code",
   "execution_count": 1,
   "metadata": {
    "collapsed": true,
    "slideshow": {
     "slide_type": "-"
    }
   },
   "outputs": [],
   "source": [
    "import numpy as np\n",
    "import scipy.integrate as integrate\n",
    "import pydelfi.ndes as ndes\n",
    "from pydelfi import delfi\n",
    "import pydelfi.score as score\n",
    "import pydelfi.priors as priors\n",
    "import tensorflow as tf\n",
    "import h5py\n",
    "import tqdm\n",
    "from astropy.cosmology import Planck15, z_at_value, FlatwCDM\n",
    "import astropy.units as u\n",
    "from scipy.integrate import cumtrapz\n",
    "from scipy.interpolate import RectBivariateSpline, interp1d\n",
    "from true_params import true_params, uncert, ifo\n",
    "tf.logging.set_verbosity(tf.logging.ERROR)\n",
    "import matplotlib\n",
    "matplotlib.use('TkAgg')\n",
    "import matplotlib.pyplot as plt\n",
    "%matplotlib inline"
   ]
  },
  {
   "cell_type": "markdown",
   "metadata": {
    "slideshow": {
     "slide_type": "slide"
    }
   },
   "source": [
    "## Set up the simulator\n",
    "This must have the signature `simulator(parameters, seed, args, batch)` -> `np.array([batch, ndata])`"
   ]
  },
  {
   "cell_type": "code",
   "execution_count": 2,
   "metadata": {
    "collapsed": true
   },
   "outputs": [],
   "source": [
    "with h5py.File('/Users/hyraland/Projects/GW/Cosmology/PISNLineCosmography/thetas.h5', 'r') as f:\n",
    "    thetas = np.array(f['Theta'])\n",
    "thetas = np.sort(np.concatenate((thetas, [0,1])))\n",
    "ticum = interp1d(np.linspace(0, 1, len(thetas)), thetas)\n",
    "\n",
    "with h5py.File('/Users/hyraland/Projects/GW/Cosmology/PISNLineCosmography/optimal_snr.h5', 'r') as f:\n",
    "    ms = np.array(f['ms'])\n",
    "    rhos = np.array(f['SNR'])\n",
    "oint = RectBivariateSpline(ms, ms, rhos)"
   ]
  },
  {
   "cell_type": "code",
   "execution_count": 3,
   "metadata": {
    "collapsed": true
   },
   "outputs": [],
   "source": [
    "def optimal_snr(m1obs, m2obs, dl):\n",
    "    return oint.ev(m1obs, m2obs)/dl\n",
    "\n",
    "zMax = 2 # determined based on making sure the observed redshift distribution tails off completely\n",
    "z = np.expm1(np.linspace(np.log(1), np.log(zMax+1), 1000))\n",
    "\n",
    "# # Use this for fix distribution\n",
    "# cosm = FlatwCDM(Planck15.H0.value, Planck15.Om0, -1.0)\n",
    "# dNdz = 4.0*np.pi*true_params['R0']*(1+z)**(true_params['gamma']-1)*cosm.differential_comoving_volume(z).to(u.Gpc**3/u.sr).value\n",
    "\n",
    "# Nperyear = np.trapz(dNdz, z)\n",
    "# Nz = cumtrapz(dNdz, z, initial=0)\n",
    "\n",
    "# z_icdf = interp1d(Nz/Nperyear, z)\n",
    "\n",
    "def event(h0, omegam, om, z):\n",
    "# # Use this for parameter dependent distribution\n",
    "    cosm = FlatwCDM(h0, omegam, om)\n",
    "    dNdz = 4.0*np.pi*true_params['R0']*(1+z)**(true_params['gamma']-1)*cosm.differential_comoving_volume(z).to(u.Gpc**3/u.sr).value\n",
    "\n",
    "    Nperyear = np.trapz(dNdz, z)\n",
    "    Nz = cumtrapz(dNdz, z, initial=0)\n",
    "\n",
    "    z_icdf = interp1d(Nz/Nperyear, z)\n",
    "\n",
    "    return Nperyear, Nz, z_icdf\n",
    "\n",
    "mmin = true_params['MMin']\n",
    "mmax = true_params['MMax']\n",
    "\n",
    "def draw_pl(x0, x1, alpha):\n",
    "    r = np.random.rand()\n",
    "    opa = 1+alpha\n",
    "    return (x0**opa*(1-r) + x1**opa*r)**(1/opa)\n",
    "\n",
    "def draw_truth(z_icdf, N):\n",
    "    m2 = np.linspace(1.0,1.0,N)\n",
    "    m1 = np.linspace(0.0,0.0,N)\n",
    "    for i in range(N):\n",
    "        while m2[i] >= m1[i]:\n",
    "            m1[i] = draw_pl(mmin,mmax,-true_params['alpha'])\n",
    "            m2[i] = draw_pl(mmin,mmax,true_params['beta'])\n",
    "        \n",
    "    z = z_icdf(np.random.rand(N))\n",
    "    t = ticum(np.random.rand(N))\n",
    "    \n",
    "    return (m1, m2, z, t)\n",
    "\n",
    "def observe(h0, omegam, om, m1, m2, z, t, N):\n",
    "    cosm = FlatwCDM(h0, omegam, om)\n",
    "    m1obs = m1*(1+z)\n",
    "    m2obs = m2*(1+z)\n",
    "    dl = cosm.luminosity_distance(z).to(u.Gpc).value\n",
    "    rho = optimal_snr(m1obs, m2obs, dl)*t\n",
    "    \n",
    "    rho_obs = rho + np.random.randn(N)\n",
    "    \n",
    "    mt = m1obs+m2obs\n",
    "    eta = m1obs*m2obs/(mt*mt)\n",
    "    mc = mt*eta**(3.0/5.0)\n",
    "    \n",
    "    smc = abs(uncert['threshold_snr']/rho_obs*uncert['mc'])    \n",
    "    mcobs = np.random.lognormal(mean=np.log(mc), sigma=smc)\n",
    "    \n",
    "    seta = uncert['threshold_snr']/rho_obs*uncert['eta']\n",
    "    etaobs = np.linspace(1,1,N)\n",
    "    for i in range(N):\n",
    "        while (etaobs[i] < 0) or (etaobs[i] > 0.25):\n",
    "            etaobs[i] = eta[i] + seta[i]*np.random.randn()\n",
    "        \n",
    "    st = uncert['threshold_snr']/rho_obs*uncert['Theta']\n",
    "    tobs = np.linspace(2,2,N)\n",
    "    for i in range(N):\n",
    "        while (tobs[i] < 0) or (tobs[i] > 1):\n",
    "            tobs[i] = t[i] + st[i]*np.random.randn()\n",
    "        \n",
    "    return ((mcobs, etaobs, rho_obs, tobs), (smc, seta, 1.0, st))\n",
    "\n",
    "def mc_eta_from_m1m2(m1, m2):\n",
    "    mt = m1+m2\n",
    "    eta = m1*m2/(mt*mt)\n",
    "    mc = mt*eta**(0.6)\n",
    "    return mc, eta\n",
    "def m1m2_from_mc_eta(mc, eta):\n",
    "    mt = mc/eta**(0.6)\n",
    "    \n",
    "    disc = 1-4*eta\n",
    "    sd = np.sqrt(disc)\n",
    "    m1 = 0.5*mt*(1+sd)\n",
    "    m2 = 0.5*mt*(1-sd)\n",
    "    return m1, m2\n",
    "\n",
    "def dl_from_rho(tobs, rhoobs, m1obs, m2obs):\n",
    "    return tobs*oint.ev(m1obs, m2obs)/rhoobs\n"
   ]
  },
  {
   "cell_type": "code",
   "execution_count": 4,
   "metadata": {
    "collapsed": true
   },
   "outputs": [],
   "source": [
    "def cd(n, d):\n",
    "    d = array(d)\n",
    "    out.create_dataset(n, data=d, compression='gzip', shuffle=True)\n",
    "\n",
    "def get_obsdata(h0, omegam, om, Nperyear, z_icdf, seed):\n",
    "    \n",
    "    old_state = np.random.get_state()\n",
    "    np.random.seed(seed)\n",
    "\n",
    "    Nsmall_tot = np.random.poisson(Nperyear/12.0) # One month\n",
    "    N1yr_tot = Nsmall_tot + np.random.poisson(Nperyear*(1-1/12.0)) # One year\n",
    "    N5yr_tot = N1yr_tot + np.random.poisson(Nperyear*4) # Five years\n",
    "\n",
    "    m1s, m2s, zs, thetas = draw_truth(z_icdf, N1yr_tot)\n",
    "\n",
    "    (mcobs, etaobs, rhoobs, tobs), (smc, seta, srh, st) = observe(h0, omegam, om, m1s, m2s, zs, thetas, N1yr_tot)\n",
    "\n",
    "    sel = rhoobs > 8\n",
    "\n",
    "    zs = zs[sel]\n",
    "    thetas = thetas[sel]\n",
    "    m1s = m1s[sel]\n",
    "    m2s = m2s[sel]\n",
    "    mcobs = mcobs[sel]\n",
    "    etaobs = etaobs[sel]\n",
    "    rhoobs = rhoobs[sel]\n",
    "    tobs = tobs[sel]\n",
    "\n",
    "    return (mcobs, etaobs, rhoobs, tobs)"
   ]
  },
  {
   "cell_type": "code",
   "execution_count": 5,
   "metadata": {
    "collapsed": true
   },
   "outputs": [],
   "source": [
    "def bin_data(nbin, dl, m1):\n",
    "\n",
    "    dlrange = np.linspace(min(dl[:]), max(dl[:]), nbin+3)\n",
    "\n",
    "    m90 = np.linspace(0, 0, nbin)\n",
    "    m90_dl = np.linspace(0, 0, nbin)\n",
    "\n",
    "    for j in range(nbin):\n",
    "        #m90_dl[j] = 0.5*(dlrange[j]+dlrange[j+1])\n",
    "        m90_temp = []\n",
    "        m90_back = []\n",
    "        dl90_temp = []\n",
    "        for i in range(len(dl[:])):\n",
    "            dl_t = dl[i]  \n",
    "            if dl_t > dlrange[j] and dl_t < dlrange[j+1]:\n",
    "                m90_temp.append(m1[i])\n",
    "                m90_back.append(m1[i])\n",
    "                dl90_temp.append(dl_t)\n",
    "        ind90 = int(len(m90_temp)*0.9)\n",
    "        if len(m90_temp)*0.9 < 1:\n",
    "            ind90 = 0\n",
    "        m90t = (np.sort(np.asarray(m90_temp))[ind90])\n",
    "        dlind = np.where(m90_back == m90t)\n",
    "        dl90t = np.asarray(dl90_temp)[dlind]\n",
    "        m90_dl[j] = dl90t\n",
    "        m90[j] = m90t\n",
    "    \n",
    "    return m90, m90_dl"
   ]
  },
  {
   "cell_type": "code",
   "execution_count": 6,
   "metadata": {
    "collapsed": true
   },
   "outputs": [],
   "source": [
    "class PISN_Model():\n",
    "\n",
    "    def __init__(self, pisn_data_path = '/Users/hyraland/Projects/GW/Cosmology/PISNLineCosmography/'):\n",
    "\n",
    "        # Import data\n",
    "        self.theta_fiducial = np.array([Planck15.H0.value, Planck15.Om0, -1.0, 52.0])\n",
    "        Nperyear, Nz, z_icdf = event(self.theta_fiducial[0], self.theta_fiducial[1], self.theta_fiducial[2], z)\n",
    "\n",
    "        mcobs, etaobs, rhoobs, tobs = get_obsdata(self.theta_fiducial[0], self.theta_fiducial[1], self.theta_fiducial[2], Nperyear, z_icdf, 0)\n",
    "        mcobs = np.asarray(mcobs)\n",
    "        etaobs = np.asarray(etaobs)\n",
    "        rhoobs = np.asarray(rhoobs)\n",
    "        tobs = np.asarray(tobs)\n",
    "\n",
    "        m1s, m2s = m1m2_from_mc_eta(mcobs, etaobs)\n",
    "        dls = dl_from_rho(tobs, rhoobs, m1s, m2s)\n",
    "        m90obs, m90_dl = bin_data(9, dls, m1s)\n",
    "        self.data = m90obs\n",
    "        self.aldata = m90_dl\n",
    "        # parameter sequences: h0, omegam, w, m90\n",
    "        self.npar = 4\n",
    "\n",
    "        # N data points\n",
    "        self.ndata = len(m90obs)\n",
    "\n",
    "        # Compute the mean\n",
    "        #self.m90 = self.dlofz(self.theta_fiducial)\n",
    "\n",
    "    # luminosity distance\n",
    "#     def dlofz(self, theta):\n",
    "        \n",
    "#         # Cosmological parameters\n",
    "#         h0 = theta[0]\n",
    "#         omegam = theta[1]\n",
    "#         om = theta[2]\n",
    "#         m90_0 = theta[3]\n",
    "        \n",
    "#         cosm = FlatwCDM(h0, omegam, om)\n",
    "#         m90 = np.linspace(0,0,len(self.aldata))\n",
    "#         for i in range(len(self.aldata)):\n",
    "#             z = z_at_value(cosm.luminosity_distance, self.aldata[i]*u.Gpc)        \n",
    "#         # Pull out the relevant things from the data\n",
    "#             m90[i] = m90_0*(z + 1)\n",
    "                \n",
    "#         return m90\n",
    "\n",
    "    # Generate realisation of \\mu\n",
    "    def simulation(self, theta, seed):\n",
    "        \n",
    "        Nperyear, Nz, z_icdf = event(theta[0], theta[1], theta[2], z)\n",
    "        mcobs, etaobs, rhoobs, tobs = get_obsdata(theta[0], theta[1], theta[2], Nperyear, z_icdf,seed)\n",
    "        mcobs = np.asarray(mcobs)\n",
    "        etaobs = np.asarray(etaobs)\n",
    "        rhoobs = np.asarray(rhoobs)\n",
    "        tobs = np.asarray(tobs)\n",
    "\n",
    "        m1s, m2s = m1m2_from_mc_eta(mcobs, etaobs)\n",
    "        dls = dl_from_rho(tobs, rhoobs, m1s, m2s)\n",
    "        m90obs, m90_dl = bin_data(9, dls, m1s)\n",
    "\n",
    "        return m90obs\n",
    "\n",
    "    # Generate derivative of \\mu w.r.t cosmological parameters\n",
    "#     def dmudt(self, theta_fiducial, h):\n",
    "        \n",
    "#         # dmdt\n",
    "#         dmdt = np.zeros((self.npar, self.ndata))\n",
    "        \n",
    "#         # Fiducial data\n",
    "#         d_fiducial = self.dlofz(theta_fiducial)\n",
    "        \n",
    "#         # Loop over parameters\n",
    "#         for i in range(0, 4):\n",
    "            \n",
    "#             # Step theta\n",
    "#             theta = np.copy(self.theta_fiducial)\n",
    "#             theta[i] += h[i]\n",
    "            \n",
    "#             # Shifted data with same seed\n",
    "#             d_dash = self.dlofz(theta)\n",
    "            \n",
    "#             # One step derivative\n",
    "#             dmdt[i,:] = (d_dash - d_fiducial)/h[i]\n",
    "        \n",
    "#         return dmdt\n",
    "\n"
   ]
  },
  {
   "cell_type": "code",
   "execution_count": 7,
   "metadata": {
    "slideshow": {
     "slide_type": "-"
    }
   },
   "outputs": [
    {
     "data": {
      "text/plain": [
       "[<matplotlib.lines.Line2D at 0x131c4beb8>]"
      ]
     },
     "execution_count": 7,
     "metadata": {},
     "output_type": "execute_result"
    },
    {
     "data": {
      "image/png": "[encoded data removed]",
      "text/plain": [
       "<Figure size 432x288 with 1 Axes>"
      ]
     },
     "metadata": {},
     "output_type": "display_data"
    }
   ],
   "source": [
    "PISNSimulator = PISN_Model()\n",
    "\n",
    "def simulator(theta, seed, simulator_args, batch):\n",
    "    \n",
    "    return PISNSimulator.simulation(theta, seed)\n",
    "\n",
    "simulator_args = None\n",
    "\n",
    "theta_fiducial = np.array([Planck15.H0.value, Planck15.Om0, -1.0, 52.0])\n",
    "\n",
    "plt.plot(PISNSimulator.aldata, PISNSimulator.data, '-k')\n",
    "s = np.random.randint(1<<32)\n",
    "plt.plot(PISNSimulator.aldata, simulator(theta_fiducial, s, None, 1))\n",
    "s = np.random.randint(1<<32)\n",
    "plt.plot(PISNSimulator.aldata, simulator(theta_fiducial, s, None, 1))\n"
   ]
  },
  {
   "cell_type": "markdown",
   "metadata": {
    "slideshow": {
     "slide_type": "slide"
    }
   },
   "source": [
    "## Set up the prior"
   ]
  },
  {
   "cell_type": "code",
   "execution_count": null,
   "metadata": {
    "collapsed": true
   },
   "outputs": [],
   "source": [
    "prior_low = np.array([35.0, 0.0, -2.0, 30.0])\n",
    "prior_high = np.array([140.0, 1.0, 0.0, 85.0])\n",
    "\n",
    "# Use these priors if you just want to measure w:\n",
    "#prior_C = np.diag([(0.01*theta_fiducial[0])**2, (0.01*theta_fiducial[1])**2, 0.5**2, 10.0**2])\n",
    "\n",
    "# Use these priors if you don't want to measure w, but want to just constrain cosmology:\n",
    "prior_C = np.diag([15**2, 0.15**2, 0.5**2, 10.0**2])\n",
    "\n",
    "# Om = Planck15.Om0\n",
    "# H0 = Planck15.H0.value\n",
    "# h0 = Planck15.H0.value/100\n",
    "\n",
    "# # Use this to include H0 Om covariance\n",
    "# Covhomh2 = np.diag([(0.01*H0)**2, (0.01*Om*h0**2)**2])\n",
    "# J = np.array([[1.0, 0.0], [2.0*Om*h0/100.0, h0**2]])# d(H0, Omh2)/d(H0, Om)\n",
    "# Jinv = np.linalg.inv(J)\n",
    "# Covhom = np.dot(Jinv.T, np.dot(Covhomh2, Jinv))\n",
    "\n",
    "# # Parameter order is H0, Om, w, m90\n",
    "# prior_C = np.diag([0.7**2, 0.**2, 0.5**2, 10.0**2])\n",
    "# prior_C[0:2, 0:2] = Covhom\n",
    "\n",
    "prior = priors.TruncatedGaussian(theta_fiducial, prior_C, prior_low, prior_high)"
   ]
  },
  {
   "cell_type": "markdown",
   "metadata": {
    "slideshow": {
     "slide_type": "slide"
    }
   },
   "source": [
    "## Set up the compressor\n",
    "Must have the signature `compressor(data, args)` -> `np.array([n_summaries])`<br>\n",
    "In this case we are going to do Gaussian score compression $$\\mathbf{t} = \\boldsymbol\\theta_* + \\mathbf{F}^{-1}\\nabla_\\theta^T\\boldsymbol\\mu_*\\mathbf{C}^{-1}(\\mathbf{d}-\\boldsymbol\\mu_*)$$ using the class `score.Gaussian`. For this we'll need some fiducial parameters, the mean its derivative at the fiducial parameters, the inverse covariance, and the inverse Fisher matrix"
   ]
  },
  {
   "cell_type": "code",
   "execution_count": null,
   "metadata": {},
   "outputs": [
    {
     "data": {
      "application/vnd.jupyter.widget-view+json": {
       "model_id": "1ce4e9e2b05345e599f6efac7c8cf25c"
      }
     },
     "metadata": {},
     "output_type": "display_data"
    }
   ],
   "source": [
    "h = np.array(abs(theta_fiducial))*0.01\n",
    "\n",
    "Compressor = score.Gaussian(len(PISNSimulator.data), theta_fiducial, prior_mean=theta_fiducial, prior_covariance=prior_C)\n",
    "Compressor.compute_mean_covariance(simulator = simulator, nsims = 50)\n",
    "Compressor.compute_derivatives(simulator = simulator, nsims = 50, h=h)\n",
    "Compressor.compute_fisher()\n",
    "Finv = Compressor.Finv\n",
    "\n",
    "def compressor(d, compressor_args):\n",
    "    return Compressor.scoreMLE(d)\n",
    "compressor_args=None\n",
    "\n",
    "plt.imshow(Compressor.C)\n",
    "plt.show()\n",
    "\n",
    "print(Compressor.dmudt)"
   ]
  },
  {
   "cell_type": "code",
   "execution_count": null,
   "metadata": {},
   "outputs": [],
   "source": [
    "def dlofz(aldata, theta):\n",
    "\n",
    "    # Cosmological parameters\n",
    "    h0 = theta[0]\n",
    "    omegam = theta[1]\n",
    "    om = theta[2]\n",
    "    m90_0 = theta[3]\n",
    "\n",
    "    cosm = FlatwCDM(h0, omegam, om)\n",
    "    m90 = np.linspace(0,0,len(aldata))\n",
    "    for i in range(len(aldata)):\n",
    "        z = z_at_value(cosm.luminosity_distance, aldata[i]*u.Gpc)        \n",
    "    # Pull out the relevant things from the data\n",
    "        m90[i] = m90_0*(z + 1)\n",
    "\n",
    "    return m90\n",
    "\n",
    "plt.errorbar(PISNSimulator.aldata, dlofz(PISNSimulator.aldata,theta_fiducial), np.diag(np.sqrt(Compressor.C)), color='k')\n",
    "plt.errorbar(PISNSimulator.aldata, PISNSimulator.data, yerr = np.diag(np.sqrt(Compressor.C)))"
   ]
  },
  {
   "cell_type": "code",
   "execution_count": null,
   "metadata": {},
   "outputs": [],
   "source": [
    "np.sqrt(np.diag(Finv))"
   ]
  },
  {
   "cell_type": "code",
   "execution_count": null,
   "metadata": {
    "collapsed": true
   },
   "outputs": [],
   "source": [
    "evals, evecs = np.linalg.eigh(Compressor.Finv)"
   ]
  },
  {
   "cell_type": "code",
   "execution_count": null,
   "metadata": {},
   "outputs": [],
   "source": [
    "np.sqrt(evals), evecs"
   ]
  },
  {
   "cell_type": "markdown",
   "metadata": {
    "slideshow": {
     "slide_type": "slide"
    }
   },
   "source": [
    "## Load in the compressed data"
   ]
  },
  {
   "cell_type": "code",
   "execution_count": null,
   "metadata": {
    "collapsed": true
   },
   "outputs": [],
   "source": [
    "compressed_data = compressor(PISNSimulator.data, compressor_args)"
   ]
  },
  {
   "cell_type": "markdown",
   "metadata": {
    "slideshow": {
     "slide_type": "slide"
    }
   },
   "source": [
    "## Define ensemble of NDEs"
   ]
  },
  {
   "cell_type": "code",
   "execution_count": null,
   "metadata": {},
   "outputs": [],
   "source": [
    "NDEs = [ndes.MixtureDensityNetwork(n_parameters=4, n_data=4, n_components=1, n_hidden=[30,30], activations=[tf.tanh, tf.tanh], index=0),\n",
    "       ndes.MixtureDensityNetwork(n_parameters=4, n_data=4, n_components=2, n_hidden=[30,30], activations=[tf.tanh, tf.tanh], index=1),\n",
    "       ndes.MixtureDensityNetwork(n_parameters=4, n_data=4, n_components=3, n_hidden=[30,30], activations=[tf.tanh, tf.tanh], index=2),\n",
    "       ndes.MixtureDensityNetwork(n_parameters=4, n_data=4, n_components=4, n_hidden=[30,30], activations=[tf.tanh, tf.tanh], index=3),\n",
    "       ndes.MixtureDensityNetwork(n_parameters=4, n_data=4, n_components=5, n_hidden=[30,30], activations=[tf.tanh, tf.tanh], index=4),\n",
    "       ndes.ConditionalMaskedAutoregressiveFlow(n_parameters=4, n_data=4, n_hiddens=[50,50], n_mades=5, act_fun=tf.tanh, index=5)]"
   ]
  },
  {
   "cell_type": "markdown",
   "metadata": {
    "slideshow": {
     "slide_type": "slide"
    }
   },
   "source": [
    "## Create DELFI object"
   ]
  },
  {
   "cell_type": "code",
   "execution_count": null,
   "metadata": {
    "collapsed": true
   },
   "outputs": [],
   "source": [
    "DelfiEnsemble = delfi.Delfi(compressed_data, prior, NDEs, \n",
    "                            Finv = Finv, \n",
    "                            theta_fiducial = theta_fiducial, \n",
    "                            param_limits = [prior_low, prior_high],\n",
    "                            param_names = ['h_0', 'Omega_0', 'omega','m90'], \n",
    "                            results_dir = \"results/\",\n",
    "                            input_normalization=\"fisher\")"
   ]
  },
  {
   "cell_type": "markdown",
   "metadata": {
    "slideshow": {
     "slide_type": "slide"
    }
   },
   "source": [
    "## Fisher pre-training to initialize the NDEs"
   ]
  },
  {
   "cell_type": "code",
   "execution_count": null,
   "metadata": {},
   "outputs": [],
   "source": [
    "DelfiEnsemble.fisher_pretraining()"
   ]
  },
  {
   "cell_type": "markdown",
   "metadata": {
    "slideshow": {
     "slide_type": "slide"
    }
   },
   "source": [
    "## Sequential Neural Likelihood"
   ]
  },
  {
   "cell_type": "code",
   "execution_count": null,
   "metadata": {},
   "outputs": [],
   "source": [
    "n_initial = 200\n",
    "n_batch = 200\n",
    "n_populations = 10\n",
    "\n",
    "DelfiEnsemble.sequential_training(simulator, compressor, n_initial, n_batch, n_populations, patience=20,\n",
    "                       save_intermediate_posteriors=False)"
   ]
  },
  {
   "cell_type": "markdown",
   "metadata": {},
   "source": [
    "## Sample the learned posterior"
   ]
  },
  {
   "cell_type": "code",
   "execution_count": null,
   "metadata": {
    "collapsed": true
   },
   "outputs": [],
   "source": [
    "posterior_samples = DelfiEnsemble.emcee_sample()"
   ]
  },
  {
   "cell_type": "code",
   "execution_count": null,
   "metadata": {},
   "outputs": [],
   "source": [
    "DelfiEnsemble.triangle_plot(samples=[posterior_samples])"
   ]
  },
  {
   "cell_type": "code",
   "execution_count": null,
   "metadata": {
    "collapsed": true
   },
   "outputs": [],
   "source": [
    "print(Planck15.age(-0.5))\n",
    "print(Planck15.scale_factor(-0.5))\n",
    "print(Planck15.hubble_distance)\n",
    "print(3*10**5/Planck15.efunc(0)*Planck15.H0*Planck15.scale_factor(0))"
   ]
  }
 ],
 "metadata": {
  "celltoolbar": "Slideshow",
  "kernelspec": {
   "display_name": "Python 3",
   "language": "python",
   "name": "python3"
  },
  "language_info": {
   "codemirror_mode": {
    "name": "ipython",
    "version": 3
   },
   "file_extension": ".py",
   "mimetype": "text/x-python",
   "name": "python",
   "nbconvert_exporter": "python",
   "pygments_lexer": "ipython3",
   "version": "3.6.1"
  }
 },
 "nbformat": 4,
 "nbformat_minor": 1
}
