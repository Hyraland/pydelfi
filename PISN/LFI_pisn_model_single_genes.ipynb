{
 "cells": [
  {
   "cell_type": "code",
   "execution_count": 1,
   "metadata": {
    "collapsed": true,
    "slideshow": {
     "slide_type": "-"
    }
   },
   "outputs": [],
   "source": [
    "import numpy as np\n",
    "import scipy.integrate as integrate\n",
    "import pydelfi.ndes as ndes\n",
    "from pydelfi import delfi\n",
    "import pydelfi.score as score\n",
    "import pydelfi.priors as priors\n",
    "import tensorflow as tf\n",
    "import h5py\n",
    "import tqdm\n",
    "from astropy.cosmology import Planck15, z_at_value, FlatwCDM\n",
    "import astropy.units as u\n",
    "from scipy.integrate import cumtrapz\n",
    "from scipy.interpolate import RectBivariateSpline, interp1d\n",
    "from true_params import true_params, uncert, ifo\n",
    "tf.logging.set_verbosity(tf.logging.ERROR)\n",
    "import matplotlib\n",
    "matplotlib.use('TkAgg')\n",
    "import matplotlib.pyplot as plt\n",
    "%matplotlib inline"
   ]
  },
  {
   "cell_type": "markdown",
   "metadata": {
    "slideshow": {
     "slide_type": "slide"
    }
   },
   "source": [
    "## Set up the simulator\n",
    "This must have the signature `simulator(parameters, seed, args, batch)` -> `np.array([batch, ndata])`"
   ]
  },
  {
   "cell_type": "code",
   "execution_count": 2,
   "metadata": {},
   "outputs": [],
   "source": [
    "with h5py.File('/Users/hyraland/Projects/GW/Cosmology/PISNLineCosmography/thetas.h5', 'r') as f:\n",
    "    thetas = np.array(f['Theta'])\n",
    "thetas = np.sort(np.concatenate((thetas, [0,1])))\n",
    "ticum = interp1d(np.linspace(0, 1, len(thetas)), thetas)\n",
    "\n",
    "with h5py.File('/Users/hyraland/Projects/GW/Cosmology/PISNLineCosmography/optimal_snr.h5', 'r') as f:\n",
    "    ms = np.array(f['ms'])\n",
    "    rhos = np.array(f['SNR'])\n",
    "oint = RectBivariateSpline(ms, ms, rhos)"
   ]
  },
  {
   "cell_type": "code",
   "execution_count": 3,
   "metadata": {},
   "outputs": [],
   "source": [
    "def optimal_snr(m1obs, m2obs, dl):\n",
    "    return oint.ev(m1obs, m2obs)/dl\n",
    "\n",
    "zMax = 2 # determined based on making sure the observed redshift distribution tails off completely\n",
    "z = np.expm1(np.linspace(np.log(1), np.log(zMax+1), 1000))\n",
    "\n",
    "# # Use this for fix distribution\n",
    "# cosm = FlatwCDM(Planck15.H0.value, Planck15.Om0, -1.0)\n",
    "# dNdz = 4.0*np.pi*true_params['R0']*(1+z)**(true_params['gamma']-1)*cosm.differential_comoving_volume(z).to(u.Gpc**3/u.sr).value\n",
    "\n",
    "# Nperyear = np.trapz(dNdz, z)\n",
    "# Nz = cumtrapz(dNdz, z, initial=0)\n",
    "\n",
    "# z_icdf = interp1d(Nz/Nperyear, z)\n",
    "\n",
    "def event(h0, omegam, om, z):\n",
    "# # Use this for parameter dependent distribution\n",
    "    cosm = FlatwCDM(h0, omegam, om)\n",
    "    dNdz = 4.0*np.pi*true_params['R0']*(1+z)**(true_params['gamma']-1)*cosm.differential_comoving_volume(z).to(u.Gpc**3/u.sr).value\n",
    "\n",
    "    Nperyear = np.trapz(dNdz, z)\n",
    "    Nz = cumtrapz(dNdz, z, initial=0)\n",
    "\n",
    "    z_icdf = interp1d(Nz/Nperyear, z)\n",
    "\n",
    "    return Nperyear, Nz, z_icdf\n",
    "\n",
    "mmin = true_params['MMin']\n",
    "mmax = true_params['MMax']\n",
    "\n",
    "def draw_pl(x0, x1, alpha):\n",
    "    r = np.random.rand()\n",
    "    opa = 1+alpha\n",
    "    return (x0**opa*(1-r) + x1**opa*r)**(1/opa)\n",
    "\n",
    "def draw_truth(z_icdf):\n",
    "    m2 = 1.0\n",
    "    m1 = 0.0\n",
    "    while m2 >= m1:\n",
    "        m1 = draw_pl(mmin,mmax,-true_params['alpha'])\n",
    "        m2 = draw_pl(mmin,mmax,true_params['beta'])\n",
    "        \n",
    "    z = z_icdf(np.random.rand())\n",
    "    t = ticum(np.random.rand())\n",
    "    \n",
    "    return (m1, m2, z, t)\n",
    "\n",
    "def observe(h0, omegam, om, m1, m2, z, t):\n",
    "    cosm = FlatwCDM(h0, omegam, om)\n",
    "    m1obs = m1*(1+z)\n",
    "    m2obs = m2*(1+z)\n",
    "    dl = cosm.luminosity_distance(z).to(u.Gpc).value\n",
    "    rho = optimal_snr(m1obs, m2obs, dl)*t\n",
    "    \n",
    "    rho_obs = rho + np.random.randn()\n",
    "    \n",
    "    mt = m1obs+m2obs\n",
    "    eta = m1obs*m2obs/(mt*mt)\n",
    "    mc = mt*eta**(3.0/5.0)\n",
    "    \n",
    "    smc = abs(uncert['threshold_snr']/rho_obs*uncert['mc'])    \n",
    "    mcobs = np.random.lognormal(mean=np.log(mc), sigma=smc)\n",
    "    \n",
    "    seta = uncert['threshold_snr']/rho_obs*uncert['eta']\n",
    "    etaobs = 1\n",
    "    while (etaobs < 0) or (etaobs > 0.25):\n",
    "        etaobs = eta + seta*np.random.randn()\n",
    "        \n",
    "    st = uncert['threshold_snr']/rho_obs*uncert['Theta']\n",
    "    tobs = 2\n",
    "    while (tobs < 0) or (tobs > 1):\n",
    "        tobs = t + st*np.random.randn()\n",
    "        \n",
    "    return ((mcobs, etaobs, rho_obs, tobs), (smc, seta, 1.0, st))\n",
    "\n",
    "def mc_eta_from_m1m2(m1, m2):\n",
    "    mt = m1+m2\n",
    "    eta = m1*m2/(mt*mt)\n",
    "    mc = mt*eta**(0.6)\n",
    "    return mc, eta\n",
    "def m1m2_from_mc_eta(mc, eta):\n",
    "    mt = mc/eta**(0.6)\n",
    "    \n",
    "    disc = 1-4*eta\n",
    "    sd = np.sqrt(disc)\n",
    "    m1 = 0.5*mt*(1+sd)\n",
    "    m2 = 0.5*mt*(1-sd)\n",
    "    return m1, m2\n",
    "\n",
    "def dl_from_rho(tobs, rhoobs, m1obs, m2obs):\n",
    "    return tobs*oint.ev(m1obs, m2obs)/rhoobs\n"
   ]
  },
  {
   "cell_type": "code",
   "execution_count": 4,
   "metadata": {},
   "outputs": [],
   "source": [
    "def cd(n, d):\n",
    "    d = array(d)\n",
    "    out.create_dataset(n, data=d, compression='gzip', shuffle=True)\n",
    "\n",
    "def get_obsdata(h0, omegam, om, Nperyear, z_icdf, seed):\n",
    "    \n",
    "    old_state = np.random.get_state()\n",
    "    np.random.seed(seed)\n",
    "\n",
    "    try:\n",
    "        m1s = []\n",
    "        m2s = []\n",
    "        zs = []\n",
    "        thetas = []\n",
    "\n",
    "        mcobs = []\n",
    "        etaobs = []\n",
    "        rhoobs = []\n",
    "        tobs = []\n",
    "\n",
    "        sigma_mc = []\n",
    "        sigma_eta = []\n",
    "        sigma_rho = []\n",
    "        sigma_t = []\n",
    "\n",
    "        Nsmall_tot = np.random.poisson(Nperyear/12.0) # One month\n",
    "        N1yr_tot = Nsmall_tot + np.random.poisson(Nperyear*(1-1/12.0)) # One year\n",
    "        N5yr_tot = N1yr_tot + np.random.poisson(Nperyear*4) # Five years\n",
    "\n",
    "        for i, _ in enumerate(tqdm.tqdm(range(N1yr_tot))):\n",
    "            if np.random.rand() < ifo['duty_cycle']:\n",
    "                m1, m2, z, t = draw_truth(z_icdf)\n",
    "\n",
    "                (mc, et, rh, to), (smc, seta, srh, st) = observe(h0, omegam, om, m1, m2, z, t)\n",
    "\n",
    "                if rh > 8:\n",
    "                    m1s.append(m1)\n",
    "                    m2s.append(m2)\n",
    "                    zs.append(z)\n",
    "                    thetas.append(t)\n",
    "\n",
    "                    mcobs.append(mc)\n",
    "                    etaobs.append(et)\n",
    "                    rhoobs.append(rh)\n",
    "                    tobs.append(to)\n",
    "\n",
    "                    sigma_mc.append(smc)\n",
    "                    sigma_eta.append(seta)\n",
    "                    sigma_rho.append(srh)\n",
    "                    sigma_t.append(st)\n",
    "\n",
    "            if i == Nsmall_tot-1:\n",
    "                Nsmall = len(m1s)\n",
    "            elif i == N1yr_tot-1:\n",
    "                N1yr = len(m1s)\n",
    "            elif i == N5yr_tot-1:\n",
    "                N5yr = len(m1s)\n",
    "\n",
    "    finally:\n",
    "        np.random.set_state(old_state)\n",
    "    return (mcobs, etaobs, rhoobs, tobs)"
   ]
  },
  {
   "cell_type": "code",
   "execution_count": 5,
   "metadata": {
    "collapsed": true
   },
   "outputs": [],
   "source": [
    "def bin_data(nbin, dl, m1):\n",
    "\n",
    "    dlrange = np.linspace(min(dl[:]), max(dl[:]), nbin+3)\n",
    "\n",
    "    m90 = np.linspace(0, 0, nbin)\n",
    "    m90_dl = np.linspace(0, 0, nbin)\n",
    "\n",
    "    for j in range(nbin):\n",
    "        #m90_dl[j] = 0.5*(dlrange[j]+dlrange[j+1])\n",
    "        m90_temp = []\n",
    "        m90_back = []\n",
    "        dl90_temp = []\n",
    "        for i in range(len(dl[:])):\n",
    "            dl_t = dl[i]  \n",
    "            if dl_t > dlrange[j] and dl_t < dlrange[j+1]:\n",
    "                m90_temp.append(m1[i])\n",
    "                m90_back.append(m1[i])\n",
    "                dl90_temp.append(dl_t)\n",
    "        ind90 = int(len(m90_temp)*0.9)\n",
    "        if len(m90_temp)*0.9 < 1:\n",
    "            ind90 = 0\n",
    "        m90t = (np.sort(np.asarray(m90_temp))[ind90])\n",
    "        dlind = np.where(m90_back == m90t)\n",
    "        dl90t = np.asarray(dl90_temp)[dlind]\n",
    "        m90_dl[j] = dl90t\n",
    "        m90[j] = m90t\n",
    "    \n",
    "    return m90, m90_dl"
   ]
  },
  {
   "cell_type": "code",
   "execution_count": 6,
   "metadata": {},
   "outputs": [],
   "source": [
    "class PISN_Model():\n",
    "\n",
    "    def __init__(self, pisn_data_path = '/Users/hyraland/Projects/GW/Cosmology/PISNLineCosmography/'):\n",
    "\n",
    "        # Import data\n",
    "        self.theta_fiducial = np.array([Planck15.H0.value, Planck15.Om0, -1.0, 52.0])\n",
    "        Nperyear, Nz, z_icdf = event(self.theta_fiducial[0], self.theta_fiducial[1], self.theta_fiducial[2], z)\n",
    "\n",
    "        mcobs, etaobs, rhoobs, tobs = get_obsdata(self.theta_fiducial[0], self.theta_fiducial[1], self.theta_fiducial[2], Nperyear, z_icdf, 0)\n",
    "        mcobs = np.asarray(mcobs)\n",
    "        etaobs = np.asarray(etaobs)\n",
    "        rhoobs = np.asarray(rhoobs)\n",
    "        tobs = np.asarray(tobs)\n",
    "\n",
    "        m1s, m2s = m1m2_from_mc_eta(mcobs, etaobs)\n",
    "        dls = dl_from_rho(tobs, rhoobs, m1s, m2s)\n",
    "        m90obs, m90_dl = bin_data(9, dls, m1s)\n",
    "        self.data = m90obs\n",
    "        self.aldata = m90_dl\n",
    "        # parameter sequences: h0, omegam, w, m90\n",
    "        self.npar = 4\n",
    "\n",
    "        # N data points\n",
    "        self.ndata = len(m90obs)\n",
    "\n",
    "        # Compute the mean\n",
    "        #self.m90 = self.dlofz(self.theta_fiducial)\n",
    "\n",
    "    # luminosity distance\n",
    "#     def dlofz(self, theta):\n",
    "        \n",
    "#         # Cosmological parameters\n",
    "#         h0 = theta[0]\n",
    "#         omegam = theta[1]\n",
    "#         om = theta[2]\n",
    "#         m90_0 = theta[3]\n",
    "        \n",
    "#         cosm = FlatwCDM(h0, omegam, om)\n",
    "#         m90 = np.linspace(0,0,len(self.aldata))\n",
    "#         for i in range(len(self.aldata)):\n",
    "#             z = z_at_value(cosm.luminosity_distance, self.aldata[i]*u.Gpc)        \n",
    "#         # Pull out the relevant things from the data\n",
    "#             m90[i] = m90_0*(z + 1)\n",
    "                \n",
    "#         return m90\n",
    "\n",
    "    # Generate realisation of \\mu\n",
    "    def simulation(self, theta, seed):\n",
    "        \n",
    "        Nperyear, Nz, z_icdf = event(theta[0], theta[1], theta[2], z)\n",
    "        mcobs, etaobs, rhoobs, tobs = get_obsdata(theta[0], theta[1], theta[2], Nperyear, z_icdf,seed)\n",
    "        mcobs = np.asarray(mcobs)\n",
    "        etaobs = np.asarray(etaobs)\n",
    "        rhoobs = np.asarray(rhoobs)\n",
    "        tobs = np.asarray(tobs)\n",
    "\n",
    "        m1s, m2s = m1m2_from_mc_eta(mcobs, etaobs)\n",
    "        dls = dl_from_rho(tobs, rhoobs, m1s, m2s)\n",
    "        m90obs, m90_dl = bin_data(9, dls, m1s)\n",
    "\n",
    "        return m90obs\n",
    "\n",
    "    # Generate derivative of \\mu w.r.t cosmological parameters\n",
    "    def dmudt(self, theta_fiducial, h):\n",
    "        \n",
    "        # dmdt\n",
    "        dmdt = np.zeros((self.npar, self.ndata))\n",
    "        \n",
    "        # Fiducial data\n",
    "        d_fiducial = self.dlofz(theta_fiducial)\n",
    "        \n",
    "        # Loop over parameters\n",
    "        for i in range(0, 4):\n",
    "            \n",
    "            # Step theta\n",
    "            theta = np.copy(self.theta_fiducial)\n",
    "            theta[i] += h[i]\n",
    "            \n",
    "            # Shifted data with same seed\n",
    "            d_dash = self.dlofz(theta)\n",
    "            \n",
    "            # One step derivative\n",
    "            dmdt[i,:] = (d_dash - d_fiducial)/h[i]\n",
    "        \n",
    "        return dmdt\n",
    "\n"
   ]
  },
  {
   "cell_type": "code",
   "execution_count": 7,
   "metadata": {
    "slideshow": {
     "slide_type": "-"
    }
   },
   "outputs": [
    {
     "name": "stderr",
     "output_type": "stream",
     "text": [
      "100%|██████████| 210106/210106 [01:25<00:00, 2445.19it/s]\n",
      "100%|██████████| 209736/209736 [01:30<00:00, 2311.35it/s]\n",
      "100%|██████████| 209668/209668 [01:27<00:00, 2399.95it/s]\n"
     ]
    },
    {
     "data": {
      "text/plain": [
       "[<matplotlib.lines.Line2D at 0x126fb6dd8>]"
      ]
     },
     "execution_count": 7,
     "metadata": {},
     "output_type": "execute_result"
    },
    {
     "data": {
      "image/png": "[encoded data removed]",
      "text/plain": [
       "<Figure size 432x288 with 1 Axes>"
      ]
     },
     "metadata": {},
     "output_type": "display_data"
    }
   ],
   "source": [
    "PISNSimulator = PISN_Model()\n",
    "\n",
    "def simulator(theta, seed, simulator_args, batch):\n",
    "    \n",
    "    return PISNSimulator.simulation(theta, seed)\n",
    "\n",
    "simulator_args = None\n",
    "\n",
    "theta_fiducial = np.array([Planck15.H0.value, Planck15.Om0, -1.0, 52.0])\n",
    "\n",
    "plt.plot(PISNSimulator.aldata, PISNSimulator.data, '-k')\n",
    "s = np.random.randint(1<<32)\n",
    "plt.plot(PISNSimulator.aldata, simulator(theta_fiducial, s, None, 1))\n",
    "s = np.random.randint(1<<32)\n",
    "plt.plot(PISNSimulator.aldata, simulator(theta_fiducial, s, None, 1))\n"
   ]
  },
  {
   "cell_type": "markdown",
   "metadata": {
    "slideshow": {
     "slide_type": "slide"
    }
   },
   "source": [
    "## Set up the prior"
   ]
  },
  {
   "cell_type": "code",
   "execution_count": 8,
   "metadata": {
    "collapsed": true
   },
   "outputs": [],
   "source": [
    "prior_low = np.array([35.0, 0.0, -2.0, 30.0])\n",
    "prior_high = np.array([140.0, 1.0, 0.0, 85.0])\n",
    "\n",
    "# Use these priors if you just want to measure w:\n",
    "#prior_C = np.diag([(0.01*theta_fiducial[0])**2, (0.01*theta_fiducial[1])**2, 0.5**2, 10.0**2])\n",
    "\n",
    "# Use these priors if you don't want to measure w, but want to just constrain cosmology:\n",
    "prior_C = np.diag([15**2, 0.15**2, 0.5**2, 10.0**2])\n",
    "\n",
    "# Om = Planck15.Om0\n",
    "# H0 = Planck15.H0.value\n",
    "# h0 = Planck15.H0.value/100\n",
    "\n",
    "# # Use this to include H0 Om covariance\n",
    "# Covhomh2 = np.diag([(0.01*H0)**2, (0.01*Om*h0**2)**2])\n",
    "# J = np.array([[1.0, 0.0], [2.0*Om*h0/100.0, h0**2]])# d(H0, Omh2)/d(H0, Om)\n",
    "# Jinv = np.linalg.inv(J)\n",
    "# Covhom = np.dot(Jinv.T, np.dot(Covhomh2, Jinv))\n",
    "\n",
    "# # Parameter order is H0, Om, w, m90\n",
    "# prior_C = np.diag([0.7**2, 0.**2, 0.5**2, 10.0**2])\n",
    "# prior_C[0:2, 0:2] = Covhom\n",
    "\n",
    "prior = priors.TruncatedGaussian(theta_fiducial, prior_C, prior_low, prior_high)"
   ]
  },
  {
   "cell_type": "markdown",
   "metadata": {
    "slideshow": {
     "slide_type": "slide"
    }
   },
   "source": [
    "## Set up the compressor\n",
    "Must have the signature `compressor(data, args)` -> `np.array([n_summaries])`<br>\n",
    "In this case we are going to do Gaussian score compression $$\\mathbf{t} = \\boldsymbol\\theta_* + \\mathbf{F}^{-1}\\nabla_\\theta^T\\boldsymbol\\mu_*\\mathbf{C}^{-1}(\\mathbf{d}-\\boldsymbol\\mu_*)$$ using the class `score.Gaussian`. For this we'll need some fiducial parameters, the mean its derivative at the fiducial parameters, the inverse covariance, and the inverse Fisher matrix"
   ]
  },
  {
   "cell_type": "code",
   "execution_count": 9,
   "metadata": {},
   "outputs": [
    {
     "data": {
      "application/vnd.jupyter.widget-view+json": {
       "model_id": "528f7bc5765141d7a3fb3b3158cfb773"
      }
     },
     "metadata": {},
     "output_type": "display_data"
    },
    {
     "name": "stderr",
     "output_type": "stream",
     "text": [
      "100%|██████████| 209570/209570 [01:21<00:00, 2572.27it/s]\n",
      "100%|██████████| 210298/210298 [01:30<00:00, 2323.20it/s]\n",
      "100%|██████████| 209532/209532 [01:22<00:00, 2541.38it/s]\n",
      "100%|██████████| 210521/210521 [01:31<00:00, 2303.88it/s]\n",
      "100%|██████████| 209210/209210 [01:30<00:00, 2317.27it/s]\n",
      "100%|██████████| 210304/210304 [01:23<00:00, 2506.52it/s]\n",
      "100%|██████████| 209813/209813 [02:24<00:00, 1452.80it/s]\n",
      "100%|██████████| 209410/209410 [01:18<00:00, 2656.53it/s]\n",
      "100%|██████████| 209971/209971 [01:20<00:00, 2599.61it/s]\n",
      "100%|██████████| 209617/209617 [01:27<00:00, 2395.84it/s]\n",
      "100%|██████████| 210165/210165 [01:24<00:00, 2486.55it/s]\n",
      "100%|██████████| 209508/209508 [01:23<00:00, 2494.15it/s]\n",
      "100%|██████████| 211213/211213 [01:23<00:00, 2516.18it/s]\n",
      "100%|██████████| 210162/210162 [01:23<00:00, 2518.87it/s]\n",
      "100%|██████████| 209082/209082 [01:23<00:00, 2493.63it/s]\n",
      "100%|██████████| 209455/209455 [01:24<00:00, 2469.91it/s]\n",
      "100%|██████████| 210669/210669 [01:27<00:00, 2404.28it/s]\n",
      "100%|██████████| 210085/210085 [01:38<00:00, 2137.55it/s]\n",
      "100%|██████████| 209732/209732 [01:29<00:00, 2340.64it/s]\n",
      "100%|██████████| 210069/210069 [01:27<00:00, 2395.07it/s]\n"
     ]
    },
    {
     "ename": "TypeError",
     "evalue": "'NoneType' object is not subscriptable",
     "output_type": "error",
     "traceback": [
      "\u001b[0;31m---------------------------------------------------------------------------\u001b[0m",
      "\u001b[0;31mTypeError\u001b[0m                                 Traceback (most recent call last)",
      "\u001b[0;32m<ipython-input-9-75714ca90e3c>\u001b[0m in \u001b[0;36m<module>\u001b[0;34m()\u001b[0m\n\u001b[1;32m      3\u001b[0m \u001b[0mCompressor\u001b[0m \u001b[0;34m=\u001b[0m \u001b[0mscore\u001b[0m\u001b[0;34m.\u001b[0m\u001b[0mGaussian\u001b[0m\u001b[0;34m(\u001b[0m\u001b[0mlen\u001b[0m\u001b[0;34m(\u001b[0m\u001b[0mPISNSimulator\u001b[0m\u001b[0;34m.\u001b[0m\u001b[0mdata\u001b[0m\u001b[0;34m)\u001b[0m\u001b[0;34m,\u001b[0m \u001b[0mtheta_fiducial\u001b[0m\u001b[0;34m,\u001b[0m \u001b[0mprior_mean\u001b[0m\u001b[0;34m=\u001b[0m\u001b[0mtheta_fiducial\u001b[0m\u001b[0;34m,\u001b[0m \u001b[0mprior_covariance\u001b[0m\u001b[0;34m=\u001b[0m\u001b[0mprior_C\u001b[0m\u001b[0;34m)\u001b[0m\u001b[0;34m\u001b[0m\u001b[0m\n\u001b[1;32m      4\u001b[0m \u001b[0mCompressor\u001b[0m\u001b[0;34m.\u001b[0m\u001b[0mcompute_mean_covariance\u001b[0m\u001b[0;34m(\u001b[0m\u001b[0msimulator\u001b[0m \u001b[0;34m=\u001b[0m \u001b[0msimulator\u001b[0m\u001b[0;34m,\u001b[0m \u001b[0mnsims\u001b[0m \u001b[0;34m=\u001b[0m \u001b[0;36m20\u001b[0m\u001b[0;34m)\u001b[0m\u001b[0;34m\u001b[0m\u001b[0m\n\u001b[0;32m----> 5\u001b[0;31m \u001b[0mCompressor\u001b[0m\u001b[0;34m.\u001b[0m\u001b[0mcompute_fisher\u001b[0m\u001b[0;34m(\u001b[0m\u001b[0;34m)\u001b[0m\u001b[0;34m\u001b[0m\u001b[0m\n\u001b[0m\u001b[1;32m      6\u001b[0m \u001b[0mFinv\u001b[0m \u001b[0;34m=\u001b[0m \u001b[0mCompressor\u001b[0m\u001b[0;34m.\u001b[0m\u001b[0mFinv\u001b[0m\u001b[0;34m\u001b[0m\u001b[0m\n\u001b[1;32m      7\u001b[0m \u001b[0;32mdef\u001b[0m \u001b[0mcompressor\u001b[0m\u001b[0;34m(\u001b[0m\u001b[0md\u001b[0m\u001b[0;34m,\u001b[0m \u001b[0mcompressor_args\u001b[0m\u001b[0;34m)\u001b[0m\u001b[0;34m:\u001b[0m\u001b[0;34m\u001b[0m\u001b[0m\n",
      "\u001b[0;32m/Users/hyraland/anaconda/lib/python3.6/site-packages/pydelfi-0.1-py3.6.egg/pydelfi/score.py\u001b[0m in \u001b[0;36mcompute_fisher\u001b[0;34m(self)\u001b[0m\n\u001b[1;32m    207\u001b[0m         \u001b[0;32mfor\u001b[0m \u001b[0ma\u001b[0m \u001b[0;32min\u001b[0m \u001b[0mrange\u001b[0m\u001b[0;34m(\u001b[0m\u001b[0;36m0\u001b[0m\u001b[0;34m,\u001b[0m \u001b[0mself\u001b[0m\u001b[0;34m.\u001b[0m\u001b[0mnpar\u001b[0m\u001b[0;34m)\u001b[0m\u001b[0;34m:\u001b[0m\u001b[0;34m\u001b[0m\u001b[0m\n\u001b[1;32m    208\u001b[0m             \u001b[0;32mfor\u001b[0m \u001b[0mb\u001b[0m \u001b[0;32min\u001b[0m \u001b[0mrange\u001b[0m\u001b[0;34m(\u001b[0m\u001b[0;36m0\u001b[0m\u001b[0;34m,\u001b[0m \u001b[0mself\u001b[0m\u001b[0;34m.\u001b[0m\u001b[0mnpar\u001b[0m\u001b[0;34m)\u001b[0m\u001b[0;34m:\u001b[0m\u001b[0;34m\u001b[0m\u001b[0m\n\u001b[0;32m--> 209\u001b[0;31m                 \u001b[0mF\u001b[0m\u001b[0;34m[\u001b[0m\u001b[0ma\u001b[0m\u001b[0;34m,\u001b[0m \u001b[0mb\u001b[0m\u001b[0;34m]\u001b[0m \u001b[0;34m+=\u001b[0m \u001b[0;36m0.5\u001b[0m\u001b[0;34m*\u001b[0m\u001b[0;34m(\u001b[0m\u001b[0mnp\u001b[0m\u001b[0;34m.\u001b[0m\u001b[0mdot\u001b[0m\u001b[0;34m(\u001b[0m\u001b[0mself\u001b[0m\u001b[0;34m.\u001b[0m\u001b[0mdmudt\u001b[0m\u001b[0;34m[\u001b[0m\u001b[0ma\u001b[0m\u001b[0;34m,\u001b[0m\u001b[0;34m:\u001b[0m\u001b[0;34m]\u001b[0m\u001b[0;34m,\u001b[0m \u001b[0mnp\u001b[0m\u001b[0;34m.\u001b[0m\u001b[0mdot\u001b[0m\u001b[0;34m(\u001b[0m\u001b[0mself\u001b[0m\u001b[0;34m.\u001b[0m\u001b[0mCinv\u001b[0m\u001b[0;34m,\u001b[0m \u001b[0mself\u001b[0m\u001b[0;34m.\u001b[0m\u001b[0mdmudt\u001b[0m\u001b[0;34m[\u001b[0m\u001b[0mb\u001b[0m\u001b[0;34m,\u001b[0m\u001b[0;34m:\u001b[0m\u001b[0;34m]\u001b[0m\u001b[0;34m)\u001b[0m\u001b[0;34m)\u001b[0m \u001b[0;34m+\u001b[0m \u001b[0mnp\u001b[0m\u001b[0;34m.\u001b[0m\u001b[0mdot\u001b[0m\u001b[0;34m(\u001b[0m\u001b[0mself\u001b[0m\u001b[0;34m.\u001b[0m\u001b[0mdmudt\u001b[0m\u001b[0;34m[\u001b[0m\u001b[0mb\u001b[0m\u001b[0;34m,\u001b[0m\u001b[0;34m:\u001b[0m\u001b[0;34m]\u001b[0m\u001b[0;34m,\u001b[0m \u001b[0mnp\u001b[0m\u001b[0;34m.\u001b[0m\u001b[0mdot\u001b[0m\u001b[0;34m(\u001b[0m\u001b[0mself\u001b[0m\u001b[0;34m.\u001b[0m\u001b[0mCinv\u001b[0m\u001b[0;34m,\u001b[0m \u001b[0mself\u001b[0m\u001b[0;34m.\u001b[0m\u001b[0mdmudt\u001b[0m\u001b[0;34m[\u001b[0m\u001b[0ma\u001b[0m\u001b[0;34m,\u001b[0m\u001b[0;34m:\u001b[0m\u001b[0;34m]\u001b[0m\u001b[0;34m)\u001b[0m\u001b[0;34m)\u001b[0m\u001b[0;34m)\u001b[0m\u001b[0;34m\u001b[0m\u001b[0m\n\u001b[0m\u001b[1;32m    210\u001b[0m \u001b[0;34m\u001b[0m\u001b[0m\n\u001b[1;32m    211\u001b[0m         \u001b[0;31m# Covariance derivatives part\u001b[0m\u001b[0;34m\u001b[0m\u001b[0;34m\u001b[0m\u001b[0m\n",
      "\u001b[0;31mTypeError\u001b[0m: 'NoneType' object is not subscriptable"
     ]
    }
   ],
   "source": [
    "h = np.array(abs(theta_fiducial))*0.01\n",
    "\n",
    "Compressor = score.Gaussian(len(PISNSimulator.data), theta_fiducial, prior_mean=theta_fiducial, prior_covariance=prior_C)\n",
    "Compressor.compute_mean_covariance(simulator = simulator, nsims = 20)\n",
    "Compressor.compute_fisher()\n",
    "Finv = Compressor.Finv\n",
    "def compressor(d, compressor_args):\n",
    "    return Compressor.scoreMLE(d)\n",
    "compressor_args=None\n",
    "\n",
    "plt.imshow(Compressor.C)\n",
    "plt.show()\n",
    "\n",
    "np.random.seed()\n",
    "Compressor.compute_derivatives(simulator = simulator, nsims = 20, h=h)\n",
    "print(Compressor.dmudt)\n"
   ]
  },
  {
   "cell_type": "code",
   "execution_count": 7,
   "metadata": {},
   "outputs": [
    {
     "data": {
      "text/plain": [
       "<ErrorbarContainer object of 3 artists>"
      ]
     },
     "execution_count": 7,
     "metadata": {},
     "output_type": "execute_result"
    },
    {
     "data": {
      "image/png": "[encoded data removed]",
      "text/plain": [
       "<Figure size 432x288 with 1 Axes>"
      ]
     },
     "metadata": {},
     "output_type": "display_data"
    }
   ],
   "source": [
    "plt.errorbar(PISNSimulator.aldata[0], PISNSimulator.dlofz(theta_fiducial), np.diag(PISNSimulator.L), color='k')\n",
    "\n",
    "plt.plot(PISNSimulator.aldata[0], PISNSimulator.dlofz(theta_fiducial+np.array([0.0, 0, -0.5, 0])))\n",
    "plt.plot(PISNSimulator.aldata[0], PISNSimulator.dlofz(np.array([67.8, 0.308, 0.0, 45])))\n",
    "plt.errorbar(PISNSimulator.aldata[0], PISNSimulator.data, yerr = (np.diag(PISNSimulator.L)))"
   ]
  },
  {
   "cell_type": "code",
   "execution_count": 8,
   "metadata": {},
   "outputs": [
    {
     "data": {
      "text/plain": [
       "array([0.67576254, 0.00307445, 0.23298354, 0.55393707])"
      ]
     },
     "execution_count": 8,
     "metadata": {},
     "output_type": "execute_result"
    }
   ],
   "source": [
    "np.sqrt(np.diag(Finv))"
   ]
  },
  {
   "cell_type": "code",
   "execution_count": 9,
   "metadata": {
    "collapsed": true
   },
   "outputs": [],
   "source": [
    "evals, evecs = np.linalg.eigh(Compressor.Finv)"
   ]
  },
  {
   "cell_type": "code",
   "execution_count": 10,
   "metadata": {},
   "outputs": [
    {
     "data": {
      "text/plain": [
       "(array([0.00306846, 0.10975387, 0.54355949, 0.68407928]),\n",
       " array([[-1.42767742e-04, -8.31342363e-02,  2.17222872e-01,\n",
       "         -9.72575397e-01],\n",
       "        [-9.99998491e-01,  1.73695594e-03,  3.87778961e-05,\n",
       "          6.98194352e-06],\n",
       "        [-1.61631904e-03, -9.21864985e-01, -3.87430705e-01,\n",
       "         -7.73208746e-03],\n",
       "        [-6.21046345e-04, -3.78484650e-01,  8.95941779e-01,\n",
       "          2.32459271e-01]]))"
      ]
     },
     "execution_count": 10,
     "metadata": {},
     "output_type": "execute_result"
    }
   ],
   "source": [
    "np.sqrt(evals), evecs"
   ]
  },
  {
   "cell_type": "code",
   "execution_count": 11,
   "metadata": {},
   "outputs": [
    {
     "name": "stdout",
     "output_type": "stream",
     "text": [
      "[ 62.88591057  71.89635922  80.1270399   87.36214782 100.17735672\n",
      " 116.36869667 105.02497209 121.70272645 139.64857745]\n"
     ]
    },
    {
     "data": {
      "text/plain": [
       "[<matplotlib.lines.Line2D at 0x134362748>]"
      ]
     },
     "execution_count": 11,
     "metadata": {},
     "output_type": "execute_result"
    },
    {
     "data": {
      "image/png": "[encoded data removed]",
      "text/plain": [
       "<Figure size 432x288 with 1 Axes>"
      ]
     },
     "metadata": {},
     "output_type": "display_data"
    }
   ],
   "source": [
    "s = np.random.randint(1<<32)\n",
    "print(simulator(theta_fiducial, s, None, 1))\n",
    "plt.plot(PISNSimulator.auxiliary_data, simulator(theta_fiducial, s, None, 1))\n",
    "plt.plot(PISNSimulator.auxiliary_data,simulator(theta_fiducial + np.array([10.0,0,0,0]), s, None, 1))\n",
    "plt.plot(PISNSimulator.auxiliary_data,simulator(theta_fiducial + np.array([0.0,0.1,0,0]), s, None, 1))\n",
    "plt.plot(PISNSimulator.auxiliary_data,simulator(theta_fiducial + np.array([0.0,0,+0.5,0]), s, None, 1))\n",
    "plt.plot(PISNSimulator.auxiliary_data,simulator(theta_fiducial + np.array([0.0,0,0,10.]), s, None, 1))\n",
    "\n",
    "# s = np.random.randint(1<<32)\n",
    "# plt.plot(PISNSimulator.auxiliary_data, simulator(theta_fiducial, s, None, 1))\n",
    "# s = np.random.randint(1<<32)\n",
    "# plt.plot(PISNSimulator.auxiliary_data, simulator(theta_fiducial, s, None, 1))"
   ]
  },
  {
   "cell_type": "markdown",
   "metadata": {
    "slideshow": {
     "slide_type": "slide"
    }
   },
   "source": [
    "## Load in the compressed data"
   ]
  },
  {
   "cell_type": "code",
   "execution_count": 12,
   "metadata": {
    "collapsed": true
   },
   "outputs": [],
   "source": [
    "compressed_data = compressor(PISNSimulator.data, compressor_args)"
   ]
  },
  {
   "cell_type": "markdown",
   "metadata": {
    "slideshow": {
     "slide_type": "slide"
    }
   },
   "source": [
    "## Define ensemble of NDEs"
   ]
  },
  {
   "cell_type": "code",
   "execution_count": 13,
   "metadata": {},
   "outputs": [
    {
     "name": "stdout",
     "output_type": "stream",
     "text": [
      "\n",
      "WARNING: The TensorFlow contrib module will not be included in TensorFlow 2.0.\n",
      "For more information, please see:\n",
      "  * https://github.com/tensorflow/community/blob/master/rfcs/20180907-contrib-sunset.md\n",
      "  * https://github.com/tensorflow/addons\n",
      "If you depend on functionality not listed there, please file an issue.\n",
      "\n"
     ]
    }
   ],
   "source": [
    "NDEs = [ndes.MixtureDensityNetwork(n_parameters=4, n_data=4, n_components=1, n_hidden=[30,30], activations=[tf.tanh, tf.tanh], index=0),\n",
    "       ndes.MixtureDensityNetwork(n_parameters=4, n_data=4, n_components=2, n_hidden=[30,30], activations=[tf.tanh, tf.tanh], index=1),\n",
    "       ndes.MixtureDensityNetwork(n_parameters=4, n_data=4, n_components=3, n_hidden=[30,30], activations=[tf.tanh, tf.tanh], index=2),\n",
    "       ndes.MixtureDensityNetwork(n_parameters=4, n_data=4, n_components=4, n_hidden=[30,30], activations=[tf.tanh, tf.tanh], index=3),\n",
    "       ndes.MixtureDensityNetwork(n_parameters=4, n_data=4, n_components=5, n_hidden=[30,30], activations=[tf.tanh, tf.tanh], index=4),\n",
    "       ndes.ConditionalMaskedAutoregressiveFlow(n_parameters=4, n_data=4, n_hiddens=[50,50], n_mades=5, act_fun=tf.tanh, index=5)]"
   ]
  },
  {
   "cell_type": "markdown",
   "metadata": {
    "slideshow": {
     "slide_type": "slide"
    }
   },
   "source": [
    "## Create DELFI object"
   ]
  },
  {
   "cell_type": "code",
   "execution_count": 14,
   "metadata": {
    "collapsed": true
   },
   "outputs": [],
   "source": [
    "DelfiEnsemble = delfi.Delfi(compressed_data, prior, NDEs, \n",
    "                            Finv = Finv, \n",
    "                            theta_fiducial = theta_fiducial, \n",
    "                            param_limits = [prior_low, prior_high],\n",
    "                            param_names = ['h_0', 'Omega_0', 'omega','m90'], \n",
    "                            results_dir = \"simulators/pisn/results/\",\n",
    "                            input_normalization=\"fisher\")"
   ]
  },
  {
   "cell_type": "markdown",
   "metadata": {
    "slideshow": {
     "slide_type": "slide"
    }
   },
   "source": [
    "## Fisher pre-training to initialize the NDEs"
   ]
  },
  {
   "cell_type": "code",
   "execution_count": 15,
   "metadata": {},
   "outputs": [
    {
     "data": {
      "application/vnd.jupyter.widget-view+json": {
       "model_id": "dd0904d18204465bb75c50918ae3fc47"
      }
     },
     "metadata": {},
     "output_type": "display_data"
    },
    {
     "ename": "ValueError",
     "evalue": "Parent directory of ./simulators/pisn/results/graph_checkpoint doesn't exist, can't save.",
     "output_type": "error",
     "traceback": [
      "\u001b[0;31m---------------------------------------------------------------------------\u001b[0m",
      "\u001b[0;31mNotFoundError\u001b[0m                             Traceback (most recent call last)",
      "\u001b[0;32m/Users/hyraland/.local/lib/python3.6/site-packages/tensorflow/python/client/session.py\u001b[0m in \u001b[0;36m_do_call\u001b[0;34m(self, fn, *args)\u001b[0m\n\u001b[1;32m   1333\u001b[0m     \u001b[0;32mtry\u001b[0m\u001b[0;34m:\u001b[0m\u001b[0;34m\u001b[0m\u001b[0m\n\u001b[0;32m-> 1334\u001b[0;31m       \u001b[0;32mreturn\u001b[0m \u001b[0mfn\u001b[0m\u001b[0;34m(\u001b[0m\u001b[0;34m*\u001b[0m\u001b[0margs\u001b[0m\u001b[0;34m)\u001b[0m\u001b[0;34m\u001b[0m\u001b[0m\n\u001b[0m\u001b[1;32m   1335\u001b[0m     \u001b[0;32mexcept\u001b[0m \u001b[0merrors\u001b[0m\u001b[0;34m.\u001b[0m\u001b[0mOpError\u001b[0m \u001b[0;32mas\u001b[0m \u001b[0me\u001b[0m\u001b[0;34m:\u001b[0m\u001b[0;34m\u001b[0m\u001b[0m\n",
      "\u001b[0;32m/Users/hyraland/.local/lib/python3.6/site-packages/tensorflow/python/client/session.py\u001b[0m in \u001b[0;36m_run_fn\u001b[0;34m(feed_dict, fetch_list, target_list, options, run_metadata)\u001b[0m\n\u001b[1;32m   1318\u001b[0m       return self._call_tf_sessionrun(\n\u001b[0;32m-> 1319\u001b[0;31m           options, feed_dict, fetch_list, target_list, run_metadata)\n\u001b[0m\u001b[1;32m   1320\u001b[0m \u001b[0;34m\u001b[0m\u001b[0m\n",
      "\u001b[0;32m/Users/hyraland/.local/lib/python3.6/site-packages/tensorflow/python/client/session.py\u001b[0m in \u001b[0;36m_call_tf_sessionrun\u001b[0;34m(self, options, feed_dict, fetch_list, target_list, run_metadata)\u001b[0m\n\u001b[1;32m   1406\u001b[0m         \u001b[0mself\u001b[0m\u001b[0;34m.\u001b[0m\u001b[0m_session\u001b[0m\u001b[0;34m,\u001b[0m \u001b[0moptions\u001b[0m\u001b[0;34m,\u001b[0m \u001b[0mfeed_dict\u001b[0m\u001b[0;34m,\u001b[0m \u001b[0mfetch_list\u001b[0m\u001b[0;34m,\u001b[0m \u001b[0mtarget_list\u001b[0m\u001b[0;34m,\u001b[0m\u001b[0;34m\u001b[0m\u001b[0m\n\u001b[0;32m-> 1407\u001b[0;31m         run_metadata)\n\u001b[0m\u001b[1;32m   1408\u001b[0m \u001b[0;34m\u001b[0m\u001b[0m\n",
      "\u001b[0;31mNotFoundError\u001b[0m: ./simulators/pisn/results; No such file or directory\n\t [[{{node save/SaveV2}}]]",
      "\nDuring handling of the above exception, another exception occurred:\n",
      "\u001b[0;31mNotFoundError\u001b[0m                             Traceback (most recent call last)",
      "\u001b[0;32m/Users/hyraland/.local/lib/python3.6/site-packages/tensorflow/python/training/saver.py\u001b[0m in \u001b[0;36msave\u001b[0;34m(self, sess, save_path, global_step, latest_filename, meta_graph_suffix, write_meta_graph, write_state, strip_default_attrs)\u001b[0m\n\u001b[1;32m   1170\u001b[0m               \u001b[0mself\u001b[0m\u001b[0;34m.\u001b[0m\u001b[0msaver_def\u001b[0m\u001b[0;34m.\u001b[0m\u001b[0msave_tensor_name\u001b[0m\u001b[0;34m,\u001b[0m\u001b[0;34m\u001b[0m\u001b[0m\n\u001b[0;32m-> 1171\u001b[0;31m               {self.saver_def.filename_tensor_name: checkpoint_file})\n\u001b[0m\u001b[1;32m   1172\u001b[0m \u001b[0;34m\u001b[0m\u001b[0m\n",
      "\u001b[0;32m/Users/hyraland/.local/lib/python3.6/site-packages/tensorflow/python/client/session.py\u001b[0m in \u001b[0;36mrun\u001b[0;34m(self, fetches, feed_dict, options, run_metadata)\u001b[0m\n\u001b[1;32m    928\u001b[0m       result = self._run(None, fetches, feed_dict, options_ptr,\n\u001b[0;32m--> 929\u001b[0;31m                          run_metadata_ptr)\n\u001b[0m\u001b[1;32m    930\u001b[0m       \u001b[0;32mif\u001b[0m \u001b[0mrun_metadata\u001b[0m\u001b[0;34m:\u001b[0m\u001b[0;34m\u001b[0m\u001b[0m\n",
      "\u001b[0;32m/Users/hyraland/.local/lib/python3.6/site-packages/tensorflow/python/client/session.py\u001b[0m in \u001b[0;36m_run\u001b[0;34m(self, handle, fetches, feed_dict, options, run_metadata)\u001b[0m\n\u001b[1;32m   1151\u001b[0m       results = self._do_run(handle, final_targets, final_fetches,\n\u001b[0;32m-> 1152\u001b[0;31m                              feed_dict_tensor, options, run_metadata)\n\u001b[0m\u001b[1;32m   1153\u001b[0m     \u001b[0;32melse\u001b[0m\u001b[0;34m:\u001b[0m\u001b[0;34m\u001b[0m\u001b[0m\n",
      "\u001b[0;32m/Users/hyraland/.local/lib/python3.6/site-packages/tensorflow/python/client/session.py\u001b[0m in \u001b[0;36m_do_run\u001b[0;34m(self, handle, target_list, fetch_list, feed_dict, options, run_metadata)\u001b[0m\n\u001b[1;32m   1327\u001b[0m       return self._do_call(_run_fn, feeds, fetches, targets, options,\n\u001b[0;32m-> 1328\u001b[0;31m                            run_metadata)\n\u001b[0m\u001b[1;32m   1329\u001b[0m     \u001b[0;32melse\u001b[0m\u001b[0;34m:\u001b[0m\u001b[0;34m\u001b[0m\u001b[0m\n",
      "\u001b[0;32m/Users/hyraland/.local/lib/python3.6/site-packages/tensorflow/python/client/session.py\u001b[0m in \u001b[0;36m_do_call\u001b[0;34m(self, fn, *args)\u001b[0m\n\u001b[1;32m   1347\u001b[0m       \u001b[0mmessage\u001b[0m \u001b[0;34m=\u001b[0m \u001b[0merror_interpolation\u001b[0m\u001b[0;34m.\u001b[0m\u001b[0minterpolate\u001b[0m\u001b[0;34m(\u001b[0m\u001b[0mmessage\u001b[0m\u001b[0;34m,\u001b[0m \u001b[0mself\u001b[0m\u001b[0;34m.\u001b[0m\u001b[0m_graph\u001b[0m\u001b[0;34m)\u001b[0m\u001b[0;34m\u001b[0m\u001b[0m\n\u001b[0;32m-> 1348\u001b[0;31m       \u001b[0;32mraise\u001b[0m \u001b[0mtype\u001b[0m\u001b[0;34m(\u001b[0m\u001b[0me\u001b[0m\u001b[0;34m)\u001b[0m\u001b[0;34m(\u001b[0m\u001b[0mnode_def\u001b[0m\u001b[0;34m,\u001b[0m \u001b[0mop\u001b[0m\u001b[0;34m,\u001b[0m \u001b[0mmessage\u001b[0m\u001b[0;34m)\u001b[0m\u001b[0;34m\u001b[0m\u001b[0m\n\u001b[0m\u001b[1;32m   1349\u001b[0m \u001b[0;34m\u001b[0m\u001b[0m\n",
      "\u001b[0;31mNotFoundError\u001b[0m: ./simulators/pisn/results; No such file or directory\n\t [[node save/SaveV2 (defined at /Users/hyraland/anaconda/lib/python3.6/site-packages/pydelfi-0.1-py3.6.egg/pydelfi/train.py:61) ]]\n\nCaused by op 'save/SaveV2', defined at:\n  File \"/Users/hyraland/anaconda/lib/python3.6/runpy.py\", line 193, in _run_module_as_main\n    \"__main__\", mod_spec)\n  File \"/Users/hyraland/anaconda/lib/python3.6/runpy.py\", line 85, in _run_code\n    exec(code, run_globals)\n  File \"/Users/hyraland/anaconda/lib/python3.6/site-packages/ipykernel_launcher.py\", line 16, in <module>\n    app.launch_new_instance()\n  File \"/Users/hyraland/anaconda/lib/python3.6/site-packages/traitlets/config/application.py\", line 658, in launch_instance\n    app.start()\n  File \"/Users/hyraland/anaconda/lib/python3.6/site-packages/ipykernel/kernelapp.py\", line 477, in start\n    ioloop.IOLoop.instance().start()\n  File \"/Users/hyraland/anaconda/lib/python3.6/site-packages/zmq/eventloop/ioloop.py\", line 177, in start\n    super(ZMQIOLoop, self).start()\n  File \"/Users/hyraland/anaconda/lib/python3.6/site-packages/tornado/ioloop.py\", line 888, in start\n    handler_func(fd_obj, events)\n  File \"/Users/hyraland/anaconda/lib/python3.6/site-packages/tornado/stack_context.py\", line 277, in null_wrapper\n    return fn(*args, **kwargs)\n  File \"/Users/hyraland/anaconda/lib/python3.6/site-packages/zmq/eventloop/zmqstream.py\", line 440, in _handle_events\n    self._handle_recv()\n  File \"/Users/hyraland/anaconda/lib/python3.6/site-packages/zmq/eventloop/zmqstream.py\", line 472, in _handle_recv\n    self._run_callback(callback, msg)\n  File \"/Users/hyraland/anaconda/lib/python3.6/site-packages/zmq/eventloop/zmqstream.py\", line 414, in _run_callback\n    callback(*args, **kwargs)\n  File \"/Users/hyraland/anaconda/lib/python3.6/site-packages/tornado/stack_context.py\", line 277, in null_wrapper\n    return fn(*args, **kwargs)\n  File \"/Users/hyraland/anaconda/lib/python3.6/site-packages/ipykernel/kernelbase.py\", line 283, in dispatcher\n    return self.dispatch_shell(stream, msg)\n  File \"/Users/hyraland/anaconda/lib/python3.6/site-packages/ipykernel/kernelbase.py\", line 235, in dispatch_shell\n    handler(stream, idents, msg)\n  File \"/Users/hyraland/anaconda/lib/python3.6/site-packages/ipykernel/kernelbase.py\", line 399, in execute_request\n    user_expressions, allow_stdin)\n  File \"/Users/hyraland/anaconda/lib/python3.6/site-packages/ipykernel/ipkernel.py\", line 196, in do_execute\n    res = shell.run_cell(code, store_history=store_history, silent=silent)\n  File \"/Users/hyraland/anaconda/lib/python3.6/site-packages/ipykernel/zmqshell.py\", line 533, in run_cell\n    return super(ZMQInteractiveShell, self).run_cell(*args, **kwargs)\n  File \"/Users/hyraland/anaconda/lib/python3.6/site-packages/IPython/core/interactiveshell.py\", line 2717, in run_cell\n    interactivity=interactivity, compiler=compiler, result=result)\n  File \"/Users/hyraland/anaconda/lib/python3.6/site-packages/IPython/core/interactiveshell.py\", line 2827, in run_ast_nodes\n    if self.run_code(code, result):\n  File \"/Users/hyraland/anaconda/lib/python3.6/site-packages/IPython/core/interactiveshell.py\", line 2881, in run_code\n    exec(code_obj, self.user_global_ns, self.user_ns)\n  File \"<ipython-input-15-2767d56e396a>\", line 1, in <module>\n    DelfiEnsemble.fisher_pretraining()\n  File \"/Users/hyraland/anaconda/lib/python3.6/site-packages/pydelfi-0.1-py3.6.egg/pydelfi/delfi.py\", line 606, in fisher_pretraining\n    self.train_ndes(training_data=[fisher_x_train, fisher_y_train, np.atleast_2d(fisher_logpdf_train).reshape(-1,1)], validation_split = validation_split, epochs=epochs, batch_size=batch_size, patience=patience, mode='regression')\n  File \"/Users/hyraland/anaconda/lib/python3.6/site-packages/pydelfi-0.1-py3.6.egg/pydelfi/delfi.py\", line 523, in train_ndes\n    val_loss, train_loss = self.trainer[n].train(self.sess, training_data, validation_split = validation_split, epochs=epochs, batch_size=batch_size, progress_bar=self.progress_bar, patience=patience, saver_name=self.graph_restore_filename, mode=mode)\n  File \"/Users/hyraland/anaconda/lib/python3.6/site-packages/pydelfi-0.1-py3.6.egg/pydelfi/train.py\", line 61, in train\n    saver = tf.train.Saver()\n  File \"/Users/hyraland/.local/lib/python3.6/site-packages/tensorflow/python/training/saver.py\", line 832, in __init__\n    self.build()\n  File \"/Users/hyraland/.local/lib/python3.6/site-packages/tensorflow/python/training/saver.py\", line 844, in build\n    self._build(self._filename, build_save=True, build_restore=True)\n  File \"/Users/hyraland/.local/lib/python3.6/site-packages/tensorflow/python/training/saver.py\", line 881, in _build\n    build_save=build_save, build_restore=build_restore)\n  File \"/Users/hyraland/.local/lib/python3.6/site-packages/tensorflow/python/training/saver.py\", line 510, in _build_internal\n    save_tensor = self._AddSaveOps(filename_tensor, saveables)\n  File \"/Users/hyraland/.local/lib/python3.6/site-packages/tensorflow/python/training/saver.py\", line 210, in _AddSaveOps\n    save = self.save_op(filename_tensor, saveables)\n  File \"/Users/hyraland/.local/lib/python3.6/site-packages/tensorflow/python/training/saver.py\", line 124, in save_op\n    tensors)\n  File \"/Users/hyraland/.local/lib/python3.6/site-packages/tensorflow/python/ops/gen_io_ops.py\", line 1807, in save_v2\n    name=name)\n  File \"/Users/hyraland/.local/lib/python3.6/site-packages/tensorflow/python/framework/op_def_library.py\", line 788, in _apply_op_helper\n    op_def=op_def)\n  File \"/Users/hyraland/.local/lib/python3.6/site-packages/tensorflow/python/util/deprecation.py\", line 507, in new_func\n    return func(*args, **kwargs)\n  File \"/Users/hyraland/.local/lib/python3.6/site-packages/tensorflow/python/framework/ops.py\", line 3300, in create_op\n    op_def=op_def)\n  File \"/Users/hyraland/.local/lib/python3.6/site-packages/tensorflow/python/framework/ops.py\", line 1801, in __init__\n    self._traceback = tf_stack.extract_stack()\n\nNotFoundError (see above for traceback): ./simulators/pisn/results; No such file or directory\n\t [[node save/SaveV2 (defined at /Users/hyraland/anaconda/lib/python3.6/site-packages/pydelfi-0.1-py3.6.egg/pydelfi/train.py:61) ]]\n",
      "\nDuring handling of the above exception, another exception occurred:\n",
      "\u001b[0;31mValueError\u001b[0m                                Traceback (most recent call last)",
      "\u001b[0;32m<ipython-input-15-2767d56e396a>\u001b[0m in \u001b[0;36m<module>\u001b[0;34m()\u001b[0m\n\u001b[0;32m----> 1\u001b[0;31m \u001b[0mDelfiEnsemble\u001b[0m\u001b[0;34m.\u001b[0m\u001b[0mfisher_pretraining\u001b[0m\u001b[0;34m(\u001b[0m\u001b[0;34m)\u001b[0m\u001b[0;34m\u001b[0m\u001b[0m\n\u001b[0m",
      "\u001b[0;32m/Users/hyraland/anaconda/lib/python3.6/site-packages/pydelfi-0.1-py3.6.egg/pydelfi/delfi.py\u001b[0m in \u001b[0;36mfisher_pretraining\u001b[0;34m(self, n_batch, plot, batch_size, validation_split, epochs, patience)\u001b[0m\n\u001b[1;32m    604\u001b[0m \u001b[0;34m\u001b[0m\u001b[0m\n\u001b[1;32m    605\u001b[0m             \u001b[0;31m# Train the networks on these initial simulations\u001b[0m\u001b[0;34m\u001b[0m\u001b[0;34m\u001b[0m\u001b[0m\n\u001b[0;32m--> 606\u001b[0;31m             \u001b[0mself\u001b[0m\u001b[0;34m.\u001b[0m\u001b[0mtrain_ndes\u001b[0m\u001b[0;34m(\u001b[0m\u001b[0mtraining_data\u001b[0m\u001b[0;34m=\u001b[0m\u001b[0;34m[\u001b[0m\u001b[0mfisher_x_train\u001b[0m\u001b[0;34m,\u001b[0m \u001b[0mfisher_y_train\u001b[0m\u001b[0;34m,\u001b[0m \u001b[0mnp\u001b[0m\u001b[0;34m.\u001b[0m\u001b[0matleast_2d\u001b[0m\u001b[0;34m(\u001b[0m\u001b[0mfisher_logpdf_train\u001b[0m\u001b[0;34m)\u001b[0m\u001b[0;34m.\u001b[0m\u001b[0mreshape\u001b[0m\u001b[0;34m(\u001b[0m\u001b[0;34m-\u001b[0m\u001b[0;36m1\u001b[0m\u001b[0;34m,\u001b[0m\u001b[0;36m1\u001b[0m\u001b[0;34m)\u001b[0m\u001b[0;34m]\u001b[0m\u001b[0;34m,\u001b[0m \u001b[0mvalidation_split\u001b[0m \u001b[0;34m=\u001b[0m \u001b[0mvalidation_split\u001b[0m\u001b[0;34m,\u001b[0m \u001b[0mepochs\u001b[0m\u001b[0;34m=\u001b[0m\u001b[0mepochs\u001b[0m\u001b[0;34m,\u001b[0m \u001b[0mbatch_size\u001b[0m\u001b[0;34m=\u001b[0m\u001b[0mbatch_size\u001b[0m\u001b[0;34m,\u001b[0m \u001b[0mpatience\u001b[0m\u001b[0;34m=\u001b[0m\u001b[0mpatience\u001b[0m\u001b[0;34m,\u001b[0m \u001b[0mmode\u001b[0m\u001b[0;34m=\u001b[0m\u001b[0;34m'regression'\u001b[0m\u001b[0;34m)\u001b[0m\u001b[0;34m\u001b[0m\u001b[0m\n\u001b[0m\u001b[1;32m    607\u001b[0m \u001b[0;34m\u001b[0m\u001b[0m\n\u001b[1;32m    608\u001b[0m             \u001b[0;31m# Generate posterior samples\u001b[0m\u001b[0;34m\u001b[0m\u001b[0;34m\u001b[0m\u001b[0m\n",
      "\u001b[0;32m/Users/hyraland/anaconda/lib/python3.6/site-packages/pydelfi-0.1-py3.6.egg/pydelfi/delfi.py\u001b[0m in \u001b[0;36mtrain_ndes\u001b[0;34m(self, training_data, batch_size, validation_split, epochs, patience, mode)\u001b[0m\n\u001b[1;32m    521\u001b[0m         \u001b[0;32mfor\u001b[0m \u001b[0mn\u001b[0m \u001b[0;32min\u001b[0m \u001b[0mrange\u001b[0m\u001b[0;34m(\u001b[0m\u001b[0mself\u001b[0m\u001b[0;34m.\u001b[0m\u001b[0mn_ndes\u001b[0m\u001b[0;34m)\u001b[0m\u001b[0;34m:\u001b[0m\u001b[0;34m\u001b[0m\u001b[0m\n\u001b[1;32m    522\u001b[0m             \u001b[0;31m# Train the NDE\u001b[0m\u001b[0;34m\u001b[0m\u001b[0;34m\u001b[0m\u001b[0m\n\u001b[0;32m--> 523\u001b[0;31m             \u001b[0mval_loss\u001b[0m\u001b[0;34m,\u001b[0m \u001b[0mtrain_loss\u001b[0m \u001b[0;34m=\u001b[0m \u001b[0mself\u001b[0m\u001b[0;34m.\u001b[0m\u001b[0mtrainer\u001b[0m\u001b[0;34m[\u001b[0m\u001b[0mn\u001b[0m\u001b[0;34m]\u001b[0m\u001b[0;34m.\u001b[0m\u001b[0mtrain\u001b[0m\u001b[0;34m(\u001b[0m\u001b[0mself\u001b[0m\u001b[0;34m.\u001b[0m\u001b[0msess\u001b[0m\u001b[0;34m,\u001b[0m \u001b[0mtraining_data\u001b[0m\u001b[0;34m,\u001b[0m \u001b[0mvalidation_split\u001b[0m \u001b[0;34m=\u001b[0m \u001b[0mvalidation_split\u001b[0m\u001b[0;34m,\u001b[0m \u001b[0mepochs\u001b[0m\u001b[0;34m=\u001b[0m\u001b[0mepochs\u001b[0m\u001b[0;34m,\u001b[0m \u001b[0mbatch_size\u001b[0m\u001b[0;34m=\u001b[0m\u001b[0mbatch_size\u001b[0m\u001b[0;34m,\u001b[0m \u001b[0mprogress_bar\u001b[0m\u001b[0;34m=\u001b[0m\u001b[0mself\u001b[0m\u001b[0;34m.\u001b[0m\u001b[0mprogress_bar\u001b[0m\u001b[0;34m,\u001b[0m \u001b[0mpatience\u001b[0m\u001b[0;34m=\u001b[0m\u001b[0mpatience\u001b[0m\u001b[0;34m,\u001b[0m \u001b[0msaver_name\u001b[0m\u001b[0;34m=\u001b[0m\u001b[0mself\u001b[0m\u001b[0;34m.\u001b[0m\u001b[0mgraph_restore_filename\u001b[0m\u001b[0;34m,\u001b[0m \u001b[0mmode\u001b[0m\u001b[0;34m=\u001b[0m\u001b[0mmode\u001b[0m\u001b[0;34m)\u001b[0m\u001b[0;34m\u001b[0m\u001b[0m\n\u001b[0m\u001b[1;32m    524\u001b[0m \u001b[0;34m\u001b[0m\u001b[0m\n\u001b[1;32m    525\u001b[0m             \u001b[0;31m# Save the training and validation losses\u001b[0m\u001b[0;34m\u001b[0m\u001b[0;34m\u001b[0m\u001b[0m\n",
      "\u001b[0;32m/Users/hyraland/anaconda/lib/python3.6/site-packages/pydelfi-0.1-py3.6.egg/pydelfi/train.py\u001b[0m in \u001b[0;36mtrain\u001b[0;34m(self, sess, train_data, validation_split, epochs, batch_size, patience, saver_name, progress_bar, mode)\u001b[0m\n\u001b[1;32m    105\u001b[0m                 \u001b[0mbst_loss\u001b[0m \u001b[0;34m=\u001b[0m \u001b[0mval_loss\u001b[0m\u001b[0;34m\u001b[0m\u001b[0m\n\u001b[1;32m    106\u001b[0m                 \u001b[0;32mif\u001b[0m \u001b[0msaver_name\u001b[0m \u001b[0;32mis\u001b[0m \u001b[0;32mnot\u001b[0m \u001b[0;32mNone\u001b[0m\u001b[0;34m:\u001b[0m\u001b[0;34m\u001b[0m\u001b[0m\n\u001b[0;32m--> 107\u001b[0;31m                     \u001b[0msaver\u001b[0m\u001b[0;34m.\u001b[0m\u001b[0msave\u001b[0m\u001b[0;34m(\u001b[0m\u001b[0msess\u001b[0m\u001b[0;34m,\u001b[0m\u001b[0;34m\"./\"\u001b[0m\u001b[0;34m+\u001b[0m\u001b[0msaver_name\u001b[0m\u001b[0;34m)\u001b[0m\u001b[0;34m\u001b[0m\u001b[0m\n\u001b[0m\u001b[1;32m    108\u001b[0m                 \u001b[0mearly_stopping_count\u001b[0m \u001b[0;34m=\u001b[0m \u001b[0;36m0\u001b[0m\u001b[0;34m\u001b[0m\u001b[0m\n\u001b[1;32m    109\u001b[0m             \u001b[0;32melse\u001b[0m\u001b[0;34m:\u001b[0m\u001b[0;34m\u001b[0m\u001b[0m\n",
      "\u001b[0;32m/Users/hyraland/.local/lib/python3.6/site-packages/tensorflow/python/training/saver.py\u001b[0m in \u001b[0;36msave\u001b[0;34m(self, sess, save_path, global_step, latest_filename, meta_graph_suffix, write_meta_graph, write_state, strip_default_attrs)\u001b[0m\n\u001b[1;32m   1186\u001b[0m               \"Parent directory of {} doesn't exist, can't save.\".format(\n\u001b[1;32m   1187\u001b[0m                   save_path))\n\u001b[0;32m-> 1188\u001b[0;31m         \u001b[0;32mraise\u001b[0m \u001b[0mexc\u001b[0m\u001b[0;34m\u001b[0m\u001b[0m\n\u001b[0m\u001b[1;32m   1189\u001b[0m \u001b[0;34m\u001b[0m\u001b[0m\n\u001b[1;32m   1190\u001b[0m     \u001b[0;32mif\u001b[0m \u001b[0mwrite_meta_graph\u001b[0m\u001b[0;34m:\u001b[0m\u001b[0;34m\u001b[0m\u001b[0m\n",
      "\u001b[0;31mValueError\u001b[0m: Parent directory of ./simulators/pisn/results/graph_checkpoint doesn't exist, can't save."
     ]
    },
    {
     "name": "stdout",
     "output_type": "stream",
     "text": [
      "\n"
     ]
    }
   ],
   "source": [
    "DelfiEnsemble.fisher_pretraining()"
   ]
  },
  {
   "cell_type": "markdown",
   "metadata": {
    "slideshow": {
     "slide_type": "slide"
    }
   },
   "source": [
    "## Sequential Neural Likelihood"
   ]
  },
  {
   "cell_type": "code",
   "execution_count": null,
   "metadata": {},
   "outputs": [],
   "source": [
    "n_initial = 200\n",
    "n_batch = 200\n",
    "n_populations = 10\n",
    "\n",
    "DelfiEnsemble.sequential_training(simulator, compressor, n_initial, n_batch, n_populations, patience=20,\n",
    "                       save_intermediate_posteriors=False)"
   ]
  },
  {
   "cell_type": "markdown",
   "metadata": {},
   "source": [
    "## Sample the learned posterior"
   ]
  },
  {
   "cell_type": "code",
   "execution_count": null,
   "metadata": {},
   "outputs": [],
   "source": [
    "posterior_samples = DelfiEnsemble.emcee_sample()"
   ]
  },
  {
   "cell_type": "markdown",
   "metadata": {},
   "source": [
    "## Alright let's plot it!\n",
    "Feed it a list of `(n_samples, n_parameters)` arrays for making a triangle plot; in this case let's just plot the posterior samples."
   ]
  },
  {
   "cell_type": "code",
   "execution_count": null,
   "metadata": {},
   "outputs": [],
   "source": [
    "DelfiEnsemble.triangle_plot(samples=[posterior_samples])"
   ]
  },
  {
   "cell_type": "code",
   "execution_count": null,
   "metadata": {
    "collapsed": true
   },
   "outputs": [],
   "source": []
  }
 ],
 "metadata": {
  "celltoolbar": "Slideshow",
  "kernelspec": {
   "display_name": "Python 3",
   "language": "python",
   "name": "python3"
  },
  "language_info": {
   "codemirror_mode": {
    "name": "ipython",
    "version": 3
   },
   "file_extension": ".py",
   "mimetype": "text/x-python",
   "name": "python",
   "nbconvert_exporter": "python",
   "pygments_lexer": "ipython3",
   "version": "3.6.1"
  }
 },
 "nbformat": 4,
 "nbformat_minor": 1
}
