{
 "cells": [
  {
   "cell_type": "code",
   "execution_count": 1,
   "metadata": {
    "collapsed": true,
    "slideshow": {
     "slide_type": "-"
    }
   },
   "outputs": [],
   "source": [
    "import numpy as np\n",
    "import scipy.integrate as integrate\n",
    "import pydelfi.ndes as ndes\n",
    "from pydelfi import delfi\n",
    "import pydelfi.score as score\n",
    "import pydelfi.priors as priors\n",
    "import tensorflow as tf\n",
    "import h5py\n",
    "import tqdm\n",
    "from astropy.cosmology import Planck15, z_at_value, FlatwCDM\n",
    "import astropy.units as u\n",
    "from scipy.integrate import cumtrapz\n",
    "from scipy.interpolate import RectBivariateSpline, interp1d\n",
    "from true_params import true_params, uncert, ifo\n",
    "tf.logging.set_verbosity(tf.logging.ERROR)\n",
    "import matplotlib\n",
    "matplotlib.use('TkAgg')\n",
    "import matplotlib.pyplot as plt\n",
    "%matplotlib inline"
   ]
  },
  {
   "cell_type": "markdown",
   "metadata": {
    "slideshow": {
     "slide_type": "slide"
    }
   },
   "source": [
    "## Set up the simulator\n",
    "This must have the signature `simulator(parameters, seed, args, batch)` -> `np.array([batch, ndata])`"
   ]
  },
  {
   "cell_type": "code",
   "execution_count": 2,
   "metadata": {
    "collapsed": true
   },
   "outputs": [],
   "source": [
    "with h5py.File('/Users/hyraland/Projects/GW/Cosmology/PISNLineCosmography/thetas.h5', 'r') as f:\n",
    "    thetas = np.array(f['Theta'])\n",
    "thetas = np.sort(np.concatenate((thetas, [0,1])))\n",
    "ticum = interp1d(np.linspace(0, 1, len(thetas)), thetas)\n",
    "\n",
    "with h5py.File('/Users/hyraland/Projects/GW/Cosmology/PISNLineCosmography/optimal_snr.h5', 'r') as f:\n",
    "    ms = np.array(f['ms'])\n",
    "    rhos = np.array(f['SNR'])\n",
    "oint = RectBivariateSpline(ms, ms, rhos)"
   ]
  },
  {
   "cell_type": "code",
   "execution_count": 3,
   "metadata": {
    "collapsed": true
   },
   "outputs": [],
   "source": [
    "def optimal_snr(m1obs, m2obs, dl):\n",
    "    return oint.ev(m1obs, m2obs)/dl\n",
    "\n",
    "zMax = 2 # determined based on making sure the observed redshift distribution tails off completely\n",
    "z = np.expm1(np.linspace(np.log(1), np.log(zMax+1), 1000))\n",
    "\n",
    "def event(h0, omegam, om, z):\n",
    "# # Use this for parameter dependent distribution\n",
    "    cosm = FlatwCDM(h0, omegam, om)\n",
    "    dNdz = 4.0*np.pi*true_params['R0']*(1+z)**(true_params['gamma']-1)*cosm.differential_comoving_volume(z).to(u.Gpc**3/u.sr).value\n",
    "\n",
    "    Nperyear = np.trapz(dNdz, z)\n",
    "    Nz = cumtrapz(dNdz, z, initial=0)\n",
    "\n",
    "    z_icdf = interp1d(Nz/Nperyear, z)\n",
    "\n",
    "    return Nperyear, Nz, z_icdf\n",
    "\n",
    "mmin = true_params['MMin']\n",
    "mmax = true_params['MMax']\n",
    "\n",
    "def draw_pl(x0, x1, alpha, N):\n",
    "    r = np.random.rand(N)\n",
    "    opa = 1+alpha\n",
    "    return (x0**opa*(1-r) + x1**opa*r)**(1/opa)\n",
    "\n",
    "def draw_truth(z_icdf, N, alpha, beta, mmin, mmax):\n",
    "    m2 = np.linspace(1.0,1.0,N)\n",
    "    m1 = np.linspace(0.0,0.0,N)\n",
    "    #print('draw truth for start')\n",
    "    while np.any(m2 > m1):\n",
    "        sel = m2 > m1\n",
    "        m1[sel] = draw_pl(mmin,mmax,-alpha,len(m1[sel]))\n",
    "        m2[sel] = draw_pl(mmin,mmax,beta,len(m2[sel]))\n",
    "\n",
    "    #print('draw truth for end')\n",
    "    z = z_icdf(np.random.rand(N))\n",
    "    t = ticum(np.random.rand(N))\n",
    "    \n",
    "    return (m1, m2, z, t)\n",
    "\n",
    "def observe(h0, omegam, om, m1, m2, z, t, N0):\n",
    "    #print('observe using N0')\n",
    "    cosm = FlatwCDM(h0, omegam, om)\n",
    "    m1obs = m1*(1+z)\n",
    "    m2obs = m2*(1+z)\n",
    "    z0 = np.expm1(np.linspace(np.log(1), np.log(3), 1000))\n",
    "    d = cosm.luminosity_distance(z0).to(u.Gpc).value\n",
    "    d_of_z = interp1d(z0, d)\n",
    "    dl = d_of_z(z) # cosm.luminosity_distance(z).to(u.Gpc).value\n",
    "    rho = optimal_snr(m1obs, m2obs, dl)*t\n",
    "    \n",
    "    rho_obs = rho + np.random.randn(N0)\n",
    "    sel = rho_obs > 8\n",
    "    #print('observe using N0 over')\n",
    "    m1obs = m1obs[sel]\n",
    "    m2obs = m2obs[sel]\n",
    "    dl = dl[sel]\n",
    "    rho_obs = rho_obs[sel]\n",
    "    ttrue = t[sel]\n",
    "    \n",
    "    mt = m1obs+m2obs\n",
    "    eta = m1obs*m2obs/(mt*mt)\n",
    "    mc = mt*eta**(3.0/5.0)\n",
    "    N = len(dl)\n",
    "\n",
    "    smc = abs(uncert['threshold_snr']/rho_obs*uncert['mc'])    \n",
    "    mcobs = np.random.lognormal(mean=np.log(mc), sigma=smc)\n",
    "    \n",
    "    seta = uncert['threshold_snr']/rho_obs*uncert['eta']\n",
    "    etaobs = np.linspace(1,1,N)\n",
    "    for i in range(N):\n",
    "        while (etaobs[i] < 0) or (etaobs[i] > 0.25):\n",
    "            etaobs[i] = eta[i] + seta[i]*np.random.randn()\n",
    "        \n",
    "    st = uncert['threshold_snr']/rho_obs*uncert['Theta']\n",
    "    tobs = np.linspace(2,2,N)\n",
    "    for i in range(N):\n",
    "        while (tobs[i] < 0) or (tobs[i] > 1):\n",
    "            tobs[i] = ttrue[i] + st[i]*np.random.randn()\n",
    "\n",
    "    return ((mcobs, etaobs, rho_obs, tobs), (smc, seta, 1.0, st))\n",
    "\n",
    "def mc_eta_from_m1m2(m1, m2):\n",
    "    mt = m1+m2\n",
    "    eta = m1*m2/(mt*mt)\n",
    "    mc = mt*eta**(0.6)\n",
    "    return mc, eta\n",
    "def m1m2_from_mc_eta(mc, eta):\n",
    "    mt = mc/eta**(0.6)\n",
    "    \n",
    "    disc = 1-4*eta\n",
    "    sd = np.sqrt(disc)\n",
    "    m1 = 0.5*mt*(1+sd)\n",
    "    m2 = 0.5*mt*(1-sd)\n",
    "    return m1, m2\n",
    "\n",
    "def dl_from_rho(tobs, rhoobs, m1obs, m2obs):\n",
    "    return tobs*oint.ev(m1obs, m2obs)/rhoobs\n"
   ]
  },
  {
   "cell_type": "code",
   "execution_count": 4,
   "metadata": {
    "collapsed": true
   },
   "outputs": [],
   "source": [
    "def cd(n, d):\n",
    "    d = array(d)\n",
    "    out.create_dataset(n, data=d, compression='gzip', shuffle=True)\n",
    "\n",
    "def get_obsdata(h0, omegam, om, alpha, beta, mmin, mmax, Nperyear, z_icdf, seed):\n",
    "    \n",
    "    old_state = np.random.get_state()\n",
    "    np.random.seed(seed)\n",
    "\n",
    "    Nsmall_tot = np.random.poisson(Nperyear/12.0) # One month\n",
    "    N1yr_tot = Nsmall_tot + np.random.poisson(Nperyear*(1-1/12.0)) # One year\n",
    "    N5yr_tot = N1yr_tot + np.random.poisson(Nperyear*4) # Five years\n",
    "    m1s, m2s, zs, thetas = draw_truth(z_icdf, N1yr_tot, alpha, beta, mmin, mmax)\n",
    "    (mcobs, etaobs, rhoobs, tobs), (smc, seta, srh, st) = observe(h0, omegam, om, m1s, m2s, zs, thetas, N1yr_tot)\n",
    "\n",
    "    return (mcobs, etaobs, rhoobs, tobs)"
   ]
  },
  {
   "cell_type": "code",
   "execution_count": 5,
   "metadata": {
    "collapsed": true
   },
   "outputs": [],
   "source": [
    "# different way of binning data from LFI_pisn_model\n",
    "\n",
    "def bin_data(nbin, dl, m1, dlrange):\n",
    "\n",
    "    m90 = np.linspace(0, 0, nbin)\n",
    "    m50 = np.linspace(0, 0, nbin)\n",
    "    m90_dl = np.linspace(0, 0, nbin)\n",
    "    m50_dl = np.linspace(0, 0, nbin)\n",
    "\n",
    "    for j in range(nbin):\n",
    "        #m90_dl[j] = 0.5*(dlrange[j]+dlrange[j+1])\n",
    "        m_temp = []\n",
    "        m90_back = []\n",
    "        dl_temp = []\n",
    "\n",
    "        for i in range(len(dl[:])):\n",
    "            dl_t = dl[i]  \n",
    "            if dl_t > dlrange[j] and dl_t < dlrange[j+1]:\n",
    "                m_temp.append(m1[i])\n",
    "                m90_back.append(m1[i])\n",
    "                dl_temp.append(dl_t)\n",
    "        ind90 = int(len(m_temp)*0.9)\n",
    "        # print(j, ind90, len(m90_temp))\n",
    "        if len(m_temp)*0.9 < 1:\n",
    "            ind90 = 0\n",
    "\n",
    "        m90t = (np.sort(np.asarray(m_temp))[ind90])\n",
    "        dlind = np.where(m90_back == m90t)\n",
    "        dl90t = np.asarray(dl_temp)[dlind]\n",
    "        m50_dl[j] = np.mean(dl_temp)\n",
    "        m90_dl[j] = dl90t\n",
    "\n",
    "        m90[j] = m90t\n",
    "        m50[j] = np.mean(m_temp)\n",
    "    \n",
    "    return m90, m50, m90_dl, m50_dl\n",
    "    #return m1, dl\n",
    "    \n",
    "def bin_data_equinum(nbin, dl, m1):\n",
    "    nsample = len(m1)+0.0\n",
    "    nperbin = int(nsample/(nbin))\n",
    "    count = 0\n",
    "    \n",
    "    dlrange = np.linspace(0, 0, nbin+1)\n",
    "\n",
    "    m90 = np.linspace(0, 0, nbin)\n",
    "    m50 = np.linspace(0, 0, nbin)\n",
    "    m90_dl = np.linspace(0, 0, nbin)\n",
    "    m50_dl = np.linspace(0, 0, nbin)\n",
    "\n",
    "    pairdlm = sorted(zip(dl, m1))\n",
    "    m1sort = [x1 for _,x1 in pairdlm]\n",
    "    dlsort = [x2 for x2,_ in pairdlm]\n",
    "    dlrange[-1] = dlsort[-1]\n",
    "    for j in range(nbin):\n",
    "        m_temp = []\n",
    "        m90_back = []\n",
    "        dl_temp = []\n",
    "        for i in range(nperbin): \n",
    "            m_temp.append(m1sort[i+count*nperbin])\n",
    "            m90_back.append(m1sort[i+count*nperbin])\n",
    "            dl_temp.append(dlsort[i+count*nperbin])\n",
    "        ind90 = int(len(m_temp)*0.9)\n",
    "        #print(j, ind90, len(m90_temp))\n",
    "        if len(m_temp)*0.9 < 1:\n",
    "            ind90 = 0\n",
    "        m90t = (np.sort(np.asarray(m_temp))[ind90])\n",
    "        dlind = np.where(m90_back == m90t)\n",
    "        dl90t = np.asarray(dl_temp)[dlind]\n",
    "        m50_dl[j] =  np.mean(dl_temp)\n",
    "        m90_dl[j] =  dl90t\n",
    "\n",
    "        m90[j] = m90t\n",
    "        m50[j] = np.mean(m_temp)\n",
    "        dlrange[j] = dlsort[count*nperbin]\n",
    "        count += 1\n",
    "\n",
    "    return m90, m50, m90_dl, m50_dl, dlrange\n",
    "    "
   ]
  },
  {
   "cell_type": "code",
   "execution_count": 10,
   "metadata": {},
   "outputs": [],
   "source": [
    "class PISN_Model():\n",
    "\n",
    "    def __init__(self, pisn_data_path = '/Users/hyraland/Projects/GW/Cosmology/PISNLineCosmography/'):\n",
    "\n",
    "        # Import data\n",
    "        self.theta_fiducial = np.array([Planck15.H0.value, Planck15.Om0, -1.0, true_params['alpha'], true_params['beta'], true_params['MMin'], true_params['MMax']])\n",
    "        Nperyear, Nz, z_icdf = event(self.theta_fiducial[0], self.theta_fiducial[1], self.theta_fiducial[2], z)\n",
    "\n",
    "        mcobs, etaobs, rhoobs, tobs = get_obsdata(self.theta_fiducial[0], self.theta_fiducial[1], self.theta_fiducial[2], self.theta_fiducial[3], self.theta_fiducial[4], self.theta_fiducial[5], self.theta_fiducial[6], Nperyear, z_icdf, 0)\n",
    "        mcobs = np.asarray(mcobs)\n",
    "        etaobs = np.asarray(etaobs)\n",
    "        rhoobs = np.asarray(rhoobs)\n",
    "        tobs = np.asarray(tobs)\n",
    "        m1s, m2s = m1m2_from_mc_eta(mcobs, etaobs)\n",
    "        dls = dl_from_rho(tobs, rhoobs, m1s, m2s)\n",
    "\n",
    "        self.nbin = 15\n",
    "        dlran = np.linspace(0.001, 10, self.nbin+1)\n",
    "        m90obs, m50obs, m90_dl, m50_dl = bin_data(self.nbin, dls, m1s, dlran)\n",
    "\n",
    "        #m90obs, m50obs, m90_dl, m50_dl, dlran = bin_data_equinum(self.nbin, dls, m1s)  \n",
    "    \n",
    "        self.dlrange = dlran\n",
    "        self.data = np.concatenate([m1s[0:1000], dls[0:1000]])\n",
    "\n",
    "        self.aldata = dls[0:1000]\n",
    "        # parameter sequences: h0, omegam, w, m90\n",
    "        self.npar = 3\n",
    "        # N data points\n",
    "        self.ndata = len(m1s[0:1000])\n",
    "\n",
    "    # Generate realisation of \\mu\n",
    "    def simulation(self, theta, seed):\n",
    "        cond = True\n",
    "        while cond == True:\n",
    "            try:\n",
    "        \n",
    "                Nperyear, Nz, z_icdf = event(theta[0], theta[1], theta[2], z)\n",
    "\n",
    "                mcobs, etaobs, rhoobs, tobs = get_obsdata(theta[0], theta[1], theta[2], theta[3], theta[4], theta[5], theta[6], Nperyear, z_icdf, seed)\n",
    "\n",
    "                mcobs = np.asarray(mcobs)\n",
    "                etaobs = np.asarray(etaobs)\n",
    "                rhoobs = np.asarray(rhoobs)\n",
    "                tobs = np.asarray(tobs)\n",
    "\n",
    "                m1s, m2s = m1m2_from_mc_eta(mcobs, etaobs)\n",
    "                dls = dl_from_rho(tobs, rhoobs, m1s, m2s)\n",
    "\n",
    "                m90obs, m50obs, m90_dl, m50_dl = bin_data(self.nbin, dls, m1s, self.dlrange)\n",
    "                cond = False\n",
    "            except IndexError:\n",
    "                cond = True\n",
    "                seed += 1\n",
    "\n",
    "        #return np.concatenate([m90obs, m50obs, m90_dl, m50_dl])\n",
    "        return np.concatenate([m1s[0:1000], dls[0:1000]]) "
   ]
  },
  {
   "cell_type": "code",
   "execution_count": 26,
   "metadata": {
    "slideshow": {
     "slide_type": "-"
    }
   },
   "outputs": [
    {
     "data": {
      "text/plain": [
       "<matplotlib.collections.PathCollection at 0x12a6af518>"
      ]
     },
     "execution_count": 26,
     "metadata": {},
     "output_type": "execute_result"
    },
    {
     "data": {
      "image/png": "[encoded data removed]",
      "text/plain": [
       "<Figure size 432x288 with 1 Axes>"
      ]
     },
     "metadata": {},
     "output_type": "display_data"
    }
   ],
   "source": [
    "PISNSimulator = PISN_Model()\n",
    "\n",
    "\n",
    "\n",
    "def simulator(theta, seed, simulator_args, batch):\n",
    "    \n",
    "    return PISNSimulator.simulation(theta, seed)\n",
    "\n",
    "simulator_args = None\n",
    "\n",
    "theta_fiducial = np.array([Planck15.H0.value, Planck15.Om0, -1.0, true_params['alpha'], true_params['beta'], true_params['MMin'], true_params['MMax']])\n",
    "plt.scatter(PISNSimulator.aldata, PISNSimulator.data[0:PISNSimulator.ndata], alpha = 0.1)\n",
    "\n",
    "# s = np.random.randint(1<<32)\n",
    "# sim1 = simulator(theta_fiducial, s, None, 1)\n",
    "# plt.scatter(sim1[PISNSimulator.ndata:PISNSimulator.ndata*2], sim1[0:PISNSimulator.ndata], alpha = 0.1)\n",
    "\n",
    "# s = np.random.randint(1<<32)\n",
    "# sim2 = simulator(theta_fiducial, s, None, 1)\n",
    "# plt.scatter(sim2[PISNSimulator.ndata:PISNSimulator.ndata*2], sim2[0:PISNSimulator.ndata], alpha = 0.1)\n",
    "\n",
    "s = np.random.randint(1<<32)\n",
    "sim3 = simulator(theta_fiducial+np.array([0,0,0.5,0,0,0,0]), s, None, 1)\n",
    "plt.scatter(sim3[PISNSimulator.ndata:PISNSimulator.ndata*2], sim3[0:PISNSimulator.ndata], alpha = 0.2)\n",
    "\n",
    "s = np.random.randint(1<<32)\n",
    "sim4 = simulator(theta_fiducial+np.array([0,0,-0.5,0,0,0,0]), s, None, 1)\n",
    "plt.scatter(sim4[PISNSimulator.ndata:PISNSimulator.ndata*2], sim4[0:PISNSimulator.ndata], alpha = 0.2)\n",
    "\n",
    "\n",
    "#plt.scatter(PISNSimulator.aldata, simulator(theta_fiducial+np.array([0,0,0.5,0,0,0,0]), s, None, 1)[0:PISNSimulator.ndata], alpha = 0.2)\n",
    "#plt.scatter(PISNSimulator.aldata, simulator(theta_fiducial+np.array([0,0,-0.5,0,0,0,0]), s, None, 1)[0:PISNSimulator.ndata], alpha = 0.2)"
   ]
  },
  {
   "cell_type": "markdown",
   "metadata": {
    "slideshow": {
     "slide_type": "slide"
    }
   },
   "source": [
    "## Set up the prior"
   ]
  },
  {
   "cell_type": "code",
   "execution_count": 27,
   "metadata": {
    "collapsed": true
   },
   "outputs": [],
   "source": [
    "prior_low = np.array([35.0, 0.0, -2.0, 0.3, -0.4, 0, 30])\n",
    "prior_high = np.array([140.0, 1.0, 0.0, 1.2, 0.4, 10, 60])\n",
    "\n",
    "# Use these priors if you just want to measure w:\n",
    "#prior_C = np.diag([(0.01*theta_fiducial[0])**2, (0.01*theta_fiducial[1])**2, 0.5**2, 10.0**2])\n",
    "\n",
    "# Use these priors if you don't want to measure w, but want to just constrain cosmology:\n",
    "prior_C = np.diag([15**2, 0.15**2, 0.5**2, 0.3**2, 0.2**2, 3**2, 20**2])\n",
    "\n",
    "# Om = Planck15.Om0\n",
    "# H0 = Planck15.H0.value\n",
    "# h0 = Planck15.H0.value/100\n",
    "\n",
    "# # Use this to include H0 Om covariance\n",
    "# Covhomh2 = np.diag([(0.01*H0)**2, (0.01*Om*h0**2)**2])\n",
    "# J = np.array([[1.0, 0.0], [2.0*Om*h0/100.0, h0**2]])# d(H0, Omh2)/d(H0, Om)\n",
    "# Jinv = np.linalg.inv(J)\n",
    "# Covhom = np.dot(Jinv.T, np.dot(Covhomh2, Jinv))\n",
    "\n",
    "# # Parameter order is H0, Om, w, m90\n",
    "# prior_C = np.diag([0.7**2, 0.**2, 0.5**2, 10.0**2])\n",
    "# prior_C[0:2, 0:2] = Covhom\n",
    "\n",
    "prior = priors.TruncatedGaussian(theta_fiducial, prior_C, prior_low, prior_high)\n"
   ]
  },
  {
   "cell_type": "markdown",
   "metadata": {
    "slideshow": {
     "slide_type": "slide"
    }
   },
   "source": [
    "## Set up the compressor\n",
    "Must have the signature `compressor(data, args)` -> `np.array([n_summaries])`<br>\n",
    "In this case we are going to do Gaussian score compression $$\\mathbf{t} = \\boldsymbol\\theta_* + \\mathbf{F}^{-1}\\nabla_\\theta^T\\boldsymbol\\mu_*\\mathbf{C}^{-1}(\\mathbf{d}-\\boldsymbol\\mu_*)$$ using the class `score.Gaussian`. For this we'll need some fiducial parameters, the mean its derivative at the fiducial parameters, the inverse covariance, and the inverse Fisher matrix"
   ]
  },
  {
   "cell_type": "code",
   "execution_count": 28,
   "metadata": {},
   "outputs": [
    {
     "data": {
      "application/vnd.jupyter.widget-view+json": {
       "model_id": "25ebdfa3f55d4c6abebb3c0ad06140d6"
      }
     },
     "metadata": {},
     "output_type": "display_data"
    },
    {
     "ename": "KeyboardInterrupt",
     "evalue": "",
     "output_type": "error",
     "traceback": [
      "\u001b[0;31m---------------------------------------------------------------------------\u001b[0m",
      "\u001b[0;31mKeyboardInterrupt\u001b[0m                         Traceback (most recent call last)",
      "\u001b[0;32m<ipython-input-28-7210756ebc7d>\u001b[0m in \u001b[0;36m<module>\u001b[0;34m()\u001b[0m\n\u001b[1;32m      3\u001b[0m \u001b[0;34m\u001b[0m\u001b[0m\n\u001b[1;32m      4\u001b[0m \u001b[0mCompressor\u001b[0m \u001b[0;34m=\u001b[0m \u001b[0mscore\u001b[0m\u001b[0;34m.\u001b[0m\u001b[0mGaussian\u001b[0m\u001b[0;34m(\u001b[0m\u001b[0mlen\u001b[0m\u001b[0;34m(\u001b[0m\u001b[0mPISNSimulator\u001b[0m\u001b[0;34m.\u001b[0m\u001b[0mdata\u001b[0m\u001b[0;34m)\u001b[0m\u001b[0;34m,\u001b[0m \u001b[0mtheta_fiducial\u001b[0m\u001b[0;34m,\u001b[0m \u001b[0mprior_mean\u001b[0m\u001b[0;34m=\u001b[0m\u001b[0mtheta_fiducial\u001b[0m\u001b[0;34m,\u001b[0m \u001b[0mprior_covariance\u001b[0m\u001b[0;34m=\u001b[0m\u001b[0mprior_C\u001b[0m\u001b[0;34m)\u001b[0m\u001b[0;34m\u001b[0m\u001b[0m\n\u001b[0;32m----> 5\u001b[0;31m \u001b[0mCompressor\u001b[0m\u001b[0;34m.\u001b[0m\u001b[0mcompute_mean_covariance\u001b[0m\u001b[0;34m(\u001b[0m\u001b[0msimulator\u001b[0m \u001b[0;34m=\u001b[0m \u001b[0msimulator\u001b[0m\u001b[0;34m,\u001b[0m \u001b[0mnsims\u001b[0m \u001b[0;34m=\u001b[0m \u001b[0;36m1000\u001b[0m\u001b[0;34m)\u001b[0m\u001b[0;34m\u001b[0m\u001b[0m\n\u001b[0m\u001b[1;32m      6\u001b[0m \u001b[0mCompressor\u001b[0m\u001b[0;34m.\u001b[0m\u001b[0mcompute_derivatives\u001b[0m\u001b[0;34m(\u001b[0m\u001b[0msimulator\u001b[0m \u001b[0;34m=\u001b[0m \u001b[0msimulator\u001b[0m\u001b[0;34m,\u001b[0m \u001b[0mnsims\u001b[0m \u001b[0;34m=\u001b[0m \u001b[0;36m1000\u001b[0m\u001b[0;34m,\u001b[0m \u001b[0mh\u001b[0m\u001b[0;34m=\u001b[0m\u001b[0mh\u001b[0m\u001b[0;34m)\u001b[0m\u001b[0;34m\u001b[0m\u001b[0m\n\u001b[1;32m      7\u001b[0m \u001b[0mCompressor\u001b[0m\u001b[0;34m.\u001b[0m\u001b[0mcompute_fisher\u001b[0m\u001b[0;34m(\u001b[0m\u001b[0;34m)\u001b[0m\u001b[0;34m\u001b[0m\u001b[0m\n",
      "\u001b[0;32m/Users/hyraland/anaconda/lib/python3.6/site-packages/pydelfi-0.1-py3.6.egg/pydelfi/score.py\u001b[0m in \u001b[0;36mcompute_mean_covariance\u001b[0;34m(self, simulator, nsims, simulator_args, seed_generator, progress_bar, sub_batch)\u001b[0m\n\u001b[1;32m    100\u001b[0m         \u001b[0;32mfor\u001b[0m \u001b[0mi\u001b[0m \u001b[0;32min\u001b[0m \u001b[0mrange\u001b[0m\u001b[0;34m(\u001b[0m\u001b[0minds\u001b[0m\u001b[0;34m[\u001b[0m\u001b[0;34m-\u001b[0m\u001b[0;36m1\u001b[0m\u001b[0;34m]\u001b[0m\u001b[0;34m+\u001b[0m\u001b[0;36m1\u001b[0m\u001b[0;34m)\u001b[0m\u001b[0;34m:\u001b[0m\u001b[0;34m\u001b[0m\u001b[0m\n\u001b[1;32m    101\u001b[0m             \u001b[0mseed\u001b[0m \u001b[0;34m=\u001b[0m \u001b[0mseed_generator\u001b[0m\u001b[0;34m(\u001b[0m\u001b[0;34m)\u001b[0m\u001b[0;34m\u001b[0m\u001b[0m\n\u001b[0;32m--> 102\u001b[0;31m             \u001b[0msims\u001b[0m\u001b[0;34m[\u001b[0m\u001b[0mi\u001b[0m\u001b[0;34m*\u001b[0m\u001b[0msub_batch\u001b[0m\u001b[0;34m:\u001b[0m\u001b[0mi\u001b[0m\u001b[0;34m*\u001b[0m\u001b[0msub_batch\u001b[0m\u001b[0;34m+\u001b[0m\u001b[0msub_batch\u001b[0m\u001b[0;34m,\u001b[0m\u001b[0;34m:\u001b[0m\u001b[0;34m]\u001b[0m \u001b[0;34m=\u001b[0m \u001b[0msimulator\u001b[0m\u001b[0;34m(\u001b[0m\u001b[0mself\u001b[0m\u001b[0;34m.\u001b[0m\u001b[0mtheta_fiducial\u001b[0m\u001b[0;34m,\u001b[0m \u001b[0mseed\u001b[0m\u001b[0;34m,\u001b[0m \u001b[0msimulator_args\u001b[0m\u001b[0;34m,\u001b[0m \u001b[0msub_batch\u001b[0m\u001b[0;34m)\u001b[0m\u001b[0;34m\u001b[0m\u001b[0m\n\u001b[0m\u001b[1;32m    103\u001b[0m             \u001b[0;32mif\u001b[0m \u001b[0mprogress_bar\u001b[0m\u001b[0;34m:\u001b[0m\u001b[0;34m\u001b[0m\u001b[0m\n\u001b[1;32m    104\u001b[0m                 \u001b[0mpbar\u001b[0m\u001b[0;34m.\u001b[0m\u001b[0mupdate\u001b[0m\u001b[0;34m(\u001b[0m\u001b[0;36m1\u001b[0m\u001b[0;34m)\u001b[0m\u001b[0;34m\u001b[0m\u001b[0m\n",
      "\u001b[0;32m<ipython-input-26-6adf8af974de>\u001b[0m in \u001b[0;36msimulator\u001b[0;34m(theta, seed, simulator_args, batch)\u001b[0m\n\u001b[1;32m      5\u001b[0m \u001b[0;32mdef\u001b[0m \u001b[0msimulator\u001b[0m\u001b[0;34m(\u001b[0m\u001b[0mtheta\u001b[0m\u001b[0;34m,\u001b[0m \u001b[0mseed\u001b[0m\u001b[0;34m,\u001b[0m \u001b[0msimulator_args\u001b[0m\u001b[0;34m,\u001b[0m \u001b[0mbatch\u001b[0m\u001b[0;34m)\u001b[0m\u001b[0;34m:\u001b[0m\u001b[0;34m\u001b[0m\u001b[0m\n\u001b[1;32m      6\u001b[0m \u001b[0;34m\u001b[0m\u001b[0m\n\u001b[0;32m----> 7\u001b[0;31m     \u001b[0;32mreturn\u001b[0m \u001b[0mPISNSimulator\u001b[0m\u001b[0;34m.\u001b[0m\u001b[0msimulation\u001b[0m\u001b[0;34m(\u001b[0m\u001b[0mtheta\u001b[0m\u001b[0;34m,\u001b[0m \u001b[0mseed\u001b[0m\u001b[0;34m)\u001b[0m\u001b[0;34m\u001b[0m\u001b[0m\n\u001b[0m\u001b[1;32m      8\u001b[0m \u001b[0;34m\u001b[0m\u001b[0m\n\u001b[1;32m      9\u001b[0m \u001b[0msimulator_args\u001b[0m \u001b[0;34m=\u001b[0m \u001b[0;32mNone\u001b[0m\u001b[0;34m\u001b[0m\u001b[0m\n",
      "\u001b[0;32m<ipython-input-10-0fee9259db01>\u001b[0m in \u001b[0;36msimulation\u001b[0;34m(self, theta, seed)\u001b[0m\n\u001b[1;32m     38\u001b[0m                 \u001b[0mNperyear\u001b[0m\u001b[0;34m,\u001b[0m \u001b[0mNz\u001b[0m\u001b[0;34m,\u001b[0m \u001b[0mz_icdf\u001b[0m \u001b[0;34m=\u001b[0m \u001b[0mevent\u001b[0m\u001b[0;34m(\u001b[0m\u001b[0mtheta\u001b[0m\u001b[0;34m[\u001b[0m\u001b[0;36m0\u001b[0m\u001b[0;34m]\u001b[0m\u001b[0;34m,\u001b[0m \u001b[0mtheta\u001b[0m\u001b[0;34m[\u001b[0m\u001b[0;36m1\u001b[0m\u001b[0;34m]\u001b[0m\u001b[0;34m,\u001b[0m \u001b[0mtheta\u001b[0m\u001b[0;34m[\u001b[0m\u001b[0;36m2\u001b[0m\u001b[0;34m]\u001b[0m\u001b[0;34m,\u001b[0m \u001b[0mz\u001b[0m\u001b[0;34m)\u001b[0m\u001b[0;34m\u001b[0m\u001b[0m\n\u001b[1;32m     39\u001b[0m \u001b[0;34m\u001b[0m\u001b[0m\n\u001b[0;32m---> 40\u001b[0;31m                 \u001b[0mmcobs\u001b[0m\u001b[0;34m,\u001b[0m \u001b[0metaobs\u001b[0m\u001b[0;34m,\u001b[0m \u001b[0mrhoobs\u001b[0m\u001b[0;34m,\u001b[0m \u001b[0mtobs\u001b[0m \u001b[0;34m=\u001b[0m \u001b[0mget_obsdata\u001b[0m\u001b[0;34m(\u001b[0m\u001b[0mtheta\u001b[0m\u001b[0;34m[\u001b[0m\u001b[0;36m0\u001b[0m\u001b[0;34m]\u001b[0m\u001b[0;34m,\u001b[0m \u001b[0mtheta\u001b[0m\u001b[0;34m[\u001b[0m\u001b[0;36m1\u001b[0m\u001b[0;34m]\u001b[0m\u001b[0;34m,\u001b[0m \u001b[0mtheta\u001b[0m\u001b[0;34m[\u001b[0m\u001b[0;36m2\u001b[0m\u001b[0;34m]\u001b[0m\u001b[0;34m,\u001b[0m \u001b[0mtheta\u001b[0m\u001b[0;34m[\u001b[0m\u001b[0;36m3\u001b[0m\u001b[0;34m]\u001b[0m\u001b[0;34m,\u001b[0m \u001b[0mtheta\u001b[0m\u001b[0;34m[\u001b[0m\u001b[0;36m4\u001b[0m\u001b[0;34m]\u001b[0m\u001b[0;34m,\u001b[0m \u001b[0mtheta\u001b[0m\u001b[0;34m[\u001b[0m\u001b[0;36m5\u001b[0m\u001b[0;34m]\u001b[0m\u001b[0;34m,\u001b[0m \u001b[0mtheta\u001b[0m\u001b[0;34m[\u001b[0m\u001b[0;36m6\u001b[0m\u001b[0;34m]\u001b[0m\u001b[0;34m,\u001b[0m \u001b[0mNperyear\u001b[0m\u001b[0;34m,\u001b[0m \u001b[0mz_icdf\u001b[0m\u001b[0;34m,\u001b[0m \u001b[0mseed\u001b[0m\u001b[0;34m)\u001b[0m\u001b[0;34m\u001b[0m\u001b[0m\n\u001b[0m\u001b[1;32m     41\u001b[0m \u001b[0;34m\u001b[0m\u001b[0m\n\u001b[1;32m     42\u001b[0m                 \u001b[0mmcobs\u001b[0m \u001b[0;34m=\u001b[0m \u001b[0mnp\u001b[0m\u001b[0;34m.\u001b[0m\u001b[0masarray\u001b[0m\u001b[0;34m(\u001b[0m\u001b[0mmcobs\u001b[0m\u001b[0;34m)\u001b[0m\u001b[0;34m\u001b[0m\u001b[0m\n",
      "\u001b[0;32m<ipython-input-4-2cf0245182df>\u001b[0m in \u001b[0;36mget_obsdata\u001b[0;34m(h0, omegam, om, alpha, beta, mmin, mmax, Nperyear, z_icdf, seed)\u001b[0m\n\u001b[1;32m     12\u001b[0m     \u001b[0mN5yr_tot\u001b[0m \u001b[0;34m=\u001b[0m \u001b[0mN1yr_tot\u001b[0m \u001b[0;34m+\u001b[0m \u001b[0mnp\u001b[0m\u001b[0;34m.\u001b[0m\u001b[0mrandom\u001b[0m\u001b[0;34m.\u001b[0m\u001b[0mpoisson\u001b[0m\u001b[0;34m(\u001b[0m\u001b[0mNperyear\u001b[0m\u001b[0;34m*\u001b[0m\u001b[0;36m4\u001b[0m\u001b[0;34m)\u001b[0m \u001b[0;31m# Five years\u001b[0m\u001b[0;34m\u001b[0m\u001b[0m\n\u001b[1;32m     13\u001b[0m     \u001b[0mm1s\u001b[0m\u001b[0;34m,\u001b[0m \u001b[0mm2s\u001b[0m\u001b[0;34m,\u001b[0m \u001b[0mzs\u001b[0m\u001b[0;34m,\u001b[0m \u001b[0mthetas\u001b[0m \u001b[0;34m=\u001b[0m \u001b[0mdraw_truth\u001b[0m\u001b[0;34m(\u001b[0m\u001b[0mz_icdf\u001b[0m\u001b[0;34m,\u001b[0m \u001b[0mN1yr_tot\u001b[0m\u001b[0;34m,\u001b[0m \u001b[0malpha\u001b[0m\u001b[0;34m,\u001b[0m \u001b[0mbeta\u001b[0m\u001b[0;34m,\u001b[0m \u001b[0mmmin\u001b[0m\u001b[0;34m,\u001b[0m \u001b[0mmmax\u001b[0m\u001b[0;34m)\u001b[0m\u001b[0;34m\u001b[0m\u001b[0m\n\u001b[0;32m---> 14\u001b[0;31m     \u001b[0;34m(\u001b[0m\u001b[0mmcobs\u001b[0m\u001b[0;34m,\u001b[0m \u001b[0metaobs\u001b[0m\u001b[0;34m,\u001b[0m \u001b[0mrhoobs\u001b[0m\u001b[0;34m,\u001b[0m \u001b[0mtobs\u001b[0m\u001b[0;34m)\u001b[0m\u001b[0;34m,\u001b[0m \u001b[0;34m(\u001b[0m\u001b[0msmc\u001b[0m\u001b[0;34m,\u001b[0m \u001b[0mseta\u001b[0m\u001b[0;34m,\u001b[0m \u001b[0msrh\u001b[0m\u001b[0;34m,\u001b[0m \u001b[0mst\u001b[0m\u001b[0;34m)\u001b[0m \u001b[0;34m=\u001b[0m \u001b[0mobserve\u001b[0m\u001b[0;34m(\u001b[0m\u001b[0mh0\u001b[0m\u001b[0;34m,\u001b[0m \u001b[0momegam\u001b[0m\u001b[0;34m,\u001b[0m \u001b[0mom\u001b[0m\u001b[0;34m,\u001b[0m \u001b[0mm1s\u001b[0m\u001b[0;34m,\u001b[0m \u001b[0mm2s\u001b[0m\u001b[0;34m,\u001b[0m \u001b[0mzs\u001b[0m\u001b[0;34m,\u001b[0m \u001b[0mthetas\u001b[0m\u001b[0;34m,\u001b[0m \u001b[0mN1yr_tot\u001b[0m\u001b[0;34m)\u001b[0m\u001b[0;34m\u001b[0m\u001b[0m\n\u001b[0m\u001b[1;32m     15\u001b[0m \u001b[0;34m\u001b[0m\u001b[0m\n\u001b[1;32m     16\u001b[0m     \u001b[0;32mreturn\u001b[0m \u001b[0;34m(\u001b[0m\u001b[0mmcobs\u001b[0m\u001b[0;34m,\u001b[0m \u001b[0metaobs\u001b[0m\u001b[0;34m,\u001b[0m \u001b[0mrhoobs\u001b[0m\u001b[0;34m,\u001b[0m \u001b[0mtobs\u001b[0m\u001b[0;34m)\u001b[0m\u001b[0;34m\u001b[0m\u001b[0m\n",
      "\u001b[0;32m<ipython-input-3-ab5bdca07d80>\u001b[0m in \u001b[0;36mobserve\u001b[0;34m(h0, omegam, om, m1, m2, z, t, N0)\u001b[0m\n\u001b[1;32m     49\u001b[0m     \u001b[0md_of_z\u001b[0m \u001b[0;34m=\u001b[0m \u001b[0minterp1d\u001b[0m\u001b[0;34m(\u001b[0m\u001b[0mz0\u001b[0m\u001b[0;34m,\u001b[0m \u001b[0md\u001b[0m\u001b[0;34m)\u001b[0m\u001b[0;34m\u001b[0m\u001b[0m\n\u001b[1;32m     50\u001b[0m     \u001b[0mdl\u001b[0m \u001b[0;34m=\u001b[0m \u001b[0md_of_z\u001b[0m\u001b[0;34m(\u001b[0m\u001b[0mz\u001b[0m\u001b[0;34m)\u001b[0m \u001b[0;31m# cosm.luminosity_distance(z).to(u.Gpc).value\u001b[0m\u001b[0;34m\u001b[0m\u001b[0m\n\u001b[0;32m---> 51\u001b[0;31m     \u001b[0mrho\u001b[0m \u001b[0;34m=\u001b[0m \u001b[0moptimal_snr\u001b[0m\u001b[0;34m(\u001b[0m\u001b[0mm1obs\u001b[0m\u001b[0;34m,\u001b[0m \u001b[0mm2obs\u001b[0m\u001b[0;34m,\u001b[0m \u001b[0mdl\u001b[0m\u001b[0;34m)\u001b[0m\u001b[0;34m*\u001b[0m\u001b[0mt\u001b[0m\u001b[0;34m\u001b[0m\u001b[0m\n\u001b[0m\u001b[1;32m     52\u001b[0m \u001b[0;34m\u001b[0m\u001b[0m\n\u001b[1;32m     53\u001b[0m     \u001b[0mrho_obs\u001b[0m \u001b[0;34m=\u001b[0m \u001b[0mrho\u001b[0m \u001b[0;34m+\u001b[0m \u001b[0mnp\u001b[0m\u001b[0;34m.\u001b[0m\u001b[0mrandom\u001b[0m\u001b[0;34m.\u001b[0m\u001b[0mrandn\u001b[0m\u001b[0;34m(\u001b[0m\u001b[0mN0\u001b[0m\u001b[0;34m)\u001b[0m\u001b[0;34m\u001b[0m\u001b[0m\n",
      "\u001b[0;32m<ipython-input-3-ab5bdca07d80>\u001b[0m in \u001b[0;36moptimal_snr\u001b[0;34m(m1obs, m2obs, dl)\u001b[0m\n\u001b[1;32m      1\u001b[0m \u001b[0;32mdef\u001b[0m \u001b[0moptimal_snr\u001b[0m\u001b[0;34m(\u001b[0m\u001b[0mm1obs\u001b[0m\u001b[0;34m,\u001b[0m \u001b[0mm2obs\u001b[0m\u001b[0;34m,\u001b[0m \u001b[0mdl\u001b[0m\u001b[0;34m)\u001b[0m\u001b[0;34m:\u001b[0m\u001b[0;34m\u001b[0m\u001b[0m\n\u001b[0;32m----> 2\u001b[0;31m     \u001b[0;32mreturn\u001b[0m \u001b[0moint\u001b[0m\u001b[0;34m.\u001b[0m\u001b[0mev\u001b[0m\u001b[0;34m(\u001b[0m\u001b[0mm1obs\u001b[0m\u001b[0;34m,\u001b[0m \u001b[0mm2obs\u001b[0m\u001b[0;34m)\u001b[0m\u001b[0;34m/\u001b[0m\u001b[0mdl\u001b[0m\u001b[0;34m\u001b[0m\u001b[0m\n\u001b[0m\u001b[1;32m      3\u001b[0m \u001b[0;34m\u001b[0m\u001b[0m\n\u001b[1;32m      4\u001b[0m \u001b[0mzMax\u001b[0m \u001b[0;34m=\u001b[0m \u001b[0;36m2\u001b[0m \u001b[0;31m# determined based on making sure the observed redshift distribution tails off completely\u001b[0m\u001b[0;34m\u001b[0m\u001b[0m\n\u001b[1;32m      5\u001b[0m \u001b[0mz\u001b[0m \u001b[0;34m=\u001b[0m \u001b[0mnp\u001b[0m\u001b[0;34m.\u001b[0m\u001b[0mexpm1\u001b[0m\u001b[0;34m(\u001b[0m\u001b[0mnp\u001b[0m\u001b[0;34m.\u001b[0m\u001b[0mlinspace\u001b[0m\u001b[0;34m(\u001b[0m\u001b[0mnp\u001b[0m\u001b[0;34m.\u001b[0m\u001b[0mlog\u001b[0m\u001b[0;34m(\u001b[0m\u001b[0;36m1\u001b[0m\u001b[0;34m)\u001b[0m\u001b[0;34m,\u001b[0m \u001b[0mnp\u001b[0m\u001b[0;34m.\u001b[0m\u001b[0mlog\u001b[0m\u001b[0;34m(\u001b[0m\u001b[0mzMax\u001b[0m\u001b[0;34m+\u001b[0m\u001b[0;36m1\u001b[0m\u001b[0;34m)\u001b[0m\u001b[0;34m,\u001b[0m \u001b[0;36m1000\u001b[0m\u001b[0;34m)\u001b[0m\u001b[0;34m)\u001b[0m\u001b[0;34m\u001b[0m\u001b[0m\n",
      "\u001b[0;32m/Users/hyraland/anaconda/lib/python3.6/site-packages/scipy/interpolate/fitpack2.py\u001b[0m in \u001b[0;36mev\u001b[0;34m(self, xi, yi, dx, dy)\u001b[0m\n\u001b[1;32m    968\u001b[0m             \u001b[0;34m.\u001b[0m\u001b[0;34m.\u001b[0m \u001b[0mversionadded\u001b[0m\u001b[0;34m:\u001b[0m\u001b[0;34m:\u001b[0m \u001b[0;36m0.14\u001b[0m\u001b[0;36m.0\u001b[0m\u001b[0;34m\u001b[0m\u001b[0m\n\u001b[1;32m    969\u001b[0m         \"\"\"\n\u001b[0;32m--> 970\u001b[0;31m         \u001b[0;32mreturn\u001b[0m \u001b[0mself\u001b[0m\u001b[0;34m.\u001b[0m\u001b[0m__call__\u001b[0m\u001b[0;34m(\u001b[0m\u001b[0mxi\u001b[0m\u001b[0;34m,\u001b[0m \u001b[0myi\u001b[0m\u001b[0;34m,\u001b[0m \u001b[0mdx\u001b[0m\u001b[0;34m=\u001b[0m\u001b[0mdx\u001b[0m\u001b[0;34m,\u001b[0m \u001b[0mdy\u001b[0m\u001b[0;34m=\u001b[0m\u001b[0mdy\u001b[0m\u001b[0;34m,\u001b[0m \u001b[0mgrid\u001b[0m\u001b[0;34m=\u001b[0m\u001b[0;32mFalse\u001b[0m\u001b[0;34m)\u001b[0m\u001b[0;34m\u001b[0m\u001b[0m\n\u001b[0m\u001b[1;32m    971\u001b[0m \u001b[0;34m\u001b[0m\u001b[0m\n\u001b[1;32m    972\u001b[0m     \u001b[0;32mdef\u001b[0m \u001b[0mintegral\u001b[0m\u001b[0;34m(\u001b[0m\u001b[0mself\u001b[0m\u001b[0;34m,\u001b[0m \u001b[0mxa\u001b[0m\u001b[0;34m,\u001b[0m \u001b[0mxb\u001b[0m\u001b[0;34m,\u001b[0m \u001b[0mya\u001b[0m\u001b[0;34m,\u001b[0m \u001b[0myb\u001b[0m\u001b[0;34m)\u001b[0m\u001b[0;34m:\u001b[0m\u001b[0;34m\u001b[0m\u001b[0m\n",
      "\u001b[0;32m/Users/hyraland/anaconda/lib/python3.6/site-packages/scipy/interpolate/fitpack2.py\u001b[0m in \u001b[0;36m__call__\u001b[0;34m(self, x, y, mth, dx, dy, grid)\u001b[0m\n\u001b[1;32m    862\u001b[0m                     \u001b[0;32mraise\u001b[0m \u001b[0mValueError\u001b[0m\u001b[0;34m(\u001b[0m\u001b[0;34m\"Error code returned by pardeu: %s\"\u001b[0m \u001b[0;34m%\u001b[0m \u001b[0mier\u001b[0m\u001b[0;34m)\u001b[0m\u001b[0;34m\u001b[0m\u001b[0m\n\u001b[1;32m    863\u001b[0m             \u001b[0;32melse\u001b[0m\u001b[0;34m:\u001b[0m\u001b[0;34m\u001b[0m\u001b[0m\n\u001b[0;32m--> 864\u001b[0;31m                 \u001b[0mz\u001b[0m\u001b[0;34m,\u001b[0m\u001b[0mier\u001b[0m \u001b[0;34m=\u001b[0m \u001b[0mdfitpack\u001b[0m\u001b[0;34m.\u001b[0m\u001b[0mbispeu\u001b[0m\u001b[0;34m(\u001b[0m\u001b[0mtx\u001b[0m\u001b[0;34m,\u001b[0m\u001b[0mty\u001b[0m\u001b[0;34m,\u001b[0m\u001b[0mc\u001b[0m\u001b[0;34m,\u001b[0m\u001b[0mkx\u001b[0m\u001b[0;34m,\u001b[0m\u001b[0mky\u001b[0m\u001b[0;34m,\u001b[0m\u001b[0mx\u001b[0m\u001b[0;34m,\u001b[0m\u001b[0my\u001b[0m\u001b[0;34m)\u001b[0m\u001b[0;34m\u001b[0m\u001b[0m\n\u001b[0m\u001b[1;32m    865\u001b[0m                 \u001b[0;32mif\u001b[0m \u001b[0;32mnot\u001b[0m \u001b[0mier\u001b[0m \u001b[0;34m==\u001b[0m \u001b[0;36m0\u001b[0m\u001b[0;34m:\u001b[0m\u001b[0;34m\u001b[0m\u001b[0m\n\u001b[1;32m    866\u001b[0m                     \u001b[0;32mraise\u001b[0m \u001b[0mValueError\u001b[0m\u001b[0;34m(\u001b[0m\u001b[0;34m\"Error code returned by bispeu: %s\"\u001b[0m \u001b[0;34m%\u001b[0m \u001b[0mier\u001b[0m\u001b[0;34m)\u001b[0m\u001b[0;34m\u001b[0m\u001b[0m\n",
      "\u001b[0;31mKeyboardInterrupt\u001b[0m: "
     ]
    }
   ],
   "source": [
    "h = np.array(abs(theta_fiducial))*0.01\n",
    "h[4] = 0.01*0.4\n",
    "\n",
    "Compressor = score.Gaussian(len(PISNSimulator.data), theta_fiducial, prior_mean=theta_fiducial, prior_covariance=prior_C)\n",
    "Compressor.compute_mean_covariance(simulator = simulator, nsims = 1000)\n",
    "Compressor.compute_derivatives(simulator = simulator, nsims = 1000, h=h)\n",
    "Compressor.compute_fisher()\n",
    "Finv = Compressor.Finv\n",
    "\n",
    "def compressor(d, compressor_args):\n",
    "    return Compressor.scoreMLE(d)\n",
    "compressor_args=None\n",
    "\n",
    "plt.imshow(Compressor.C)\n",
    "plt.show()\n",
    "\n",
    "#print(Compressor.dmudt)"
   ]
  },
  {
   "cell_type": "code",
   "execution_count": null,
   "metadata": {},
   "outputs": [],
   "source": [
    "\n",
    "np.sqrt(np.diag(Finv))"
   ]
  },
  {
   "cell_type": "code",
   "execution_count": null,
   "metadata": {
    "collapsed": true
   },
   "outputs": [],
   "source": [
    "evals, evecs = np.linalg.eigh(Compressor.Finv)"
   ]
  },
  {
   "cell_type": "code",
   "execution_count": null,
   "metadata": {},
   "outputs": [],
   "source": [
    "np.sqrt(evals), evecs"
   ]
  },
  {
   "cell_type": "markdown",
   "metadata": {
    "slideshow": {
     "slide_type": "slide"
    }
   },
   "source": [
    "## Load in the compressed data"
   ]
  },
  {
   "cell_type": "code",
   "execution_count": null,
   "metadata": {
    "collapsed": true
   },
   "outputs": [],
   "source": [
    "compressed_data = compressor(PISNSimulator.data, compressor_args)"
   ]
  },
  {
   "cell_type": "markdown",
   "metadata": {
    "slideshow": {
     "slide_type": "slide"
    }
   },
   "source": [
    "## Define ensemble of NDEs"
   ]
  },
  {
   "cell_type": "code",
   "execution_count": null,
   "metadata": {},
   "outputs": [],
   "source": [
    "NDEs = [ndes.MixtureDensityNetwork(n_parameters=7, n_data=7, n_components=1, n_hidden=[30,30], activations=[tf.tanh, tf.tanh], index=0),\n",
    "       ndes.MixtureDensityNetwork(n_parameters=7, n_data=7, n_components=2, n_hidden=[30,30], activations=[tf.tanh, tf.tanh], index=1),\n",
    "       ndes.MixtureDensityNetwork(n_parameters=7, n_data=7, n_components=3, n_hidden=[30,30], activations=[tf.tanh, tf.tanh], index=2),\n",
    "       ndes.MixtureDensityNetwork(n_parameters=7, n_data=7, n_components=4, n_hidden=[30,30], activations=[tf.tanh, tf.tanh], index=3),\n",
    "       ndes.MixtureDensityNetwork(n_parameters=7, n_data=7, n_components=5, n_hidden=[30,30], activations=[tf.tanh, tf.tanh], index=4),\n",
    "       ndes.ConditionalMaskedAutoregressiveFlow(n_parameters=7, n_data=7, n_hiddens=[50,50], n_mades=5, act_fun=tf.tanh, index=5)]"
   ]
  },
  {
   "cell_type": "markdown",
   "metadata": {
    "slideshow": {
     "slide_type": "slide"
    }
   },
   "source": [
    "## Create DELFI object"
   ]
  },
  {
   "cell_type": "code",
   "execution_count": null,
   "metadata": {
    "collapsed": true
   },
   "outputs": [],
   "source": [
    "DelfiEnsemble = delfi.Delfi(compressed_data, prior, NDEs, \n",
    "                            Finv = Finv, \n",
    "                            theta_fiducial = theta_fiducial, \n",
    "                            param_limits = [prior_low, prior_high],\n",
    "                            param_names = ['h_0', 'Omega_0', 'w', 'alpha', 'beta', 'Mmin', 'Mmax'], \n",
    "                            results_dir = \"results/\",\n",
    "                            input_normalization=\"fisher\")"
   ]
  },
  {
   "cell_type": "markdown",
   "metadata": {
    "slideshow": {
     "slide_type": "slide"
    }
   },
   "source": [
    "## Fisher pre-training to initialize the NDEs"
   ]
  },
  {
   "cell_type": "code",
   "execution_count": null,
   "metadata": {},
   "outputs": [],
   "source": [
    "DelfiEnsemble.fisher_pretraining()"
   ]
  },
  {
   "cell_type": "markdown",
   "metadata": {
    "slideshow": {
     "slide_type": "slide"
    }
   },
   "source": [
    "## Sequential Neural Likelihood"
   ]
  },
  {
   "cell_type": "code",
   "execution_count": null,
   "metadata": {},
   "outputs": [],
   "source": [
    "n_initial = 200\n",
    "n_batch = 200\n",
    "n_populations = 10\n",
    "\n",
    "DelfiEnsemble.sequential_training(simulator, compressor, n_initial, n_batch, n_populations, patience=20,\n",
    "                       save_intermediate_posteriors=False)"
   ]
  },
  {
   "cell_type": "markdown",
   "metadata": {},
   "source": [
    "## Sample the learned posterior"
   ]
  },
  {
   "cell_type": "code",
   "execution_count": null,
   "metadata": {},
   "outputs": [],
   "source": [
    "posterior_samples = DelfiEnsemble.emcee_sample()"
   ]
  },
  {
   "cell_type": "code",
   "execution_count": null,
   "metadata": {
    "scrolled": false
   },
   "outputs": [],
   "source": [
    "DelfiEnsemble.triangle_plot(samples=[posterior_samples])"
   ]
  },
  {
   "cell_type": "code",
   "execution_count": null,
   "metadata": {},
   "outputs": [],
   "source": [
    "print(np.std(posterior_samples, axis=0))\n",
    "print(np.mean(posterior_samples, axis=0))\n",
    "print(PISNSimulator.theta_fiducial)"
   ]
  },
  {
   "cell_type": "code",
   "execution_count": null,
   "metadata": {},
   "outputs": [],
   "source": [
    "z = np.linspace(0.01,1.5,50)\n",
    "Hzs = np.linspace(0,0,50)\n",
    "Hzs2 = np.linspace(0,0,50)\n",
    "Hzstd = np.linspace(0,0,50)\n",
    "\n",
    "for i in posterior_samples:\n",
    "    cosm = FlatwCDM(i[0],i[1],i[2])\n",
    "    Hz = cosm.efunc(z)*i[0]\n",
    "    Hzs += Hz\n",
    "    Hzs2 += Hz**2\n",
    "    \n",
    "    #plt.plot(z,Hz)\n",
    "Hzs = Hzs/(posterior_samples.shape[0])\n",
    "Hzs2 = Hzs2/(posterior_samples.shape[0])\n",
    "Hzstd = np.sqrt(Hzs2-Hzs**2)\n",
    "#plt.errorbar(z,Hzs, yerr = Hzstd)\n",
    "plt.plot(z, Planck15.efunc(z)*Planck15.H0.value, 'k--')\n",
    "plt.plot(z, Hzs, 'k-')\n",
    "plt.fill_between(z, Hzs-Hzstd, Hzs+Hzstd,alpha = 0.4)\n",
    "plt.show()"
   ]
  },
  {
   "cell_type": "code",
   "execution_count": null,
   "metadata": {},
   "outputs": [],
   "source": [
    "minind = np.where(Hzstd == min(Hzstd))[0][0]\n",
    "print(Hzstd[minind],z[minind])\n",
    "print(Hzstd[minind]/Hzs[minind])"
   ]
  },
  {
   "cell_type": "code",
   "execution_count": null,
   "metadata": {},
   "outputs": [],
   "source": [
    "Planck15.luminosity_distance(0.4).to(u.Gpc).value"
   ]
  },
  {
   "cell_type": "code",
   "execution_count": null,
   "metadata": {
    "collapsed": true
   },
   "outputs": [],
   "source": []
  }
 ],
 "metadata": {
  "kernelspec": {
   "display_name": "Python 3",
   "language": "python",
   "name": "python3"
  },
  "language_info": {
   "codemirror_mode": {
    "name": "ipython",
    "version": 3
   },
   "file_extension": ".py",
   "mimetype": "text/x-python",
   "name": "python",
   "nbconvert_exporter": "python",
   "pygments_lexer": "ipython3",
   "version": "3.6.1"
  }
 },
 "nbformat": 4,
 "nbformat_minor": 1
}
