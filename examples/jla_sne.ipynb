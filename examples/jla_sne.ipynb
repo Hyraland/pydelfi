{
 "cells": [
  {
   "cell_type": "markdown",
   "metadata": {
    "slideshow": {
     "slide_type": "slide"
    }
   },
   "source": [
    "## Import your stuff"
   ]
  },
  {
   "cell_type": "code",
   "execution_count": 1,
   "metadata": {
    "collapsed": true,
    "slideshow": {
     "slide_type": "-"
    }
   },
   "outputs": [],
   "source": [
    "import numpy as np\n",
    "import simulators.jla_supernovae.jla_simulator as jla\n",
    "import pydelfi.ndes as ndes\n",
    "import pydelfi.delfi as delfi\n",
    "import pydelfi.score as score\n",
    "import pydelfi.priors as priors\n",
    "import tensorflow as tf\n",
    "tf.logging.set_verbosity(tf.logging.ERROR)\n",
    "%matplotlib inline"
   ]
  },
  {
   "cell_type": "markdown",
   "metadata": {
    "slideshow": {
     "slide_type": "slide"
    }
   },
   "source": [
    "## Set up the simulator\n",
    "This must have the signature `simulator(parameters, seed, args, batch)` -> `np.array([batch, ndata])`"
   ]
  },
  {
   "cell_type": "code",
   "execution_count": 2,
   "metadata": {
    "slideshow": {
     "slide_type": "-"
    }
   },
   "outputs": [
    {
     "name": "stderr",
     "output_type": "stream",
     "text": [
      "/Users/hyraland/Projects/GW/pydelfi/examples/simulators/jla_supernovae/jla_parser.py:9: VisibleDeprecationWarning: Reading unicode strings without specifying the encoding argument is deprecated. Set the encoding, use None for the system default.\n",
      "  dtype = None, names = True)\n"
     ]
    }
   ],
   "source": [
    "JLASimulator = jla.JLA_Model()\n",
    "\n",
    "def simulator(theta, seed, simulator_args, batch):\n",
    "    \n",
    "    return JLASimulator.simulation(theta, seed)\n",
    "\n",
    "simulator_args = None"
   ]
  },
  {
   "cell_type": "markdown",
   "metadata": {
    "slideshow": {
     "slide_type": "slide"
    }
   },
   "source": [
    "## Set up the prior"
   ]
  },
  {
   "cell_type": "code",
   "execution_count": 3,
   "metadata": {
    "collapsed": true
   },
   "outputs": [],
   "source": [
    "lower = np.array([0, -1.5, -20, 0, 0, -0.5])\n",
    "upper = np.array([0.6, 0, -18, 1, 6, 0.5])\n",
    "prior = priors.Uniform(lower, upper)"
   ]
  },
  {
   "cell_type": "markdown",
   "metadata": {
    "slideshow": {
     "slide_type": "slide"
    }
   },
   "source": [
    "## Set up the compressor\n",
    "Must have the signature `compressor(data, args)` -> `np.array([n_summaries])`<br>\n",
    "In this case we are going to do Gaussian score compression $$\\mathbf{t} = \\boldsymbol\\theta_* + \\mathbf{F}^{-1}\\nabla_\\theta^T\\boldsymbol\\mu_*\\mathbf{C}^{-1}(\\mathbf{d}-\\boldsymbol\\mu_*)$$ using the class `score.Gaussian`. For this we'll need some fiducial parameters, the mean its derivative at the fiducial parameters, the inverse covariance, and the inverse Fisher matrix"
   ]
  },
  {
   "cell_type": "code",
   "execution_count": 4,
   "metadata": {
    "collapsed": true
   },
   "outputs": [],
   "source": [
    "theta_fiducial = np.array([0.2, -0.75, -19.05, 0.125, 2.65, -0.05])\n",
    "\n",
    "mu = JLASimulator.apparent_magnitude(theta_fiducial)\n",
    "Cinv = JLASimulator.Cinv\n",
    "\n",
    "h = np.array(abs(theta_fiducial))*0.01\n",
    "dmudt = JLASimulator.dmudt(theta_fiducial, h)\n",
    "\n",
    "Compressor = score.Gaussian(len(JLASimulator.data), theta_fiducial, mu = mu, Cinv = Cinv, dmudt = dmudt)\n",
    "Compressor.compute_fisher()\n",
    "Finv = Compressor.Finv\n",
    "\n",
    "def compressor(d, compressor_args):\n",
    "    return Compressor.scoreMLE(d)\n",
    "compressor_args=None"
   ]
  },
  {
   "cell_type": "markdown",
   "metadata": {
    "slideshow": {
     "slide_type": "slide"
    }
   },
   "source": [
    "## Load in the compressed data"
   ]
  },
  {
   "cell_type": "code",
   "execution_count": 5,
   "metadata": {
    "collapsed": true
   },
   "outputs": [],
   "source": [
    "compressed_data = compressor(JLASimulator.data, compressor_args)"
   ]
  },
  {
   "cell_type": "markdown",
   "metadata": {
    "slideshow": {
     "slide_type": "slide"
    }
   },
   "source": [
    "## Define ensemble of NDEs"
   ]
  },
  {
   "cell_type": "code",
   "execution_count": 6,
   "metadata": {},
   "outputs": [
    {
     "name": "stdout",
     "output_type": "stream",
     "text": [
      "\n",
      "WARNING: The TensorFlow contrib module will not be included in TensorFlow 2.0.\n",
      "For more information, please see:\n",
      "  * https://github.com/tensorflow/community/blob/master/rfcs/20180907-contrib-sunset.md\n",
      "  * https://github.com/tensorflow/addons\n",
      "If you depend on functionality not listed there, please file an issue.\n",
      "\n"
     ]
    }
   ],
   "source": [
    "NDEs = [ndes.MixtureDensityNetwork(n_parameters=6, n_data=6, n_components=1, n_hidden=[30,30], activations=[tf.tanh, tf.tanh], index=0),\n",
    "       ndes.MixtureDensityNetwork(n_parameters=6, n_data=6, n_components=2, n_hidden=[30,30], activations=[tf.tanh, tf.tanh], index=1),\n",
    "       ndes.MixtureDensityNetwork(n_parameters=6, n_data=6, n_components=3, n_hidden=[30,30], activations=[tf.tanh, tf.tanh], index=2),\n",
    "       ndes.MixtureDensityNetwork(n_parameters=6, n_data=6, n_components=4, n_hidden=[30,30], activations=[tf.tanh, tf.tanh], index=3),\n",
    "       ndes.MixtureDensityNetwork(n_parameters=6, n_data=6, n_components=5, n_hidden=[30,30], activations=[tf.tanh, tf.tanh], index=4),\n",
    "       ndes.ConditionalMaskedAutoregressiveFlow(n_parameters=6, n_data=6, n_hiddens=[50,50], n_mades=5, act_fun=tf.tanh, index=5)]"
   ]
  },
  {
   "cell_type": "markdown",
   "metadata": {
    "slideshow": {
     "slide_type": "slide"
    }
   },
   "source": [
    "## Create DELFI object"
   ]
  },
  {
   "cell_type": "code",
   "execution_count": null,
   "metadata": {
    "collapsed": true
   },
   "outputs": [],
   "source": [
    "DelfiEnsemble = delfi.Delfi(compressed_data, prior, NDEs, \n",
    "                            Finv = Finv, \n",
    "                            theta_fiducial = theta_fiducial, \n",
    "                            param_limits = [lower, upper],\n",
    "                            param_names = ['\\\\Omega_m', 'w_0', 'M_\\mathrm{B}', '\\\\alpha', '\\\\beta', '\\\\delta M'], \n",
    "                            results_dir = \"simulators/jla_supernovae/results/\",\n",
    "                            input_normalization=\"fisher\")"
   ]
  },
  {
   "cell_type": "markdown",
   "metadata": {
    "slideshow": {
     "slide_type": "slide"
    }
   },
   "source": [
    "## Fisher pre-training to initialize the NDEs"
   ]
  },
  {
   "cell_type": "code",
   "execution_count": null,
   "metadata": {},
   "outputs": [
    {
     "data": {
      "application/vnd.jupyter.widget-view+json": {
       "model_id": "87ecd2c1a057439ba6c6563049cafc9e"
      }
     },
     "metadata": {},
     "output_type": "display_data"
    },
    {
     "data": {
      "application/vnd.jupyter.widget-view+json": {
       "model_id": "e8c6698d241b434c9d37110ae39102ef"
      }
     },
     "metadata": {},
     "output_type": "display_data"
    },
    {
     "name": "stdout",
     "output_type": "stream",
     "text": [
      "\n"
     ]
    },
    {
     "data": {
      "application/vnd.jupyter.widget-view+json": {
       "model_id": "b056e46a2f214a10b4a862f32ac724fe"
      }
     },
     "metadata": {},
     "output_type": "display_data"
    },
    {
     "name": "stdout",
     "output_type": "stream",
     "text": [
      "\n"
     ]
    },
    {
     "data": {
      "application/vnd.jupyter.widget-view+json": {
       "model_id": "b5a0a953fee6463eaa8cdafda899bdc4"
      }
     },
     "metadata": {},
     "output_type": "display_data"
    },
    {
     "name": "stdout",
     "output_type": "stream",
     "text": [
      "\n"
     ]
    },
    {
     "data": {
      "application/vnd.jupyter.widget-view+json": {
       "model_id": "2a8fea51f86a40d589188b6fe73b0fe6"
      }
     },
     "metadata": {},
     "output_type": "display_data"
    },
    {
     "name": "stdout",
     "output_type": "stream",
     "text": [
      "\n"
     ]
    },
    {
     "data": {
      "application/vnd.jupyter.widget-view+json": {
       "model_id": "fe97008510c34d2cbdfb393cee95a37c"
      }
     },
     "metadata": {},
     "output_type": "display_data"
    },
    {
     "name": "stdout",
     "output_type": "stream",
     "text": [
      "\n",
      "Sampling approximate posterior...\n"
     ]
    },
    {
     "name": "stderr",
     "output_type": "stream",
     "text": [
      "ERROR:root:Internal Python error in the inspect module.\n",
      "Below is the traceback from this internal error.\n",
      "\n",
      "ERROR:root:Internal Python error in the inspect module.\n",
      "Below is the traceback from this internal error.\n",
      "\n",
      "--- Logging error ---\n",
      "--- Logging error ---\n",
      "--- Logging error ---\n",
      "--- Logging error ---\n",
      "Error in sys.excepthook:\n",
      "Traceback (most recent call last):\n",
      "  File \"/Users/hyraland/anaconda/lib/python3.6/linecache.py\", line 95, in updatecache\n",
      "    stat = os.stat(fullname)\n",
      "NotADirectoryError: [Errno 20] Not a directory: '/Users/hyraland/anaconda/lib/python3.6/site-packages/pydelfi-0.1-py3.6.egg/pydelfi/delfi.py'\n",
      "\n",
      "During handling of the above exception, another exception occurred:\n",
      "\n",
      "Traceback (most recent call last):\n",
      "  File \"/Users/hyraland/anaconda/lib/python3.6/linecache.py\", line 47, in getlines\n",
      "    return updatecache(filename, module_globals)\n",
      "  File \"/Users/hyraland/anaconda/lib/python3.6/linecache.py\", line 103, in updatecache\n",
      "    data = cache[filename][0]()\n",
      "zlib.error: Error -5 while decompressing data: incomplete or truncated stream\n",
      "\n",
      "Original exception was:\n",
      "Traceback (most recent call last):\n",
      "  File \"/Users/hyraland/anaconda/lib/python3.6/site-packages/IPython/core/interactiveshell.py\", line 2881, in run_code\n",
      "    exec(code_obj, self.user_global_ns, self.user_ns)\n",
      "  File \"<ipython-input-8-2767d56e396a>\", line 1, in <module>\n",
      "  File \"/Users/hyraland/anaconda/lib/python3.6/site-packages/pydelfi-0.1-py3.6.egg/pydelfi/delfi.py\", line 591, in fisher_pretraining\n",
      "  File \"/Users/hyraland/anaconda/lib/python3.6/site-packages/pydelfi-0.1-py3.6.egg/pydelfi/delfi.py\", line 348, in emcee_sample\n",
      "ValueError: too many values to unpack (expected 3)\n",
      "\n",
      "During handling of the above exception, another exception occurred:\n",
      "\n",
      "Traceback (most recent call last):\n",
      "  File \"/Users/hyraland/anaconda/lib/python3.6/site-packages/IPython/core/interactiveshell.py\", line 1821, in showtraceback\n",
      "    stb = value._render_traceback_()\n",
      "AttributeError: 'ValueError' object has no attribute '_render_traceback_'\n",
      "\n",
      "During handling of the above exception, another exception occurred:\n",
      "\n",
      "Traceback (most recent call last):\n",
      "  File \"/Users/hyraland/anaconda/lib/python3.6/linecache.py\", line 95, in updatecache\n",
      "    stat = os.stat(fullname)\n",
      "NotADirectoryError: [Errno 20] Not a directory: '/Users/hyraland/anaconda/lib/python3.6/site-packages/pydelfi-0.1-py3.6.egg/pydelfi/delfi.py'\n",
      "\n",
      "During handling of the above exception, another exception occurred:\n",
      "\n",
      "Traceback (most recent call last):\n",
      "  File \"/Users/hyraland/anaconda/lib/python3.6/site-packages/IPython/core/ultratb.py\", line 1132, in get_records\n",
      "    return _fixed_getinnerframes(etb, number_of_lines_of_context, tb_offset)\n",
      "  File \"/Users/hyraland/anaconda/lib/python3.6/site-packages/IPython/core/ultratb.py\", line 313, in wrapped\n",
      "    return f(*args, **kwargs)\n",
      "  File \"/Users/hyraland/anaconda/lib/python3.6/site-packages/IPython/core/ultratb.py\", line 358, in _fixed_getinnerframes\n",
      "    records = fix_frame_records_filenames(inspect.getinnerframes(etb, context))\n",
      "  File \"/Users/hyraland/anaconda/lib/python3.6/inspect.py\", line 1453, in getinnerframes\n",
      "    frameinfo = (tb.tb_frame,) + getframeinfo(tb, context)\n",
      "  File \"/Users/hyraland/anaconda/lib/python3.6/inspect.py\", line 1415, in getframeinfo\n",
      "    lines, lnum = findsource(frame)\n",
      "  File \"/Users/hyraland/anaconda/lib/python3.6/site-packages/IPython/core/ultratb.py\", line 182, in findsource\n",
      "    lines = linecache.getlines(file, globals_dict)\n",
      "  File \"/Users/hyraland/anaconda/lib/python3.6/linecache.py\", line 47, in getlines\n",
      "    return updatecache(filename, module_globals)\n",
      "  File \"/Users/hyraland/anaconda/lib/python3.6/linecache.py\", line 103, in updatecache\n",
      "    data = cache[filename][0]()\n",
      "zlib.error: Error -5 while decompressing data: incomplete or truncated stream\n",
      "\n",
      "During handling of the above exception, another exception occurred:\n",
      "\n",
      "Traceback (most recent call last):\n",
      "  File \"/Users/hyraland/anaconda/lib/python3.6/linecache.py\", line 95, in updatecache\n",
      "    stat = os.stat(fullname)\n",
      "NotADirectoryError: [Errno 20] Not a directory: '/Users/hyraland/anaconda/lib/python3.6/site-packages/pydelfi-0.1-py3.6.egg/pydelfi/delfi.py'\n",
      "\n",
      "During handling of the above exception, another exception occurred:\n",
      "\n",
      "Traceback (most recent call last):\n",
      "  File \"/Users/hyraland/anaconda/lib/python3.6/site-packages/IPython/core/interactiveshell.py\", line 2827, in run_ast_nodes\n",
      "    if self.run_code(code, result):\n",
      "  File \"/Users/hyraland/anaconda/lib/python3.6/site-packages/IPython/core/interactiveshell.py\", line 2898, in run_code\n",
      "    self.showtraceback()\n",
      "  File \"/Users/hyraland/anaconda/lib/python3.6/site-packages/IPython/core/interactiveshell.py\", line 1824, in showtraceback\n",
      "    value, tb, tb_offset=tb_offset)\n",
      "  File \"/Users/hyraland/anaconda/lib/python3.6/site-packages/IPython/core/ultratb.py\", line 1412, in structured_traceback\n",
      "    self, etype, value, tb, tb_offset, number_of_lines_of_context)\n",
      "  File \"/Users/hyraland/anaconda/lib/python3.6/site-packages/IPython/core/ultratb.py\", line 1320, in structured_traceback\n",
      "    self, etype, value, tb, tb_offset, number_of_lines_of_context\n",
      "  File \"/Users/hyraland/anaconda/lib/python3.6/site-packages/IPython/core/ultratb.py\", line 1170, in structured_traceback\n",
      "    tb_offset)\n",
      "  File \"/Users/hyraland/anaconda/lib/python3.6/site-packages/IPython/core/ultratb.py\", line 1108, in format_exception_as_a_whole\n",
      "    records = self.get_records(etb, number_of_lines_of_context, tb_offset)\n",
      "  File \"/Users/hyraland/anaconda/lib/python3.6/site-packages/IPython/core/ultratb.py\", line 1147, in get_records\n",
      "    traceback.print_exc(file=self.ostream)\n",
      "  File \"/Users/hyraland/anaconda/lib/python3.6/traceback.py\", line 159, in print_exc\n",
      "    print_exception(*sys.exc_info(), limit=limit, file=file, chain=chain)\n",
      "  File \"/Users/hyraland/anaconda/lib/python3.6/traceback.py\", line 100, in print_exception\n",
      "    type(value), value, tb, limit=limit).format(chain=chain):\n",
      "  File \"/Users/hyraland/anaconda/lib/python3.6/traceback.py\", line 510, in __init__\n",
      "    self._load_lines()\n",
      "  File \"/Users/hyraland/anaconda/lib/python3.6/traceback.py\", line 522, in _load_lines\n",
      "    self.__context__._load_lines()\n",
      "  File \"/Users/hyraland/anaconda/lib/python3.6/traceback.py\", line 522, in _load_lines\n",
      "    self.__context__._load_lines()\n",
      "  File \"/Users/hyraland/anaconda/lib/python3.6/traceback.py\", line 522, in _load_lines\n",
      "    self.__context__._load_lines()\n",
      "  File \"/Users/hyraland/anaconda/lib/python3.6/traceback.py\", line 520, in _load_lines\n",
      "    frame.line\n",
      "  File \"/Users/hyraland/anaconda/lib/python3.6/traceback.py\", line 282, in line\n",
      "    self._line = linecache.getline(self.filename, self.lineno).strip()\n",
      "  File \"/Users/hyraland/anaconda/lib/python3.6/linecache.py\", line 16, in getline\n",
      "    lines = getlines(filename, module_globals)\n",
      "  File \"/Users/hyraland/anaconda/lib/python3.6/linecache.py\", line 47, in getlines\n",
      "    return updatecache(filename, module_globals)\n",
      "  File \"/Users/hyraland/anaconda/lib/python3.6/linecache.py\", line 103, in updatecache\n",
      "    data = cache[filename][0]()\n",
      "zlib.error: Error -5 while decompressing data: incomplete or truncated stream\n",
      "\n",
      "During handling of the above exception, another exception occurred:\n",
      "\n",
      "Traceback (most recent call last):\n",
      "  File \"/Users/hyraland/anaconda/lib/python3.6/site-packages/IPython/core/interactiveshell.py\", line 1821, in showtraceback\n",
      "    stb = value._render_traceback_()\n",
      "AttributeError: 'error' object has no attribute '_render_traceback_'\n",
      "\n",
      "During handling of the above exception, another exception occurred:\n",
      "\n",
      "Traceback (most recent call last):\n",
      "  File \"/Users/hyraland/anaconda/lib/python3.6/linecache.py\", line 95, in updatecache\n",
      "    stat = os.stat(fullname)\n",
      "NotADirectoryError: [Errno 20] Not a directory: '/Users/hyraland/anaconda/lib/python3.6/site-packages/pydelfi-0.1-py3.6.egg/pydelfi/delfi.py'\n",
      "\n",
      "During handling of the above exception, another exception occurred:\n",
      "\n",
      "Traceback (most recent call last):\n",
      "  File \"/Users/hyraland/anaconda/lib/python3.6/site-packages/IPython/core/ultratb.py\", line 1132, in get_records\n",
      "    return _fixed_getinnerframes(etb, number_of_lines_of_context, tb_offset)\n",
      "  File \"/Users/hyraland/anaconda/lib/python3.6/site-packages/IPython/core/ultratb.py\", line 313, in wrapped\n",
      "    return f(*args, **kwargs)\n",
      "  File \"/Users/hyraland/anaconda/lib/python3.6/site-packages/IPython/core/ultratb.py\", line 358, in _fixed_getinnerframes\n",
      "    records = fix_frame_records_filenames(inspect.getinnerframes(etb, context))\n",
      "  File \"/Users/hyraland/anaconda/lib/python3.6/inspect.py\", line 1453, in getinnerframes\n",
      "    frameinfo = (tb.tb_frame,) + getframeinfo(tb, context)\n",
      "  File \"/Users/hyraland/anaconda/lib/python3.6/inspect.py\", line 1415, in getframeinfo\n",
      "    lines, lnum = findsource(frame)\n",
      "  File \"/Users/hyraland/anaconda/lib/python3.6/site-packages/IPython/core/ultratb.py\", line 182, in findsource\n",
      "    lines = linecache.getlines(file, globals_dict)\n",
      "  File \"/Users/hyraland/anaconda/lib/python3.6/linecache.py\", line 47, in getlines\n",
      "    return updatecache(filename, module_globals)\n",
      "  File \"/Users/hyraland/anaconda/lib/python3.6/linecache.py\", line 103, in updatecache\n",
      "    data = cache[filename][0]()\n",
      "zlib.error: Error -5 while decompressing data: incomplete or truncated stream\n",
      "\n",
      "During handling of the above exception, another exception occurred:\n",
      "\n",
      "Traceback (most recent call last):\n",
      "  File \"/Users/hyraland/anaconda/lib/python3.6/linecache.py\", line 95, in updatecache\n",
      "    stat = os.stat(fullname)\n",
      "NotADirectoryError: [Errno 20] Not a directory: '/Users/hyraland/anaconda/lib/python3.6/site-packages/pydelfi-0.1-py3.6.egg/pydelfi/delfi.py'\n",
      "\n",
      "During handling of the above exception, another exception occurred:\n",
      "\n",
      "Traceback (most recent call last):\n",
      "  File \"/Users/hyraland/anaconda/lib/python3.6/site-packages/ipykernel/kernelbase.py\", line 235, in dispatch_shell\n",
      "    handler(stream, idents, msg)\n",
      "  File \"/Users/hyraland/anaconda/lib/python3.6/site-packages/ipykernel/kernelbase.py\", line 399, in execute_request\n",
      "    user_expressions, allow_stdin)\n",
      "  File \"/Users/hyraland/anaconda/lib/python3.6/site-packages/ipykernel/ipkernel.py\", line 196, in do_execute\n",
      "    res = shell.run_cell(code, store_history=store_history, silent=silent)\n",
      "  File \"/Users/hyraland/anaconda/lib/python3.6/site-packages/ipykernel/zmqshell.py\", line 533, in run_cell\n",
      "    return super(ZMQInteractiveShell, self).run_cell(*args, **kwargs)\n",
      "  File \"/Users/hyraland/anaconda/lib/python3.6/site-packages/IPython/core/interactiveshell.py\", line 2717, in run_cell\n",
      "    interactivity=interactivity, compiler=compiler, result=result)\n",
      "  File \"/Users/hyraland/anaconda/lib/python3.6/site-packages/IPython/core/interactiveshell.py\", line 2846, in run_ast_nodes\n",
      "    self.showtraceback()\n",
      "  File \"/Users/hyraland/anaconda/lib/python3.6/site-packages/IPython/core/interactiveshell.py\", line 1824, in showtraceback\n",
      "    value, tb, tb_offset=tb_offset)\n",
      "  File \"/Users/hyraland/anaconda/lib/python3.6/site-packages/IPython/core/ultratb.py\", line 1412, in structured_traceback\n",
      "    self, etype, value, tb, tb_offset, number_of_lines_of_context)\n",
      "  File \"/Users/hyraland/anaconda/lib/python3.6/site-packages/IPython/core/ultratb.py\", line 1320, in structured_traceback\n",
      "    self, etype, value, tb, tb_offset, number_of_lines_of_context\n",
      "  File \"/Users/hyraland/anaconda/lib/python3.6/site-packages/IPython/core/ultratb.py\", line 1189, in structured_traceback\n",
      "    chained_exceptions_tb_offset)\n",
      "  File \"/Users/hyraland/anaconda/lib/python3.6/site-packages/IPython/core/ultratb.py\", line 1108, in format_exception_as_a_whole\n",
      "    records = self.get_records(etb, number_of_lines_of_context, tb_offset)\n",
      "  File \"/Users/hyraland/anaconda/lib/python3.6/site-packages/IPython/core/ultratb.py\", line 1147, in get_records\n",
      "    traceback.print_exc(file=self.ostream)\n",
      "  File \"/Users/hyraland/anaconda/lib/python3.6/traceback.py\", line 159, in print_exc\n",
      "    print_exception(*sys.exc_info(), limit=limit, file=file, chain=chain)\n",
      "  File \"/Users/hyraland/anaconda/lib/python3.6/traceback.py\", line 100, in print_exception\n",
      "    type(value), value, tb, limit=limit).format(chain=chain):\n",
      "  File \"/Users/hyraland/anaconda/lib/python3.6/traceback.py\", line 510, in __init__\n",
      "    self._load_lines()\n",
      "  File \"/Users/hyraland/anaconda/lib/python3.6/traceback.py\", line 522, in _load_lines\n",
      "    self.__context__._load_lines()\n",
      "  File \"/Users/hyraland/anaconda/lib/python3.6/traceback.py\", line 522, in _load_lines\n",
      "    self.__context__._load_lines()\n",
      "  File \"/Users/hyraland/anaconda/lib/python3.6/traceback.py\", line 522, in _load_lines\n",
      "    self.__context__._load_lines()\n",
      "  [Previous line repeated 4 more times]\n",
      "  File \"/Users/hyraland/anaconda/lib/python3.6/traceback.py\", line 520, in _load_lines\n",
      "    frame.line\n",
      "  File \"/Users/hyraland/anaconda/lib/python3.6/traceback.py\", line 282, in line\n",
      "    self._line = linecache.getline(self.filename, self.lineno).strip()\n",
      "  File \"/Users/hyraland/anaconda/lib/python3.6/linecache.py\", line 16, in getline\n",
      "    lines = getlines(filename, module_globals)\n",
      "  File \"/Users/hyraland/anaconda/lib/python3.6/linecache.py\", line 47, in getlines\n",
      "    return updatecache(filename, module_globals)\n",
      "  File \"/Users/hyraland/anaconda/lib/python3.6/linecache.py\", line 103, in updatecache\n",
      "    data = cache[filename][0]()\n",
      "zlib.error: Error -5 while decompressing data: incomplete or truncated stream\n",
      "\n",
      "During handling of the above exception, another exception occurred:\n",
      "\n",
      "Traceback (most recent call last):\n",
      "  File \"/Users/hyraland/anaconda/lib/python3.6/linecache.py\", line 95, in updatecache\n",
      "    stat = os.stat(fullname)\n",
      "NotADirectoryError: [Errno 20] Not a directory: '/Users/hyraland/anaconda/lib/python3.6/site-packages/pydelfi-0.1-py3.6.egg/pydelfi/delfi.py'\n",
      "\n",
      "During handling of the above exception, another exception occurred:\n",
      "\n",
      "Traceback (most recent call last):\n",
      "  File \"/Users/hyraland/anaconda/lib/python3.6/logging/__init__.py\", line 992, in emit\n",
      "    msg = self.format(record)\n",
      "  File \"/Users/hyraland/anaconda/lib/python3.6/logging/__init__.py\", line 838, in format\n",
      "    return fmt.format(record)\n",
      "  File \"/Users/hyraland/anaconda/lib/python3.6/site-packages/traitlets/config/application.py\", line 117, in format\n",
      "    return super(LevelFormatter, self).format(record)\n",
      "  File \"/Users/hyraland/anaconda/lib/python3.6/logging/__init__.py\", line 583, in format\n",
      "    record.exc_text = self.formatException(record.exc_info)\n",
      "  File \"/Users/hyraland/anaconda/lib/python3.6/logging/__init__.py\", line 533, in formatException\n",
      "    traceback.print_exception(ei[0], ei[1], tb, None, sio)\n",
      "  File \"/Users/hyraland/anaconda/lib/python3.6/traceback.py\", line 100, in print_exception\n",
      "    type(value), value, tb, limit=limit).format(chain=chain):\n",
      "  File \"/Users/hyraland/anaconda/lib/python3.6/traceback.py\", line 510, in __init__\n",
      "    self._load_lines()\n",
      "  File \"/Users/hyraland/anaconda/lib/python3.6/traceback.py\", line 522, in _load_lines\n",
      "    self.__context__._load_lines()\n",
      "  File \"/Users/hyraland/anaconda/lib/python3.6/traceback.py\", line 522, in _load_lines\n",
      "    self.__context__._load_lines()\n",
      "  File \"/Users/hyraland/anaconda/lib/python3.6/traceback.py\", line 522, in _load_lines\n",
      "    self.__context__._load_lines()\n",
      "  [Previous line repeated 6 more times]\n",
      "  File \"/Users/hyraland/anaconda/lib/python3.6/traceback.py\", line 520, in _load_lines\n",
      "    frame.line\n",
      "  File \"/Users/hyraland/anaconda/lib/python3.6/traceback.py\", line 282, in line\n",
      "    self._line = linecache.getline(self.filename, self.lineno).strip()\n",
      "  File \"/Users/hyraland/anaconda/lib/python3.6/linecache.py\", line 16, in getline\n",
      "    lines = getlines(filename, module_globals)\n",
      "  File \"/Users/hyraland/anaconda/lib/python3.6/linecache.py\", line 47, in getlines\n",
      "    return updatecache(filename, module_globals)\n",
      "  File \"/Users/hyraland/anaconda/lib/python3.6/linecache.py\", line 103, in updatecache\n",
      "    data = cache[filename][0]()\n",
      "zlib.error: Error -5 while decompressing data: incomplete or truncated stream\n",
      "\n",
      "During handling of the above exception, another exception occurred:\n",
      "\n",
      "Traceback (most recent call last):\n",
      "  File \"/Users/hyraland/anaconda/lib/python3.6/linecache.py\", line 95, in updatecache\n",
      "    stat = os.stat(fullname)\n",
      "NotADirectoryError: [Errno 20] Not a directory: '/Users/hyraland/anaconda/lib/python3.6/site-packages/pydelfi-0.1-py3.6.egg/pydelfi/delfi.py'\n",
      "\n",
      "During handling of the above exception, another exception occurred:\n",
      "\n",
      "Traceback (most recent call last):\n",
      "  File \"/Users/hyraland/anaconda/lib/python3.6/site-packages/zmq/eventloop/zmqstream.py\", line 414, in _run_callback\n",
      "    callback(*args, **kwargs)\n",
      "  File \"/Users/hyraland/anaconda/lib/python3.6/site-packages/tornado/stack_context.py\", line 277, in null_wrapper\n",
      "    return fn(*args, **kwargs)\n",
      "  File \"/Users/hyraland/anaconda/lib/python3.6/site-packages/ipykernel/kernelbase.py\", line 283, in dispatcher\n",
      "    return self.dispatch_shell(stream, msg)\n",
      "  File \"/Users/hyraland/anaconda/lib/python3.6/site-packages/ipykernel/kernelbase.py\", line 237, in dispatch_shell\n",
      "    self.log.error(\"Exception in message handler:\", exc_info=True)\n",
      "  File \"/Users/hyraland/anaconda/lib/python3.6/logging/__init__.py\", line 1335, in error\n",
      "    self._log(ERROR, msg, args, **kwargs)\n",
      "  File \"/Users/hyraland/anaconda/lib/python3.6/logging/__init__.py\", line 1442, in _log\n",
      "    self.handle(record)\n",
      "  File \"/Users/hyraland/anaconda/lib/python3.6/logging/__init__.py\", line 1452, in handle\n",
      "    self.callHandlers(record)\n",
      "  File \"/Users/hyraland/anaconda/lib/python3.6/logging/__init__.py\", line 1514, in callHandlers\n",
      "    hdlr.handle(record)\n",
      "  File \"/Users/hyraland/anaconda/lib/python3.6/logging/__init__.py\", line 863, in handle\n",
      "    self.emit(record)\n",
      "  File \"/Users/hyraland/anaconda/lib/python3.6/logging/__init__.py\", line 998, in emit\n",
      "    self.handleError(record)\n",
      "  File \"/Users/hyraland/anaconda/lib/python3.6/logging/__init__.py\", line 916, in handleError\n",
      "    traceback.print_exception(t, v, tb, None, sys.stderr)\n",
      "  File \"/Users/hyraland/anaconda/lib/python3.6/traceback.py\", line 100, in print_exception\n",
      "    type(value), value, tb, limit=limit).format(chain=chain):\n",
      "  File \"/Users/hyraland/anaconda/lib/python3.6/traceback.py\", line 510, in __init__\n",
      "    self._load_lines()\n",
      "  File \"/Users/hyraland/anaconda/lib/python3.6/traceback.py\", line 522, in _load_lines\n",
      "    self.__context__._load_lines()\n",
      "  File \"/Users/hyraland/anaconda/lib/python3.6/traceback.py\", line 522, in _load_lines\n",
      "    self.__context__._load_lines()\n",
      "  File \"/Users/hyraland/anaconda/lib/python3.6/traceback.py\", line 522, in _load_lines\n",
      "    self.__context__._load_lines()\n",
      "  [Previous line repeated 8 more times]\n",
      "  File \"/Users/hyraland/anaconda/lib/python3.6/traceback.py\", line 520, in _load_lines\n",
      "    frame.line\n",
      "  File \"/Users/hyraland/anaconda/lib/python3.6/traceback.py\", line 282, in line\n",
      "    self._line = linecache.getline(self.filename, self.lineno).strip()\n",
      "  File \"/Users/hyraland/anaconda/lib/python3.6/linecache.py\", line 16, in getline\n",
      "    lines = getlines(filename, module_globals)\n",
      "  File \"/Users/hyraland/anaconda/lib/python3.6/linecache.py\", line 47, in getlines\n",
      "    return updatecache(filename, module_globals)\n",
      "  File \"/Users/hyraland/anaconda/lib/python3.6/linecache.py\", line 103, in updatecache\n",
      "    data = cache[filename][0]()\n",
      "zlib.error: Error -5 while decompressing data: incomplete or truncated stream\n",
      "\n",
      "During handling of the above exception, another exception occurred:\n",
      "\n",
      "Traceback (most recent call last):\n",
      "  File \"/Users/hyraland/anaconda/lib/python3.6/linecache.py\", line 95, in updatecache\n",
      "    stat = os.stat(fullname)\n",
      "NotADirectoryError: [Errno 20] Not a directory: '/Users/hyraland/anaconda/lib/python3.6/site-packages/pydelfi-0.1-py3.6.egg/pydelfi/delfi.py'\n",
      "\n",
      "During handling of the above exception, another exception occurred:\n",
      "\n",
      "Traceback (most recent call last):\n",
      "  File \"/Users/hyraland/anaconda/lib/python3.6/logging/__init__.py\", line 992, in emit\n",
      "    msg = self.format(record)\n",
      "  File \"/Users/hyraland/anaconda/lib/python3.6/logging/__init__.py\", line 838, in format\n",
      "    return fmt.format(record)\n",
      "  File \"/Users/hyraland/anaconda/lib/python3.6/logging/__init__.py\", line 583, in format\n",
      "    record.exc_text = self.formatException(record.exc_info)\n",
      "  File \"/Users/hyraland/anaconda/lib/python3.6/logging/__init__.py\", line 533, in formatException\n",
      "    traceback.print_exception(ei[0], ei[1], tb, None, sio)\n",
      "  File \"/Users/hyraland/anaconda/lib/python3.6/traceback.py\", line 100, in print_exception\n",
      "    type(value), value, tb, limit=limit).format(chain=chain):\n",
      "  File \"/Users/hyraland/anaconda/lib/python3.6/traceback.py\", line 510, in __init__\n",
      "    self._load_lines()\n",
      "  File \"/Users/hyraland/anaconda/lib/python3.6/traceback.py\", line 522, in _load_lines\n",
      "    self.__context__._load_lines()\n",
      "  File \"/Users/hyraland/anaconda/lib/python3.6/traceback.py\", line 522, in _load_lines\n",
      "    self.__context__._load_lines()\n",
      "  File \"/Users/hyraland/anaconda/lib/python3.6/traceback.py\", line 522, in _load_lines\n",
      "    self.__context__._load_lines()\n",
      "  [Previous line repeated 10 more times]\n",
      "  File \"/Users/hyraland/anaconda/lib/python3.6/traceback.py\", line 520, in _load_lines\n",
      "    frame.line\n",
      "  File \"/Users/hyraland/anaconda/lib/python3.6/traceback.py\", line 282, in line\n",
      "    self._line = linecache.getline(self.filename, self.lineno).strip()\n",
      "  File \"/Users/hyraland/anaconda/lib/python3.6/linecache.py\", line 16, in getline\n",
      "    lines = getlines(filename, module_globals)\n",
      "  File \"/Users/hyraland/anaconda/lib/python3.6/linecache.py\", line 47, in getlines\n",
      "    return updatecache(filename, module_globals)\n",
      "  File \"/Users/hyraland/anaconda/lib/python3.6/linecache.py\", line 103, in updatecache\n",
      "    data = cache[filename][0]()\n",
      "zlib.error: Error -5 while decompressing data: incomplete or truncated stream\n",
      "\n",
      "During handling of the above exception, another exception occurred:\n",
      "\n",
      "Traceback (most recent call last):\n",
      "  File \"/Users/hyraland/anaconda/lib/python3.6/linecache.py\", line 95, in updatecache\n",
      "    stat = os.stat(fullname)\n",
      "NotADirectoryError: [Errno 20] Not a directory: '/Users/hyraland/anaconda/lib/python3.6/site-packages/pydelfi-0.1-py3.6.egg/pydelfi/delfi.py'\n",
      "\n",
      "During handling of the above exception, another exception occurred:\n",
      "\n",
      "Traceback (most recent call last):\n",
      "  File \"/Users/hyraland/anaconda/lib/python3.6/site-packages/zmq/eventloop/zmqstream.py\", line 440, in _handle_events\n",
      "    self._handle_recv()\n",
      "  File \"/Users/hyraland/anaconda/lib/python3.6/site-packages/zmq/eventloop/zmqstream.py\", line 472, in _handle_recv\n",
      "    self._run_callback(callback, msg)\n",
      "  File \"/Users/hyraland/anaconda/lib/python3.6/site-packages/zmq/eventloop/zmqstream.py\", line 417, in _run_callback\n",
      "    exc_info=True)\n",
      "  File \"/Users/hyraland/anaconda/lib/python3.6/logging/__init__.py\", line 1335, in error\n",
      "    self._log(ERROR, msg, args, **kwargs)\n",
      "  File \"/Users/hyraland/anaconda/lib/python3.6/logging/__init__.py\", line 1442, in _log\n",
      "    self.handle(record)\n",
      "  File \"/Users/hyraland/anaconda/lib/python3.6/logging/__init__.py\", line 1452, in handle\n",
      "    self.callHandlers(record)\n",
      "  File \"/Users/hyraland/anaconda/lib/python3.6/logging/__init__.py\", line 1514, in callHandlers\n",
      "    hdlr.handle(record)\n",
      "  File \"/Users/hyraland/anaconda/lib/python3.6/logging/__init__.py\", line 863, in handle\n",
      "    self.emit(record)\n",
      "  File \"/Users/hyraland/anaconda/lib/python3.6/logging/__init__.py\", line 998, in emit\n",
      "    self.handleError(record)\n",
      "  File \"/Users/hyraland/anaconda/lib/python3.6/logging/__init__.py\", line 916, in handleError\n",
      "    traceback.print_exception(t, v, tb, None, sys.stderr)\n",
      "  File \"/Users/hyraland/anaconda/lib/python3.6/traceback.py\", line 100, in print_exception\n",
      "    type(value), value, tb, limit=limit).format(chain=chain):\n",
      "  File \"/Users/hyraland/anaconda/lib/python3.6/traceback.py\", line 510, in __init__\n",
      "    self._load_lines()\n",
      "  File \"/Users/hyraland/anaconda/lib/python3.6/traceback.py\", line 522, in _load_lines\n",
      "    self.__context__._load_lines()\n",
      "  File \"/Users/hyraland/anaconda/lib/python3.6/traceback.py\", line 522, in _load_lines\n",
      "    self.__context__._load_lines()\n",
      "  File \"/Users/hyraland/anaconda/lib/python3.6/traceback.py\", line 522, in _load_lines\n",
      "    self.__context__._load_lines()\n",
      "  [Previous line repeated 12 more times]\n",
      "  File \"/Users/hyraland/anaconda/lib/python3.6/traceback.py\", line 520, in _load_lines\n",
      "    frame.line\n",
      "  File \"/Users/hyraland/anaconda/lib/python3.6/traceback.py\", line 282, in line\n",
      "    self._line = linecache.getline(self.filename, self.lineno).strip()\n",
      "  File \"/Users/hyraland/anaconda/lib/python3.6/linecache.py\", line 16, in getline\n",
      "    lines = getlines(filename, module_globals)\n",
      "  File \"/Users/hyraland/anaconda/lib/python3.6/linecache.py\", line 47, in getlines\n",
      "    return updatecache(filename, module_globals)\n",
      "  File \"/Users/hyraland/anaconda/lib/python3.6/linecache.py\", line 103, in updatecache\n",
      "    data = cache[filename][0]()\n",
      "zlib.error: Error -5 while decompressing data: incomplete or truncated stream\n",
      "\n",
      "During handling of the above exception, another exception occurred:\n",
      "\n",
      "Traceback (most recent call last):\n",
      "  File \"/Users/hyraland/anaconda/lib/python3.6/linecache.py\", line 95, in updatecache\n",
      "    stat = os.stat(fullname)\n",
      "NotADirectoryError: [Errno 20] Not a directory: '/Users/hyraland/anaconda/lib/python3.6/site-packages/pydelfi-0.1-py3.6.egg/pydelfi/delfi.py'\n",
      "\n",
      "During handling of the above exception, another exception occurred:\n",
      "\n",
      "Traceback (most recent call last):\n",
      "  File \"/Users/hyraland/anaconda/lib/python3.6/logging/__init__.py\", line 992, in emit\n",
      "    msg = self.format(record)\n",
      "  File \"/Users/hyraland/anaconda/lib/python3.6/logging/__init__.py\", line 838, in format\n",
      "    return fmt.format(record)\n",
      "  File \"/Users/hyraland/anaconda/lib/python3.6/logging/__init__.py\", line 583, in format\n",
      "    record.exc_text = self.formatException(record.exc_info)\n",
      "  File \"/Users/hyraland/anaconda/lib/python3.6/logging/__init__.py\", line 533, in formatException\n",
      "    traceback.print_exception(ei[0], ei[1], tb, None, sio)\n",
      "  File \"/Users/hyraland/anaconda/lib/python3.6/traceback.py\", line 100, in print_exception\n",
      "    type(value), value, tb, limit=limit).format(chain=chain):\n",
      "  File \"/Users/hyraland/anaconda/lib/python3.6/traceback.py\", line 510, in __init__\n",
      "    self._load_lines()\n",
      "  File \"/Users/hyraland/anaconda/lib/python3.6/traceback.py\", line 522, in _load_lines\n",
      "    self.__context__._load_lines()\n",
      "  File \"/Users/hyraland/anaconda/lib/python3.6/traceback.py\", line 522, in _load_lines\n",
      "    self.__context__._load_lines()\n",
      "  File \"/Users/hyraland/anaconda/lib/python3.6/traceback.py\", line 522, in _load_lines\n",
      "    self.__context__._load_lines()\n",
      "  [Previous line repeated 14 more times]\n",
      "  File \"/Users/hyraland/anaconda/lib/python3.6/traceback.py\", line 520, in _load_lines\n",
      "    frame.line\n",
      "  File \"/Users/hyraland/anaconda/lib/python3.6/traceback.py\", line 282, in line\n",
      "    self._line = linecache.getline(self.filename, self.lineno).strip()\n",
      "  File \"/Users/hyraland/anaconda/lib/python3.6/linecache.py\", line 16, in getline\n",
      "    lines = getlines(filename, module_globals)\n",
      "  File \"/Users/hyraland/anaconda/lib/python3.6/linecache.py\", line 47, in getlines\n",
      "    return updatecache(filename, module_globals)\n",
      "  File \"/Users/hyraland/anaconda/lib/python3.6/linecache.py\", line 103, in updatecache\n",
      "    data = cache[filename][0]()\n",
      "zlib.error: Error -5 while decompressing data: incomplete or truncated stream\n",
      "\n",
      "During handling of the above exception, another exception occurred:\n",
      "\n",
      "Traceback (most recent call last):\n",
      "  File \"/Users/hyraland/anaconda/lib/python3.6/linecache.py\", line 95, in updatecache\n",
      "    stat = os.stat(fullname)\n",
      "NotADirectoryError: [Errno 20] Not a directory: '/Users/hyraland/anaconda/lib/python3.6/site-packages/pydelfi-0.1-py3.6.egg/pydelfi/delfi.py'\n",
      "\n",
      "During handling of the above exception, another exception occurred:\n",
      "\n",
      "Traceback (most recent call last):\n",
      "  File \"/Users/hyraland/anaconda/lib/python3.6/site-packages/tornado/ioloop.py\", line 888, in start\n",
      "    handler_func(fd_obj, events)\n",
      "  File \"/Users/hyraland/anaconda/lib/python3.6/site-packages/tornado/stack_context.py\", line 277, in null_wrapper\n",
      "    return fn(*args, **kwargs)\n",
      "  File \"/Users/hyraland/anaconda/lib/python3.6/site-packages/zmq/eventloop/zmqstream.py\", line 452, in _handle_events\n",
      "    exc_info=True)\n",
      "  File \"/Users/hyraland/anaconda/lib/python3.6/logging/__init__.py\", line 1335, in error\n",
      "    self._log(ERROR, msg, args, **kwargs)\n",
      "  File \"/Users/hyraland/anaconda/lib/python3.6/logging/__init__.py\", line 1442, in _log\n",
      "    self.handle(record)\n",
      "  File \"/Users/hyraland/anaconda/lib/python3.6/logging/__init__.py\", line 1452, in handle\n",
      "    self.callHandlers(record)\n",
      "  File \"/Users/hyraland/anaconda/lib/python3.6/logging/__init__.py\", line 1514, in callHandlers\n",
      "    hdlr.handle(record)\n",
      "  File \"/Users/hyraland/anaconda/lib/python3.6/logging/__init__.py\", line 863, in handle\n",
      "    self.emit(record)\n",
      "  File \"/Users/hyraland/anaconda/lib/python3.6/logging/__init__.py\", line 998, in emit\n",
      "    self.handleError(record)\n",
      "  File \"/Users/hyraland/anaconda/lib/python3.6/logging/__init__.py\", line 916, in handleError\n",
      "    traceback.print_exception(t, v, tb, None, sys.stderr)\n",
      "  File \"/Users/hyraland/anaconda/lib/python3.6/traceback.py\", line 100, in print_exception\n",
      "    type(value), value, tb, limit=limit).format(chain=chain):\n",
      "  File \"/Users/hyraland/anaconda/lib/python3.6/traceback.py\", line 510, in __init__\n",
      "    self._load_lines()\n",
      "  File \"/Users/hyraland/anaconda/lib/python3.6/traceback.py\", line 522, in _load_lines\n",
      "    self.__context__._load_lines()\n",
      "  File \"/Users/hyraland/anaconda/lib/python3.6/traceback.py\", line 522, in _load_lines\n",
      "    self.__context__._load_lines()\n",
      "  File \"/Users/hyraland/anaconda/lib/python3.6/traceback.py\", line 522, in _load_lines\n",
      "    self.__context__._load_lines()\n",
      "  [Previous line repeated 16 more times]\n",
      "  File \"/Users/hyraland/anaconda/lib/python3.6/traceback.py\", line 520, in _load_lines\n",
      "    frame.line\n",
      "  File \"/Users/hyraland/anaconda/lib/python3.6/traceback.py\", line 282, in line\n",
      "    self._line = linecache.getline(self.filename, self.lineno).strip()\n",
      "  File \"/Users/hyraland/anaconda/lib/python3.6/linecache.py\", line 16, in getline\n",
      "    lines = getlines(filename, module_globals)\n",
      "  File \"/Users/hyraland/anaconda/lib/python3.6/linecache.py\", line 47, in getlines\n",
      "    return updatecache(filename, module_globals)\n",
      "  File \"/Users/hyraland/anaconda/lib/python3.6/linecache.py\", line 103, in updatecache\n",
      "    data = cache[filename][0]()\n",
      "zlib.error: Error -5 while decompressing data: incomplete or truncated stream\n",
      "\n",
      "During handling of the above exception, another exception occurred:\n",
      "\n",
      "Traceback (most recent call last):\n",
      "  File \"/Users/hyraland/anaconda/lib/python3.6/linecache.py\", line 95, in updatecache\n",
      "    stat = os.stat(fullname)\n",
      "NotADirectoryError: [Errno 20] Not a directory: '/Users/hyraland/anaconda/lib/python3.6/site-packages/pydelfi-0.1-py3.6.egg/pydelfi/delfi.py'\n",
      "\n",
      "During handling of the above exception, another exception occurred:\n",
      "\n",
      "Traceback (most recent call last):\n",
      "  File \"/Users/hyraland/anaconda/lib/python3.6/logging/__init__.py\", line 992, in emit\n",
      "    msg = self.format(record)\n",
      "  File \"/Users/hyraland/anaconda/lib/python3.6/logging/__init__.py\", line 838, in format\n",
      "    return fmt.format(record)\n",
      "  File \"/Users/hyraland/anaconda/lib/python3.6/logging/__init__.py\", line 583, in format\n",
      "    record.exc_text = self.formatException(record.exc_info)\n",
      "  File \"/Users/hyraland/anaconda/lib/python3.6/logging/__init__.py\", line 533, in formatException\n",
      "    traceback.print_exception(ei[0], ei[1], tb, None, sio)\n",
      "  File \"/Users/hyraland/anaconda/lib/python3.6/traceback.py\", line 100, in print_exception\n",
      "    type(value), value, tb, limit=limit).format(chain=chain):\n",
      "  File \"/Users/hyraland/anaconda/lib/python3.6/traceback.py\", line 510, in __init__\n",
      "    self._load_lines()\n",
      "  File \"/Users/hyraland/anaconda/lib/python3.6/traceback.py\", line 522, in _load_lines\n",
      "    self.__context__._load_lines()\n",
      "  File \"/Users/hyraland/anaconda/lib/python3.6/traceback.py\", line 522, in _load_lines\n",
      "    self.__context__._load_lines()\n",
      "  File \"/Users/hyraland/anaconda/lib/python3.6/traceback.py\", line 522, in _load_lines\n",
      "    self.__context__._load_lines()\n",
      "  [Previous line repeated 18 more times]\n",
      "  File \"/Users/hyraland/anaconda/lib/python3.6/traceback.py\", line 520, in _load_lines\n",
      "    frame.line\n",
      "  File \"/Users/hyraland/anaconda/lib/python3.6/traceback.py\", line 282, in line\n",
      "    self._line = linecache.getline(self.filename, self.lineno).strip()\n",
      "  File \"/Users/hyraland/anaconda/lib/python3.6/linecache.py\", line 16, in getline\n",
      "    lines = getlines(filename, module_globals)\n",
      "  File \"/Users/hyraland/anaconda/lib/python3.6/linecache.py\", line 47, in getlines\n",
      "    return updatecache(filename, module_globals)\n",
      "  File \"/Users/hyraland/anaconda/lib/python3.6/linecache.py\", line 103, in updatecache\n",
      "    data = cache[filename][0]()\n",
      "zlib.error: Error -5 while decompressing data: incomplete or truncated stream\n",
      "\n",
      "During handling of the above exception, another exception occurred:\n",
      "\n",
      "Traceback (most recent call last):\n",
      "  File \"/Users/hyraland/anaconda/lib/python3.6/linecache.py\", line 95, in updatecache\n"
     ]
    },
    {
     "name": "stderr",
     "output_type": "stream",
     "text": [
      "    stat = os.stat(fullname)\n",
      "NotADirectoryError: [Errno 20] Not a directory: '/Users/hyraland/anaconda/lib/python3.6/site-packages/pydelfi-0.1-py3.6.egg/pydelfi/delfi.py'\n",
      "\n",
      "During handling of the above exception, another exception occurred:\n",
      "\n",
      "Traceback (most recent call last):\n",
      "  File \"/Users/hyraland/anaconda/lib/python3.6/runpy.py\", line 193, in _run_module_as_main\n",
      "    \"__main__\", mod_spec)\n",
      "  File \"/Users/hyraland/anaconda/lib/python3.6/runpy.py\", line 85, in _run_code\n",
      "    exec(code, run_globals)\n",
      "  File \"/Users/hyraland/anaconda/lib/python3.6/site-packages/ipykernel_launcher.py\", line 16, in <module>\n",
      "    app.launch_new_instance()\n",
      "  File \"/Users/hyraland/anaconda/lib/python3.6/site-packages/traitlets/config/application.py\", line 658, in launch_instance\n",
      "    app.start()\n",
      "  File \"/Users/hyraland/anaconda/lib/python3.6/site-packages/ipykernel/kernelapp.py\", line 477, in start\n",
      "    ioloop.IOLoop.instance().start()\n",
      "  File \"/Users/hyraland/anaconda/lib/python3.6/site-packages/zmq/eventloop/ioloop.py\", line 177, in start\n",
      "    super(ZMQIOLoop, self).start()\n",
      "  File \"/Users/hyraland/anaconda/lib/python3.6/site-packages/tornado/ioloop.py\", line 896, in start\n",
      "    self.handle_callback_exception(self._handlers.get(fd))\n",
      "  File \"/Users/hyraland/anaconda/lib/python3.6/site-packages/tornado/ioloop.py\", line 638, in handle_callback_exception\n",
      "    app_log.error(\"Exception in callback %r\", callback, exc_info=True)\n",
      "  File \"/Users/hyraland/anaconda/lib/python3.6/logging/__init__.py\", line 1335, in error\n",
      "    self._log(ERROR, msg, args, **kwargs)\n",
      "  File \"/Users/hyraland/anaconda/lib/python3.6/logging/__init__.py\", line 1442, in _log\n",
      "    self.handle(record)\n",
      "  File \"/Users/hyraland/anaconda/lib/python3.6/logging/__init__.py\", line 1452, in handle\n",
      "    self.callHandlers(record)\n",
      "  File \"/Users/hyraland/anaconda/lib/python3.6/logging/__init__.py\", line 1514, in callHandlers\n",
      "    hdlr.handle(record)\n",
      "  File \"/Users/hyraland/anaconda/lib/python3.6/logging/__init__.py\", line 863, in handle\n",
      "    self.emit(record)\n",
      "  File \"/Users/hyraland/anaconda/lib/python3.6/logging/__init__.py\", line 998, in emit\n",
      "    self.handleError(record)\n",
      "  File \"/Users/hyraland/anaconda/lib/python3.6/logging/__init__.py\", line 916, in handleError\n",
      "    traceback.print_exception(t, v, tb, None, sys.stderr)\n",
      "  File \"/Users/hyraland/anaconda/lib/python3.6/traceback.py\", line 100, in print_exception\n",
      "    type(value), value, tb, limit=limit).format(chain=chain):\n",
      "  File \"/Users/hyraland/anaconda/lib/python3.6/traceback.py\", line 510, in __init__\n",
      "    self._load_lines()\n",
      "  File \"/Users/hyraland/anaconda/lib/python3.6/traceback.py\", line 522, in _load_lines\n",
      "    self.__context__._load_lines()\n",
      "  File \"/Users/hyraland/anaconda/lib/python3.6/traceback.py\", line 522, in _load_lines\n",
      "    self.__context__._load_lines()\n",
      "  File \"/Users/hyraland/anaconda/lib/python3.6/traceback.py\", line 522, in _load_lines\n",
      "    self.__context__._load_lines()\n",
      "  [Previous line repeated 20 more times]\n",
      "  File \"/Users/hyraland/anaconda/lib/python3.6/traceback.py\", line 520, in _load_lines\n",
      "    frame.line\n",
      "  File \"/Users/hyraland/anaconda/lib/python3.6/traceback.py\", line 282, in line\n",
      "    self._line = linecache.getline(self.filename, self.lineno).strip()\n",
      "  File \"/Users/hyraland/anaconda/lib/python3.6/linecache.py\", line 16, in getline\n",
      "    lines = getlines(filename, module_globals)\n",
      "  File \"/Users/hyraland/anaconda/lib/python3.6/linecache.py\", line 47, in getlines\n",
      "    return updatecache(filename, module_globals)\n",
      "  File \"/Users/hyraland/anaconda/lib/python3.6/linecache.py\", line 103, in updatecache\n",
      "    data = cache[filename][0]()\n",
      "zlib.error: Error -5 while decompressing data: incomplete or truncated stream\n"
     ]
    }
   ],
   "source": [
    "DelfiEnsemble.fisher_pretraining()"
   ]
  },
  {
   "cell_type": "markdown",
   "metadata": {
    "slideshow": {
     "slide_type": "slide"
    }
   },
   "source": [
    "## Sequential Neural Likelihood"
   ]
  },
  {
   "cell_type": "code",
   "execution_count": null,
   "metadata": {
    "collapsed": true
   },
   "outputs": [],
   "source": [
    "n_initial = 200\n",
    "n_batch = 200\n",
    "n_populations = 10\n",
    "\n",
    "DelfiEnsemble.sequential_training(simulator, compressor, n_initial, n_batch, n_populations, patience=20,\n",
    "                       save_intermediate_posteriors=False)"
   ]
  },
  {
   "cell_type": "markdown",
   "metadata": {},
   "source": [
    "## Sample the learned posterior"
   ]
  },
  {
   "cell_type": "code",
   "execution_count": null,
   "metadata": {
    "collapsed": true
   },
   "outputs": [],
   "source": [
    "posterior_samples = DelfiEnsemble.emcee_sample()"
   ]
  },
  {
   "cell_type": "markdown",
   "metadata": {},
   "source": [
    "## Alright let's plot it!\n",
    "Feed it a list of `(n_samples, n_parameters)` arrays for making a triangle plot; in this case let's just plot the posterior samples."
   ]
  },
  {
   "cell_type": "code",
   "execution_count": null,
   "metadata": {
    "collapsed": true
   },
   "outputs": [],
   "source": [
    "DelfiEnsemble.triangle_plot(samples=[posterior_samples])"
   ]
  }
 ],
 "metadata": {
  "celltoolbar": "Slideshow",
  "kernelspec": {
   "display_name": "Python 3",
   "language": "python",
   "name": "python3"
  },
  "language_info": {
   "codemirror_mode": {
    "name": "ipython",
    "version": 3
   },
   "file_extension": ".py",
   "mimetype": "text/x-python",
   "name": "python",
   "nbconvert_exporter": "python",
   "pygments_lexer": "ipython3",
   "version": "3.6.1"
  }
 },
 "nbformat": 4,
 "nbformat_minor": 1
}
